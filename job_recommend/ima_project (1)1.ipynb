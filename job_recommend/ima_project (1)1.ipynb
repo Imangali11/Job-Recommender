{
 "cells": [
  {
   "cell_type": "code",
   "execution_count": 2,
   "id": "f67b0bcc",
   "metadata": {},
   "outputs": [],
   "source": [
    "import re\n",
    "import nltk\n",
    "import pandas as pd\n",
    "import numpy as np\n",
    "from tqdm.notebook import tqdm\n",
    "from nltk.stem import WordNetLemmatizer\n",
    "from nltk.corpus import stopwords as nltk_stopwords\n",
    "from sklearn.feature_extraction.text import TfidfVectorizer\n",
    "from scipy import spatial\n",
    "from sklearn.feature_extraction.text import CountVectorizer\n",
    "import warnings\n",
    "warnings.filterwarnings('ignore')"
   ]
  },
  {
   "cell_type": "code",
   "execution_count": 3,
   "id": "9d10c6df",
   "metadata": {},
   "outputs": [],
   "source": [
    "import PyPDF2"
   ]
  },
  {
   "cell_type": "code",
   "execution_count": 4,
   "id": "b95a982b",
   "metadata": {},
   "outputs": [],
   "source": [
    "def extract(pdf_file):\n",
    "    with open(pdf_file, 'rb') as pdf:\n",
    "        reader = PyPDF2.PdfReader(pdf_file, strict=False)\n",
    "        pdf_text = []\n",
    "\n",
    "        for page in reader.pages:\n",
    "            content = page.extract_text()\n",
    "            pdf_text.append(content)\n",
    "\n",
    "        return \" \".join(pdf_text)"
   ]
  },
  {
   "cell_type": "code",
   "execution_count": 5,
   "id": "8cb71afc",
   "metadata": {},
   "outputs": [],
   "source": [
    "myresume = [extract('resumeIA copy.pdf')]"
   ]
  },
  {
   "cell_type": "code",
   "execution_count": 6,
   "id": "243c6988",
   "metadata": {},
   "outputs": [
    {
     "data": {
      "text/html": [
       "<div>\n",
       "<style scoped>\n",
       "    .dataframe tbody tr th:only-of-type {\n",
       "        vertical-align: middle;\n",
       "    }\n",
       "\n",
       "    .dataframe tbody tr th {\n",
       "        vertical-align: top;\n",
       "    }\n",
       "\n",
       "    .dataframe thead th {\n",
       "        text-align: right;\n",
       "    }\n",
       "</style>\n",
       "<table border=\"1\" class=\"dataframe\">\n",
       "  <thead>\n",
       "    <tr style=\"text-align: right;\">\n",
       "      <th></th>\n",
       "      <th>Position</th>\n",
       "      <th>Company</th>\n",
       "      <th>Link</th>\n",
       "      <th>Description</th>\n",
       "    </tr>\n",
       "  </thead>\n",
       "  <tbody>\n",
       "    <tr>\n",
       "      <th>0</th>\n",
       "      <td>Technical Content Developer / writer</td>\n",
       "      <td>Korber Supply Chain</td>\n",
       "      <td>https://uk.indeed.com/pagead/clk?mo=r&amp;ad=-6NYl...</td>\n",
       "      <td>K√∂rber is the home for passionate people who ...</td>\n",
       "    </tr>\n",
       "    <tr>\n",
       "      <th>1</th>\n",
       "      <td>Software Engineer</td>\n",
       "      <td>Vodafone</td>\n",
       "      <td>https://uk.indeed.com/applystart?jk=df516aec25...</td>\n",
       "      <td>Software Engineer \\n\\n\\nLocation: Blended / ho...</td>\n",
       "    </tr>\n",
       "    <tr>\n",
       "      <th>2</th>\n",
       "      <td>Software Support Lead</td>\n",
       "      <td>Acacium Group</td>\n",
       "      <td>https://uk.indeed.com/pagead/clk?mo=r&amp;ad=-6NYl...</td>\n",
       "      <td>CHS Healthcare (part of Acacium Group)\\n Softw...</td>\n",
       "    </tr>\n",
       "    <tr>\n",
       "      <th>3</th>\n",
       "      <td>Backend Software Engineer</td>\n",
       "      <td>Enfuce</td>\n",
       "      <td>https://uk.indeed.com/applystart?jk=cef2e4b90b...</td>\n",
       "      <td>ABOUT US\\n Founded in 2016, Enfuce has become ...</td>\n",
       "    </tr>\n",
       "    <tr>\n",
       "      <th>4</th>\n",
       "      <td>Graduate Software Developer</td>\n",
       "      <td>Townhouse</td>\n",
       "      <td>https://uk.indeed.com/rc/clk?jk=511e448b6c4c01...</td>\n",
       "      <td>About Townhouse\\n Townhouse was created with a...</td>\n",
       "    </tr>\n",
       "    <tr>\n",
       "      <th>5</th>\n",
       "      <td>Development Manager (Permanent Home Working) -...</td>\n",
       "      <td>CET Careers</td>\n",
       "      <td>https://uk.indeed.com/applystart?jk=616fbee4b4...</td>\n",
       "      <td>Working for CET is many things ‚Äì exciting, c...</td>\n",
       "    </tr>\n",
       "    <tr>\n",
       "      <th>6</th>\n",
       "      <td>Software Engineer - Backend - Python</td>\n",
       "      <td>Stuart</td>\n",
       "      <td>https://uk.indeed.com/applystart?jk=420bcf1373...</td>\n",
       "      <td>Stuart (DPD Group) is a sustainable last-mile ...</td>\n",
       "    </tr>\n",
       "    <tr>\n",
       "      <th>7</th>\n",
       "      <td>Software Engineer</td>\n",
       "      <td>WEX Europe Services Ltd</td>\n",
       "      <td>https://uk.indeed.com/company/WEX-Travel/jobs/...</td>\n",
       "      <td>We‚Äôre the International Fleet Development Te...</td>\n",
       "    </tr>\n",
       "    <tr>\n",
       "      <th>8</th>\n",
       "      <td>Software QA Engineer 2</td>\n",
       "      <td>WEX Inc.</td>\n",
       "      <td>https://uk.indeed.com/applystart?jk=815040b84a...</td>\n",
       "      <td>About the Role\\n   As a Software Developer you...</td>\n",
       "    </tr>\n",
       "    <tr>\n",
       "      <th>9</th>\n",
       "      <td>Software Engineer - Backend</td>\n",
       "      <td>Aforza</td>\n",
       "      <td>https://uk.indeed.com/applystart?jk=a5dd4ee97c...</td>\n",
       "      <td>¬£35,000 - ¬£45,000\\nCardiff / Remote\\n Compan...</td>\n",
       "    </tr>\n",
       "  </tbody>\n",
       "</table>\n",
       "</div>"
      ],
      "text/plain": [
       "                                            Position                  Company   \n",
       "0               Technical Content Developer / writer      Korber Supply Chain  \\\n",
       "1                                  Software Engineer                 Vodafone   \n",
       "2                              Software Support Lead            Acacium Group   \n",
       "3                          Backend Software Engineer                   Enfuce   \n",
       "4                        Graduate Software Developer                Townhouse   \n",
       "5  Development Manager (Permanent Home Working) -...              CET Careers   \n",
       "6               Software Engineer - Backend - Python                   Stuart   \n",
       "7                                  Software Engineer  WEX Europe Services Ltd   \n",
       "8                             Software QA Engineer 2                 WEX Inc.   \n",
       "9                        Software Engineer - Backend                   Aforza   \n",
       "\n",
       "                                                Link   \n",
       "0  https://uk.indeed.com/pagead/clk?mo=r&ad=-6NYl...  \\\n",
       "1  https://uk.indeed.com/applystart?jk=df516aec25...   \n",
       "2  https://uk.indeed.com/pagead/clk?mo=r&ad=-6NYl...   \n",
       "3  https://uk.indeed.com/applystart?jk=cef2e4b90b...   \n",
       "4  https://uk.indeed.com/rc/clk?jk=511e448b6c4c01...   \n",
       "5  https://uk.indeed.com/applystart?jk=616fbee4b4...   \n",
       "6  https://uk.indeed.com/applystart?jk=420bcf1373...   \n",
       "7  https://uk.indeed.com/company/WEX-Travel/jobs/...   \n",
       "8  https://uk.indeed.com/applystart?jk=815040b84a...   \n",
       "9  https://uk.indeed.com/applystart?jk=a5dd4ee97c...   \n",
       "\n",
       "                                         Description  \n",
       "0  K√∂rber is the home for passionate people who ...  \n",
       "1  Software Engineer \\n\\n\\nLocation: Blended / ho...  \n",
       "2  CHS Healthcare (part of Acacium Group)\\n Softw...  \n",
       "3  ABOUT US\\n Founded in 2016, Enfuce has become ...  \n",
       "4  About Townhouse\\n Townhouse was created with a...  \n",
       "5  Working for CET is many things ‚Äì exciting, c...  \n",
       "6  Stuart (DPD Group) is a sustainable last-mile ...  \n",
       "7  We‚Äôre the International Fleet Development Te...  \n",
       "8  About the Role\\n   As a Software Developer you...  \n",
       "9  ¬£35,000 - ¬£45,000\\nCardiff / Remote\\n Compan...  "
      ]
     },
     "metadata": {},
     "output_type": "display_data"
    }
   ],
   "source": [
    "data = pd.read_csv('jobs.csv')\n",
    "display(data.head(10))"
   ]
  },
  {
   "cell_type": "code",
   "execution_count": 7,
   "id": "28cf1f18",
   "metadata": {},
   "outputs": [
    {
     "name": "stdout",
     "output_type": "stream",
     "text": [
      "<class 'pandas.core.frame.DataFrame'>\n",
      "RangeIndex: 3000 entries, 0 to 2999\n",
      "Data columns (total 4 columns):\n",
      " #   Column       Non-Null Count  Dtype \n",
      "---  ------       --------------  ----- \n",
      " 0   Position     3000 non-null   object\n",
      " 1   Company      3000 non-null   object\n",
      " 2   Link         3000 non-null   object\n",
      " 3   Description  3000 non-null   object\n",
      "dtypes: object(4)\n",
      "memory usage: 93.9+ KB\n"
     ]
    },
    {
     "data": {
      "text/plain": [
       "None"
      ]
     },
     "metadata": {},
     "output_type": "display_data"
    }
   ],
   "source": [
    "display(data.info())"
   ]
  },
  {
   "cell_type": "code",
   "execution_count": 8,
   "id": "82bf6ce9",
   "metadata": {},
   "outputs": [],
   "source": [
    "duplicates = []\n",
    "dup_bool = list(data['Description'].duplicated())\n",
    "for i in range(len(dup_bool)):\n",
    "    if dup_bool[i]:\n",
    "        duplicates.append(i)"
   ]
  },
  {
   "cell_type": "code",
   "execution_count": 9,
   "id": "75bb0226",
   "metadata": {},
   "outputs": [
    {
     "data": {
      "text/plain": [
       "[15,\n",
       " 18,\n",
       " 31,\n",
       " 33,\n",
       " 42,\n",
       " 58,\n",
       " 60,\n",
       " 62,\n",
       " 105,\n",
       " 106,\n",
       " 120,\n",
       " 121,\n",
       " 126,\n",
       " 136,\n",
       " 149,\n",
       " 150,\n",
       " 151,\n",
       " 153,\n",
       " 155,\n",
       " 165,\n",
       " 169,\n",
       " 174,\n",
       " 181,\n",
       " 182,\n",
       " 185,\n",
       " 186,\n",
       " 193,\n",
       " 197,\n",
       " 221,\n",
       " 227,\n",
       " 241,\n",
       " 242,\n",
       " 245,\n",
       " 260,\n",
       " 262,\n",
       " 264,\n",
       " 268,\n",
       " 270,\n",
       " 272,\n",
       " 273,\n",
       " 279,\n",
       " 285,\n",
       " 286,\n",
       " 300,\n",
       " 304,\n",
       " 310,\n",
       " 319,\n",
       " 321,\n",
       " 324,\n",
       " 326,\n",
       " 332,\n",
       " 334,\n",
       " 335,\n",
       " 336,\n",
       " 338,\n",
       " 339,\n",
       " 342,\n",
       " 345,\n",
       " 346,\n",
       " 351,\n",
       " 352,\n",
       " 359,\n",
       " 360,\n",
       " 361,\n",
       " 362,\n",
       " 363,\n",
       " 365,\n",
       " 375,\n",
       " 379,\n",
       " 380,\n",
       " 398,\n",
       " 402,\n",
       " 407,\n",
       " 408,\n",
       " 413,\n",
       " 415,\n",
       " 417,\n",
       " 420,\n",
       " 426,\n",
       " 427,\n",
       " 433,\n",
       " 441,\n",
       " 446,\n",
       " 453,\n",
       " 454,\n",
       " 456,\n",
       " 458,\n",
       " 465,\n",
       " 467,\n",
       " 468,\n",
       " 488,\n",
       " 494,\n",
       " 495,\n",
       " 496,\n",
       " 497,\n",
       " 498,\n",
       " 499,\n",
       " 512,\n",
       " 525,\n",
       " 526,\n",
       " 529,\n",
       " 534,\n",
       " 551,\n",
       " 558,\n",
       " 579,\n",
       " 600,\n",
       " 630,\n",
       " 660,\n",
       " 661,\n",
       " 665,\n",
       " 669,\n",
       " 675,\n",
       " 678,\n",
       " 680,\n",
       " 690,\n",
       " 691,\n",
       " 708,\n",
       " 709,\n",
       " 711,\n",
       " 715,\n",
       " 716,\n",
       " 717,\n",
       " 722,\n",
       " 730,\n",
       " 732,\n",
       " 736,\n",
       " 739,\n",
       " 747,\n",
       " 750,\n",
       " 763,\n",
       " 764,\n",
       " 769,\n",
       " 770,\n",
       " 771,\n",
       " 774,\n",
       " 778,\n",
       " 780,\n",
       " 782,\n",
       " 785,\n",
       " 789,\n",
       " 802,\n",
       " 804,\n",
       " 805,\n",
       " 808,\n",
       " 809,\n",
       " 811,\n",
       " 812,\n",
       " 814,\n",
       " 816,\n",
       " 820,\n",
       " 825,\n",
       " 830,\n",
       " 834,\n",
       " 842,\n",
       " 846,\n",
       " 855,\n",
       " 856,\n",
       " 858,\n",
       " 862,\n",
       " 869,\n",
       " 870,\n",
       " 871,\n",
       " 874,\n",
       " 875,\n",
       " 881,\n",
       " 885,\n",
       " 888,\n",
       " 893,\n",
       " 899,\n",
       " 901,\n",
       " 902,\n",
       " 911,\n",
       " 915,\n",
       " 921,\n",
       " 930,\n",
       " 934,\n",
       " 939,\n",
       " 942,\n",
       " 943,\n",
       " 945,\n",
       " 946,\n",
       " 947,\n",
       " 950,\n",
       " 954,\n",
       " 956,\n",
       " 957,\n",
       " 959,\n",
       " 960,\n",
       " 963,\n",
       " 965,\n",
       " 972,\n",
       " 976,\n",
       " 977,\n",
       " 978,\n",
       " 981,\n",
       " 985,\n",
       " 989,\n",
       " 990,\n",
       " 995,\n",
       " 1005,\n",
       " 1006,\n",
       " 1052,\n",
       " 1075,\n",
       " 1087,\n",
       " 1096,\n",
       " 1097,\n",
       " 1098,\n",
       " 1099,\n",
       " 1100,\n",
       " 1101,\n",
       " 1105,\n",
       " 1122,\n",
       " 1126,\n",
       " 1140,\n",
       " 1142,\n",
       " 1151,\n",
       " 1157,\n",
       " 1159,\n",
       " 1160,\n",
       " 1171,\n",
       " 1187,\n",
       " 1188,\n",
       " 1195,\n",
       " 1199,\n",
       " 1200,\n",
       " 1202,\n",
       " 1203,\n",
       " 1204,\n",
       " 1206,\n",
       " 1208,\n",
       " 1216,\n",
       " 1218,\n",
       " 1219,\n",
       " 1222,\n",
       " 1233,\n",
       " 1234,\n",
       " 1235,\n",
       " 1242,\n",
       " 1250,\n",
       " 1252,\n",
       " 1255,\n",
       " 1258,\n",
       " 1290,\n",
       " 1294,\n",
       " 1305,\n",
       " 1306,\n",
       " 1307,\n",
       " 1308,\n",
       " 1309,\n",
       " 1313,\n",
       " 1316,\n",
       " 1319,\n",
       " 1325,\n",
       " 1328,\n",
       " 1339,\n",
       " 1340,\n",
       " 1341,\n",
       " 1342,\n",
       " 1346,\n",
       " 1347,\n",
       " 1348,\n",
       " 1351,\n",
       " 1365,\n",
       " 1366,\n",
       " 1380,\n",
       " 1411,\n",
       " 1421,\n",
       " 1425,\n",
       " 1431,\n",
       " 1437,\n",
       " 1441,\n",
       " 1442,\n",
       " 1450,\n",
       " 1451,\n",
       " 1456,\n",
       " 1460,\n",
       " 1470,\n",
       " 1472,\n",
       " 1474,\n",
       " 1475,\n",
       " 1485,\n",
       " 1493,\n",
       " 1496,\n",
       " 1506,\n",
       " 1511,\n",
       " 1512,\n",
       " 1515,\n",
       " 1516,\n",
       " 1517,\n",
       " 1520,\n",
       " 1523,\n",
       " 1531,\n",
       " 1532,\n",
       " 1533,\n",
       " 1541,\n",
       " 1557,\n",
       " 1560,\n",
       " 1561,\n",
       " 1562,\n",
       " 1565,\n",
       " 1566,\n",
       " 1582,\n",
       " 1590,\n",
       " 1602,\n",
       " 1608,\n",
       " 1617,\n",
       " 1621,\n",
       " 1622,\n",
       " 1623,\n",
       " 1625,\n",
       " 1626,\n",
       " 1627,\n",
       " 1637,\n",
       " 1638,\n",
       " 1640,\n",
       " 1642,\n",
       " 1645,\n",
       " 1650,\n",
       " 1653,\n",
       " 1654,\n",
       " 1658,\n",
       " 1664,\n",
       " 1665,\n",
       " 1666,\n",
       " 1667,\n",
       " 1668,\n",
       " 1669,\n",
       " 1672,\n",
       " 1673,\n",
       " 1674,\n",
       " 1678,\n",
       " 1684,\n",
       " 1686,\n",
       " 1696,\n",
       " 1697,\n",
       " 1698,\n",
       " 1699,\n",
       " 1709,\n",
       " 1711,\n",
       " 1712,\n",
       " 1713,\n",
       " 1719,\n",
       " 1722,\n",
       " 1727,\n",
       " 1736,\n",
       " 1737,\n",
       " 1739,\n",
       " 1747,\n",
       " 1748,\n",
       " 1755,\n",
       " 1759,\n",
       " 1770,\n",
       " 1771,\n",
       " 1790,\n",
       " 1794,\n",
       " 1800,\n",
       " 1801,\n",
       " 1804,\n",
       " 1812,\n",
       " 1814,\n",
       " 1820,\n",
       " 1821,\n",
       " 1826,\n",
       " 1830,\n",
       " 1833,\n",
       " 1836,\n",
       " 1839,\n",
       " 1846,\n",
       " 1852,\n",
       " 1855,\n",
       " 1859,\n",
       " 1860,\n",
       " 1862,\n",
       " 1865,\n",
       " 1867,\n",
       " 1872,\n",
       " 1875,\n",
       " 1877,\n",
       " 1879,\n",
       " 1882,\n",
       " 1887,\n",
       " 1890,\n",
       " 1894,\n",
       " 1895,\n",
       " 1905,\n",
       " 1906,\n",
       " 1907,\n",
       " 1910,\n",
       " 1913,\n",
       " 1927,\n",
       " 1933,\n",
       " 1935,\n",
       " 1949,\n",
       " 1953,\n",
       " 1964,\n",
       " 1973,\n",
       " 1984,\n",
       " 1985,\n",
       " 1993,\n",
       " 1998,\n",
       " 2002,\n",
       " 2006,\n",
       " 2007,\n",
       " 2025,\n",
       " 2026,\n",
       " 2027,\n",
       " 2028,\n",
       " 2031,\n",
       " 2044,\n",
       " 2045,\n",
       " 2047,\n",
       " 2048,\n",
       " 2051,\n",
       " 2056,\n",
       " 2060,\n",
       " 2061,\n",
       " 2063,\n",
       " 2064,\n",
       " 2068,\n",
       " 2072,\n",
       " 2084,\n",
       " 2086,\n",
       " 2091,\n",
       " 2093,\n",
       " 2094,\n",
       " 2099,\n",
       " 2101,\n",
       " 2108,\n",
       " 2109,\n",
       " 2112,\n",
       " 2116,\n",
       " 2117,\n",
       " 2119,\n",
       " 2120,\n",
       " 2124,\n",
       " 2125,\n",
       " 2129,\n",
       " 2133,\n",
       " 2136,\n",
       " 2145,\n",
       " 2153,\n",
       " 2160,\n",
       " 2161,\n",
       " 2163,\n",
       " 2167,\n",
       " 2168,\n",
       " 2169,\n",
       " 2177,\n",
       " 2179,\n",
       " 2180,\n",
       " 2182,\n",
       " 2184,\n",
       " 2189,\n",
       " 2190,\n",
       " 2193,\n",
       " 2195,\n",
       " 2198,\n",
       " 2199,\n",
       " 2207,\n",
       " 2208,\n",
       " 2209,\n",
       " 2215,\n",
       " 2221,\n",
       " 2223,\n",
       " 2225,\n",
       " 2228,\n",
       " 2233,\n",
       " 2235,\n",
       " 2237,\n",
       " 2257,\n",
       " 2258,\n",
       " 2259,\n",
       " 2260,\n",
       " 2263,\n",
       " 2265,\n",
       " 2267,\n",
       " 2269,\n",
       " 2277,\n",
       " 2280,\n",
       " 2282,\n",
       " 2287,\n",
       " 2288,\n",
       " 2290,\n",
       " 2298,\n",
       " 2305,\n",
       " 2307,\n",
       " 2313,\n",
       " 2314,\n",
       " 2315,\n",
       " 2317,\n",
       " 2320,\n",
       " 2325,\n",
       " 2329,\n",
       " 2331,\n",
       " 2332,\n",
       " 2336,\n",
       " 2341,\n",
       " 2345,\n",
       " 2350,\n",
       " 2355,\n",
       " 2356,\n",
       " 2357,\n",
       " 2375,\n",
       " 2377,\n",
       " 2381,\n",
       " 2387,\n",
       " 2388,\n",
       " 2389,\n",
       " 2391,\n",
       " 2395,\n",
       " 2400,\n",
       " 2405,\n",
       " 2407,\n",
       " 2409,\n",
       " 2421,\n",
       " 2422,\n",
       " 2430,\n",
       " 2431,\n",
       " 2433,\n",
       " 2444,\n",
       " 2445,\n",
       " 2491,\n",
       " 2502,\n",
       " 2503,\n",
       " 2505,\n",
       " 2512,\n",
       " 2520,\n",
       " 2521,\n",
       " 2523,\n",
       " 2526,\n",
       " 2528,\n",
       " 2533,\n",
       " 2535,\n",
       " 2538,\n",
       " 2552,\n",
       " 2553,\n",
       " 2554,\n",
       " 2571,\n",
       " 2572,\n",
       " 2573,\n",
       " 2577,\n",
       " 2581,\n",
       " 2583,\n",
       " 2595,\n",
       " 2613,\n",
       " 2615,\n",
       " 2616,\n",
       " 2620,\n",
       " 2629,\n",
       " 2631,\n",
       " 2635,\n",
       " 2638,\n",
       " 2663,\n",
       " 2668,\n",
       " 2674,\n",
       " 2675,\n",
       " 2693,\n",
       " 2700,\n",
       " 2701,\n",
       " 2706,\n",
       " 2708,\n",
       " 2712,\n",
       " 2725,\n",
       " 2730,\n",
       " 2735,\n",
       " 2747,\n",
       " 2753,\n",
       " 2756,\n",
       " 2760,\n",
       " 2761,\n",
       " 2763,\n",
       " 2768,\n",
       " 2772,\n",
       " 2835,\n",
       " 2838,\n",
       " 2839,\n",
       " 2868,\n",
       " 2869,\n",
       " 2895,\n",
       " 2913,\n",
       " 2916,\n",
       " 2925,\n",
       " 2932,\n",
       " 2973,\n",
       " 2986,\n",
       " 2987,\n",
       " 2999]"
      ]
     },
     "execution_count": 9,
     "metadata": {},
     "output_type": "execute_result"
    }
   ],
   "source": [
    "duplicates"
   ]
  },
  {
   "cell_type": "code",
   "execution_count": 10,
   "id": "4b8786ad",
   "metadata": {},
   "outputs": [
    {
     "data": {
      "text/html": [
       "<div>\n",
       "<style scoped>\n",
       "    .dataframe tbody tr th:only-of-type {\n",
       "        vertical-align: middle;\n",
       "    }\n",
       "\n",
       "    .dataframe tbody tr th {\n",
       "        vertical-align: top;\n",
       "    }\n",
       "\n",
       "    .dataframe thead th {\n",
       "        text-align: right;\n",
       "    }\n",
       "</style>\n",
       "<table border=\"1\" class=\"dataframe\">\n",
       "  <thead>\n",
       "    <tr style=\"text-align: right;\">\n",
       "      <th></th>\n",
       "      <th>Position</th>\n",
       "      <th>Company</th>\n",
       "      <th>Link</th>\n",
       "      <th>Description</th>\n",
       "    </tr>\n",
       "  </thead>\n",
       "  <tbody>\n",
       "    <tr>\n",
       "      <th>0</th>\n",
       "      <td>Technical Content Developer / writer</td>\n",
       "      <td>Korber Supply Chain</td>\n",
       "      <td>https://uk.indeed.com/pagead/clk?mo=r&amp;ad=-6NYl...</td>\n",
       "      <td>K√∂rber is the home for passionate people who ...</td>\n",
       "    </tr>\n",
       "    <tr>\n",
       "      <th>1</th>\n",
       "      <td>Software Engineer</td>\n",
       "      <td>Vodafone</td>\n",
       "      <td>https://uk.indeed.com/applystart?jk=df516aec25...</td>\n",
       "      <td>Software Engineer \\n\\n\\nLocation: Blended / ho...</td>\n",
       "    </tr>\n",
       "    <tr>\n",
       "      <th>2</th>\n",
       "      <td>Software Support Lead</td>\n",
       "      <td>Acacium Group</td>\n",
       "      <td>https://uk.indeed.com/pagead/clk?mo=r&amp;ad=-6NYl...</td>\n",
       "      <td>CHS Healthcare (part of Acacium Group)\\n Softw...</td>\n",
       "    </tr>\n",
       "    <tr>\n",
       "      <th>3</th>\n",
       "      <td>Backend Software Engineer</td>\n",
       "      <td>Enfuce</td>\n",
       "      <td>https://uk.indeed.com/applystart?jk=cef2e4b90b...</td>\n",
       "      <td>ABOUT US\\n Founded in 2016, Enfuce has become ...</td>\n",
       "    </tr>\n",
       "    <tr>\n",
       "      <th>4</th>\n",
       "      <td>Graduate Software Developer</td>\n",
       "      <td>Townhouse</td>\n",
       "      <td>https://uk.indeed.com/rc/clk?jk=511e448b6c4c01...</td>\n",
       "      <td>About Townhouse\\n Townhouse was created with a...</td>\n",
       "    </tr>\n",
       "    <tr>\n",
       "      <th>...</th>\n",
       "      <td>...</td>\n",
       "      <td>...</td>\n",
       "      <td>...</td>\n",
       "      <td>...</td>\n",
       "    </tr>\n",
       "    <tr>\n",
       "      <th>2408</th>\n",
       "      <td>Finance Analyst</td>\n",
       "      <td>PureGym Limited</td>\n",
       "      <td>https://uk.indeed.com/pagead/clk?mo=r&amp;ad=-6NYl...</td>\n",
       "      <td>The PureGym Group is the UKs largest gym opera...</td>\n",
       "    </tr>\n",
       "    <tr>\n",
       "      <th>2409</th>\n",
       "      <td>Data Protection Officer</td>\n",
       "      <td>BCT Resourcing</td>\n",
       "      <td>https://uk.indeed.com/applystart?jk=a6b9dec315...</td>\n",
       "      <td>We are looking for a Data Protection Officer t...</td>\n",
       "    </tr>\n",
       "    <tr>\n",
       "      <th>2410</th>\n",
       "      <td>P2P and Master Data Manager</td>\n",
       "      <td>Robert Half</td>\n",
       "      <td>https://uk.indeed.com/pagead/clk?mo=r&amp;ad=-6NYl...</td>\n",
       "      <td>Robert Half is partnering exclusively with one...</td>\n",
       "    </tr>\n",
       "    <tr>\n",
       "      <th>2411</th>\n",
       "      <td>Ecommerce Product Data Administrator Apprentice</td>\n",
       "      <td>QA Apprenticeships</td>\n",
       "      <td>https://uk.indeed.com/applystart?jk=975e1e47c6...</td>\n",
       "      <td>Employer description: ZLT Electrical are a fas...</td>\n",
       "    </tr>\n",
       "    <tr>\n",
       "      <th>2412</th>\n",
       "      <td>Data Admin</td>\n",
       "      <td>Lawrence Dean Recruitment</td>\n",
       "      <td>https://uk.indeed.com/pagead/clk?mo=r&amp;ad=-6NYl...</td>\n",
       "      <td>Our client a busy service orientated company b...</td>\n",
       "    </tr>\n",
       "  </tbody>\n",
       "</table>\n",
       "<p>2413 rows × 4 columns</p>\n",
       "</div>"
      ],
      "text/plain": [
       "                                             Position   \n",
       "0                Technical Content Developer / writer  \\\n",
       "1                                   Software Engineer   \n",
       "2                               Software Support Lead   \n",
       "3                           Backend Software Engineer   \n",
       "4                         Graduate Software Developer   \n",
       "...                                               ...   \n",
       "2408                                  Finance Analyst   \n",
       "2409                          Data Protection Officer   \n",
       "2410                      P2P and Master Data Manager   \n",
       "2411  Ecommerce Product Data Administrator Apprentice   \n",
       "2412                                       Data Admin   \n",
       "\n",
       "                        Company   \n",
       "0           Korber Supply Chain  \\\n",
       "1                      Vodafone   \n",
       "2                 Acacium Group   \n",
       "3                        Enfuce   \n",
       "4                     Townhouse   \n",
       "...                         ...   \n",
       "2408            PureGym Limited   \n",
       "2409             BCT Resourcing   \n",
       "2410                Robert Half   \n",
       "2411         QA Apprenticeships   \n",
       "2412  Lawrence Dean Recruitment   \n",
       "\n",
       "                                                   Link   \n",
       "0     https://uk.indeed.com/pagead/clk?mo=r&ad=-6NYl...  \\\n",
       "1     https://uk.indeed.com/applystart?jk=df516aec25...   \n",
       "2     https://uk.indeed.com/pagead/clk?mo=r&ad=-6NYl...   \n",
       "3     https://uk.indeed.com/applystart?jk=cef2e4b90b...   \n",
       "4     https://uk.indeed.com/rc/clk?jk=511e448b6c4c01...   \n",
       "...                                                 ...   \n",
       "2408  https://uk.indeed.com/pagead/clk?mo=r&ad=-6NYl...   \n",
       "2409  https://uk.indeed.com/applystart?jk=a6b9dec315...   \n",
       "2410  https://uk.indeed.com/pagead/clk?mo=r&ad=-6NYl...   \n",
       "2411  https://uk.indeed.com/applystart?jk=975e1e47c6...   \n",
       "2412  https://uk.indeed.com/pagead/clk?mo=r&ad=-6NYl...   \n",
       "\n",
       "                                            Description  \n",
       "0     K√∂rber is the home for passionate people who ...  \n",
       "1     Software Engineer \\n\\n\\nLocation: Blended / ho...  \n",
       "2     CHS Healthcare (part of Acacium Group)\\n Softw...  \n",
       "3     ABOUT US\\n Founded in 2016, Enfuce has become ...  \n",
       "4     About Townhouse\\n Townhouse was created with a...  \n",
       "...                                                 ...  \n",
       "2408  The PureGym Group is the UKs largest gym opera...  \n",
       "2409  We are looking for a Data Protection Officer t...  \n",
       "2410  Robert Half is partnering exclusively with one...  \n",
       "2411  Employer description: ZLT Electrical are a fas...  \n",
       "2412  Our client a busy service orientated company b...  \n",
       "\n",
       "[2413 rows x 4 columns]"
      ]
     },
     "execution_count": 10,
     "metadata": {},
     "output_type": "execute_result"
    }
   ],
   "source": [
    "data = data.drop(index=duplicates)\n",
    "data = data.reset_index(drop=True)\n",
    "initial_data = data\n",
    "data"
   ]
  },
  {
   "cell_type": "code",
   "execution_count": 11,
   "id": "3d925f60",
   "metadata": {},
   "outputs": [
    {
     "data": {
      "text/plain": [
       "2903"
      ]
     },
     "execution_count": 11,
     "metadata": {},
     "output_type": "execute_result"
    }
   ],
   "source": [
    "len(data['Description'][4])"
   ]
  },
  {
   "cell_type": "code",
   "execution_count": 12,
   "id": "3700115b",
   "metadata": {},
   "outputs": [
    {
     "data": {
      "text/html": [
       "<div>\n",
       "<style scoped>\n",
       "    .dataframe tbody tr th:only-of-type {\n",
       "        vertical-align: middle;\n",
       "    }\n",
       "\n",
       "    .dataframe tbody tr th {\n",
       "        vertical-align: top;\n",
       "    }\n",
       "\n",
       "    .dataframe thead th {\n",
       "        text-align: right;\n",
       "    }\n",
       "</style>\n",
       "<table border=\"1\" class=\"dataframe\">\n",
       "  <thead>\n",
       "    <tr style=\"text-align: right;\">\n",
       "      <th></th>\n",
       "      <th>Text</th>\n",
       "    </tr>\n",
       "  </thead>\n",
       "  <tbody>\n",
       "    <tr>\n",
       "      <th>0</th>\n",
       "      <td>SUMMARY\\n\\n\\n\\t7 years of experience in Inform...</td>\n",
       "    </tr>\n",
       "    <tr>\n",
       "      <th>1</th>\n",
       "      <td>SUMMARY\\n\\n\\n\\tOver ten years of experience in...</td>\n",
       "    </tr>\n",
       "    <tr>\n",
       "      <th>2</th>\n",
       "      <td>SUMMARY\\n\\n\\n\\tHaving 7+ years of IT industry ...</td>\n",
       "    </tr>\n",
       "    <tr>\n",
       "      <th>3</th>\n",
       "      <td>SUMMARY\\n\\n\\n\\t8 years experience in analyzing...</td>\n",
       "    </tr>\n",
       "    <tr>\n",
       "      <th>4</th>\n",
       "      <td>SUMMARY\\n\\n\\n\\tA Microsoft Certified Senior .N...</td>\n",
       "    </tr>\n",
       "  </tbody>\n",
       "</table>\n",
       "</div>"
      ],
      "text/plain": [
       "                                                Text\n",
       "0  SUMMARY\\n\\n\\n\\t7 years of experience in Inform...\n",
       "1  SUMMARY\\n\\n\\n\\tOver ten years of experience in...\n",
       "2  SUMMARY\\n\\n\\n\\tHaving 7+ years of IT industry ...\n",
       "3  SUMMARY\\n\\n\\n\\t8 years experience in analyzing...\n",
       "4  SUMMARY\\n\\n\\n\\tA Microsoft Certified Senior .N..."
      ]
     },
     "metadata": {},
     "output_type": "display_data"
    }
   ],
   "source": [
    "resumes = pd.read_csv('resumes.csv')\n",
    "initial_resumes = resumes\n",
    "display(resumes.head())"
   ]
  },
  {
   "cell_type": "code",
   "execution_count": 13,
   "id": "a02ca04f",
   "metadata": {},
   "outputs": [
    {
     "name": "stdout",
     "output_type": "stream",
     "text": [
      "<class 'pandas.core.frame.DataFrame'>\n",
      "RangeIndex: 687 entries, 0 to 686\n",
      "Data columns (total 1 columns):\n",
      " #   Column  Non-Null Count  Dtype \n",
      "---  ------  --------------  ----- \n",
      " 0   Text    687 non-null    object\n",
      "dtypes: object(1)\n",
      "memory usage: 5.5+ KB\n"
     ]
    }
   ],
   "source": [
    "resumes. info()"
   ]
  },
  {
   "cell_type": "code",
   "execution_count": 14,
   "id": "4772af1f",
   "metadata": {},
   "outputs": [
    {
     "data": {
      "text/plain": [
       "0"
      ]
     },
     "execution_count": 14,
     "metadata": {},
     "output_type": "execute_result"
    }
   ],
   "source": [
    "resumes.duplicated().sum()"
   ]
  },
  {
   "cell_type": "code",
   "execution_count": 15,
   "id": "0ac5083f",
   "metadata": {},
   "outputs": [],
   "source": [
    "def clear_text(text):\n",
    "    ind = text.find('enefit')\n",
    "    if ind<200:\n",
    "        ind = text.find('enefit',200)\n",
    "    clear_text = text[:ind-1] if ind!=-1 else text\n",
    "    clear_text = re.sub('</\\[^>*]>?&$@!¬∑Ääìô', ' ', clear_text)\n",
    "    clear_text = clear_text.lower()\n",
    "    replacables=[\"äôre\",\"äôs\",\"äôll\",\"äôd\",\"äôt\",\"äô\",\"äò\",\"‚\",\",\",\"?\",\":\",\"(\",\")\"]\n",
    "    for i in replacables:\n",
    "        clear_text = clear_text.replace(i,\"\")\n",
    "    return ' '.join(clear_text.split())"
   ]
  },
  {
   "cell_type": "code",
   "execution_count": 16,
   "id": "a6733a33",
   "metadata": {},
   "outputs": [],
   "source": [
    "def remove_benefit(text):\n",
    "    ind = text.find('enefit')\n",
    "    if ind<200:\n",
    "        ind = text.find('enefit',200)\n",
    "    return text[:ind-1] if ind!=-1 else text"
   ]
  },
  {
   "cell_type": "code",
   "execution_count": 17,
   "id": "0aa1b31b",
   "metadata": {},
   "outputs": [
    {
     "name": "stderr",
     "output_type": "stream",
     "text": [
      "[nltk_data] Downloading package wordnet to /Users/akhat/nltk_data...\n",
      "[nltk_data]   Package wordnet is already up-to-date!\n"
     ]
    }
   ],
   "source": [
    "nltk.download('wordnet')\n",
    "lemmatizer = WordNetLemmatizer()\n",
    "\n",
    "def lemmatize(text):\n",
    "    word_list = nltk.word_tokenize(text)\n",
    "    try:\n",
    "        while True:\n",
    "            word_list.remove(\".\")\n",
    "    except ValueError:\n",
    "        pass\n",
    "    return ' '.join([lemmatizer.lemmatize(w) for w in word_list])"
   ]
  },
  {
   "cell_type": "code",
   "execution_count": 18,
   "id": "6dee1dd1",
   "metadata": {},
   "outputs": [],
   "source": [
    "def modify_text(data):\n",
    "    corpus = list(data)\n",
    "    for i in tqdm(range(len(corpus))):\n",
    "        corpus[i] = lemmatize(clear_text(corpus[i]))\n",
    "    return corpus"
   ]
  },
  {
   "cell_type": "code",
   "execution_count": 19,
   "id": "b6e15291",
   "metadata": {},
   "outputs": [],
   "source": [
    "datas = data['Description']"
   ]
  },
  {
   "cell_type": "code",
   "execution_count": 20,
   "id": "e2236ba9",
   "metadata": {},
   "outputs": [
    {
     "data": {
      "application/vnd.jupyter.widget-view+json": {
       "model_id": "462ff86f260f45e4920a2cec26ce120d",
       "version_major": 2,
       "version_minor": 0
      },
      "text/plain": [
       "  0%|          | 0/2413 [00:00<?, ?it/s]"
      ]
     },
     "metadata": {},
     "output_type": "display_data"
    },
    {
     "name": "stdout",
     "output_type": "stream",
     "text": [
      "CPU times: user 7.87 s, sys: 205 ms, total: 8.08 s\n",
      "Wall time: 8.15 s\n"
     ]
    }
   ],
   "source": [
    "%%time\n",
    "corpus = modify_text(datas)"
   ]
  },
  {
   "cell_type": "code",
   "execution_count": 21,
   "id": "00d01074",
   "metadata": {},
   "outputs": [],
   "source": [
    "# nltk.download('stopwords')\n",
    "# stopwords = set(nltk_stopwords.words('english'))\n",
    "\n",
    "# count = CountVectorizer(stop_words=stopwords, ngram_range = (1,1))\n",
    "\n",
    "# vector_data =  count.fit_transform(corpus)"
   ]
  },
  {
   "cell_type": "code",
   "execution_count": 22,
   "id": "a6a5238f",
   "metadata": {},
   "outputs": [],
   "source": [
    "# nltk.download('omw-1.4')"
   ]
  },
  {
   "cell_type": "code",
   "execution_count": 23,
   "metadata": {},
   "outputs": [],
   "source": [
    "# 'benefi'.find('benefit',2)"
   ]
  },
  {
   "cell_type": "code",
   "execution_count": 24,
   "id": "a43852ea",
   "metadata": {},
   "outputs": [
    {
     "data": {
      "text/plain": [
       "'software engineer location blended / home working salary competitive + vodafone benefit working pattern term time only term time working week = 41.6 i.e 41 week and 3 day with annual leave = 168 hour approx 22.4 day non-working week = 10.4 i.e 10 week and 2 day to be taken during school holiday this role is ideal for someone who is looking to juggle work life & home life if you have a young family caring responsibility or kid that are currently attending school please find more information below term time working we are excited to be offering term time work schedule in our software engineering team to support with our mission to create the future term time working is part of our flexible working policy and offer employee the opportunity to have time off during the school holiday vodafone is an inclusive employer and we recognise the importance of work-life balance and establishing new routine to support our employee in balancing work with personal commitment blended vodafone uk blended working approach mean you come to your contracted hub location office a and when needed to get thing done for your role and for task that require it otherwise you will be able to work from home our office in a box home-working kit will be available for all who need it during your onboarding journey we innovate invent and continuously improve vodafone uk digital work within the heart of our business empowering vodafone mission of being a digital-first company is in everything we do what will you be doing you will have hand on development of micro-services a part of a development squad using scrum/kanban you will drive the quality and performance of owned micro-services through the use of standard and best practice you will establish a culture of continuous improvement through learning training and coaching you will ensure quality is at the heart of everything you and your team doe who are we looking for you will have experience in designing and developing restful apis within a micro-services architecture you will have extensive commercial experience of java jee and java servlets you will have practical knowledge of working in scrum or other agile practice you will have a passion for finding solution to problem that haven been solved before worried that you don meet all the desired criterion exactly at vodafone we are passionate about inclusion for all and creating a workplace where everyone can thrive whatever their personal or professional background so if you excited about this role but your past experience doesn align exactly with every part of the job description we would encourage you to apply a you may be just the right candidate for this role or another role and our recruitment team can help see how your skill fit in what in it for you an excellent remuneration and bonus package with 28 day holiday entitlement in addition to bank holiday and paid leave for charity project we offer an extensive'"
      ]
     },
     "execution_count": 24,
     "metadata": {},
     "output_type": "execute_result"
    }
   ],
   "source": [
    "corpus[1]"
   ]
  },
  {
   "cell_type": "code",
   "execution_count": 25,
   "id": "521d68fb",
   "metadata": {},
   "outputs": [
    {
     "name": "stderr",
     "output_type": "stream",
     "text": [
      "[nltk_data] Downloading package stopwords to /Users/akhat/nltk_data...\n",
      "[nltk_data]   Package stopwords is already up-to-date!\n"
     ]
    }
   ],
   "source": [
    "nltk.download('stopwords')\n",
    "stopwords = set(nltk_stopwords.words('english'))\n",
    "\n",
    "count = TfidfVectorizer(stop_words=list(stopwords), ngram_range=(1,1))\n",
    "vector_data = count.fit_transform(corpus)"
   ]
  },
  {
   "cell_type": "code",
   "execution_count": 26,
   "id": "48f45f5d",
   "metadata": {},
   "outputs": [],
   "source": [
    "vector_data = vector_data.toarray()"
   ]
  },
  {
   "cell_type": "code",
   "execution_count": 27,
   "id": "1413794a",
   "metadata": {},
   "outputs": [
    {
     "data": {
      "text/plain": [
       "array([[0., 0., 0., ..., 0., 0., 0.],\n",
       "       [0., 0., 0., ..., 0., 0., 0.],\n",
       "       [0., 0., 0., ..., 0., 0., 0.],\n",
       "       ...,\n",
       "       [0., 0., 0., ..., 0., 0., 0.],\n",
       "       [0., 0., 0., ..., 0., 0., 0.],\n",
       "       [0., 0., 0., ..., 0., 0., 0.]])"
      ]
     },
     "execution_count": 27,
     "metadata": {},
     "output_type": "execute_result"
    }
   ],
   "source": [
    "vector_data"
   ]
  },
  {
   "cell_type": "code",
   "execution_count": 28,
   "id": "c30718aa",
   "metadata": {},
   "outputs": [
    {
     "data": {
      "text/plain": [
       "(2413, 18223)"
      ]
     },
     "execution_count": 28,
     "metadata": {},
     "output_type": "execute_result"
    }
   ],
   "source": [
    "vector_data.shape"
   ]
  },
  {
   "cell_type": "code",
   "execution_count": 29,
   "id": "ec2e7c0a",
   "metadata": {},
   "outputs": [],
   "source": [
    "def cosine_similarity(x,y):\n",
    "    return 1 - spatial.distance.cosine(x,y)"
   ]
  },
  {
   "cell_type": "code",
   "execution_count": 30,
   "id": "83d7d75f",
   "metadata": {},
   "outputs": [],
   "source": [
    "resumes = resumes['Text']"
   ]
  },
  {
   "cell_type": "code",
   "execution_count": 31,
   "id": "05ebc963",
   "metadata": {},
   "outputs": [
    {
     "data": {
      "application/vnd.jupyter.widget-view+json": {
       "model_id": "44973b835a3b4522bb6ac11f01327ebd",
       "version_major": 2,
       "version_minor": 0
      },
      "text/plain": [
       "  0%|          | 0/687 [00:00<?, ?it/s]"
      ]
     },
     "metadata": {},
     "output_type": "display_data"
    }
   ],
   "source": [
    "resume_corpus = modify_text(resumes)"
   ]
  },
  {
   "cell_type": "code",
   "execution_count": 32,
   "id": "d97830d4",
   "metadata": {},
   "outputs": [],
   "source": [
    "resumes_vector = count.transform(resume_corpus)"
   ]
  },
  {
   "cell_type": "code",
   "execution_count": 33,
   "id": "8c8ba583",
   "metadata": {},
   "outputs": [],
   "source": [
    "resumes_vector = resumes_vector.toarray()"
   ]
  },
  {
   "cell_type": "code",
   "execution_count": 34,
   "id": "ad02e752",
   "metadata": {},
   "outputs": [
    {
     "data": {
      "text/plain": [
       "array([0., 0., 0., ..., 0., 0., 0.])"
      ]
     },
     "execution_count": 34,
     "metadata": {},
     "output_type": "execute_result"
    }
   ],
   "source": [
    "resumes_vector[0]"
   ]
  },
  {
   "cell_type": "markdown",
   "id": "dc047c9c",
   "metadata": {},
   "source": [
    "# Write here any index of resume"
   ]
  },
  {
   "cell_type": "code",
   "execution_count": 35,
   "id": "fc5e4cd4",
   "metadata": {},
   "outputs": [],
   "source": [
    "resume_index = 10"
   ]
  },
  {
   "cell_type": "code",
   "execution_count": 36,
   "id": "6cdacf1f",
   "metadata": {},
   "outputs": [
    {
     "data": {
      "application/vnd.jupyter.widget-view+json": {
       "model_id": "d5d86d7575714622bfb17fea53108c2f",
       "version_major": 2,
       "version_minor": 0
      },
      "text/plain": [
       "  0%|          | 0/2413 [00:00<?, ?it/s]"
      ]
     },
     "metadata": {},
     "output_type": "display_data"
    }
   ],
   "source": [
    "result = []\n",
    "max_distance = 0\n",
    "max_index = 0\n",
    "\n",
    "for i in tqdm(range(len(vector_data))):\n",
    "    result.append(cosine_similarity(resumes_vector[resume_index], vector_data[i]))"
   ]
  },
  {
   "cell_type": "code",
   "execution_count": 37,
   "id": "2ae6bd1f",
   "metadata": {},
   "outputs": [
    {
     "data": {
      "text/plain": [
       "335"
      ]
     },
     "execution_count": 37,
     "metadata": {},
     "output_type": "execute_result"
    }
   ],
   "source": [
    "p = sorted(result, reverse = True)\n",
    "ct = 0\n",
    "for i in p:\n",
    "    if i>0.1:\n",
    "        ct+=1\n",
    "    else: break\n",
    "ct"
   ]
  },
  {
   "cell_type": "code",
   "execution_count": 38,
   "id": "a8c6e773",
   "metadata": {},
   "outputs": [
    {
     "data": {
      "text/plain": [
       "0"
      ]
     },
     "execution_count": 38,
     "metadata": {},
     "output_type": "execute_result"
    }
   ],
   "source": [
    "max_distance"
   ]
  },
  {
   "cell_type": "code",
   "execution_count": 39,
   "id": "573c9b00",
   "metadata": {},
   "outputs": [
    {
     "data": {
      "text/html": [
       "<div>\n",
       "<style scoped>\n",
       "    .dataframe tbody tr th:only-of-type {\n",
       "        vertical-align: middle;\n",
       "    }\n",
       "\n",
       "    .dataframe tbody tr th {\n",
       "        vertical-align: top;\n",
       "    }\n",
       "\n",
       "    .dataframe thead th {\n",
       "        text-align: right;\n",
       "    }\n",
       "</style>\n",
       "<table border=\"1\" class=\"dataframe\">\n",
       "  <thead>\n",
       "    <tr style=\"text-align: right;\">\n",
       "      <th></th>\n",
       "      <th>Position</th>\n",
       "      <th>Company</th>\n",
       "      <th>Link</th>\n",
       "      <th>Description</th>\n",
       "    </tr>\n",
       "  </thead>\n",
       "  <tbody>\n",
       "  </tbody>\n",
       "</table>\n",
       "</div>"
      ],
      "text/plain": [
       "Empty DataFrame\n",
       "Columns: [Position, Company, Link, Description]\n",
       "Index: []"
      ]
     },
     "execution_count": 39,
     "metadata": {},
     "output_type": "execute_result"
    }
   ],
   "source": [
    "data[2500:]"
   ]
  },
  {
   "cell_type": "code",
   "execution_count": 40,
   "id": "ab61fb8d",
   "metadata": {},
   "outputs": [
    {
     "name": "stdout",
     "output_type": "stream",
     "text": [
      "This is job offer\n"
     ]
    },
    {
     "data": {
      "text/plain": [
       "'K√∂rber is the home for passionate people who innovate, collaborate, and love what they do. The entrepreneurial spirit is our joint DNA. We develop future technologies and support talents to deploy their skills and reach their full potential. We combine our strong heritage with our understanding of local specifics and a global mindset to bring people together and create valuable solutions for our customers. We aim for being the first to do the right thing at the right time.\\nJoin the home for entrepreneurs!\\nYour role in our team\\n\\nDevelop technical eLearning training, courses, and enablement materials for K√∂rber supply chain solutions\\nDesign, document, and integrate concepts and materials for instructional environment\\nPrepare programming exercises for classroom training\\nInteract with content consumers to incorporate enhancements to training materials\\nConfigure, install, and maintain software applications for creating virtual labs\\nInstall and maintain other software and hardware as needed\\nProduce exam questions aligned to training courses\\nParticipate in the testing process through test review and analysis, test witnessing, and certification of training courses\\n\\nYour Experience\\n\\nYou have a Bachelor‚Äôs Degree in Computer Science or a closely related field\\nYou have 5+ years of experience in curriculum and/or eLearning content development in the area of programming, software development, etc.\\nYou have experience with audio/video software: Camtasia, Audacity, Articulate or similar\\nYou have knowledge of learning theories, instructional design models, and strategies\\nYou are familiar with cloud platforms (e.g. AWS or Azure) and cloud technologies ( e.g Kubernetes, Docker)\\nYou have an understanding of API endpoints (e.g. REST) and databases (e.g. Postgres, MySQL, Spark, Elastic Search)\\nYou have working knowledge in project tracking software (e.g. AHA, JIRA, etc.)\\nYou have the ability to work in a fast-paced, deadline-driven environment\\nYou are well-organized and self-motivated, comfortable with ambiguity and advancing multiple projects at the same time\\n\\nYour benefits\\n\\nYou will receive a competitive salary including potential for bonuses -_ salary listed at current conversion rate _\\nYou will have a fun casual, and flexible work environment\\n\\nJob Type: Full-time\\nSalary: ¬£58,000.00-¬£62,000.00 per year\\nBenefits:\\n\\nCompany events\\nCycle to work scheme\\nFlexitime\\nReferral programme\\nWellness programme\\n\\nSchedule:\\n\\nFlexitime\\nMonday to Friday\\n\\nWork authorisation:\\n\\nUnited Kingdom (required)\\n\\nWork Location: Remote\\nReference ID: PHFlexitime'"
      ]
     },
     "execution_count": 40,
     "metadata": {},
     "output_type": "execute_result"
    }
   ],
   "source": [
    "print('This is job offer')\n",
    "initial_data.loc[max_index ]['Description']"
   ]
  },
  {
   "cell_type": "code",
   "execution_count": 41,
   "id": "47422cb5",
   "metadata": {},
   "outputs": [
    {
     "data": {
      "text/plain": [
       "0"
      ]
     },
     "execution_count": 41,
     "metadata": {},
     "output_type": "execute_result"
    }
   ],
   "source": [
    "max_index"
   ]
  },
  {
   "cell_type": "code",
   "execution_count": 42,
   "id": "64f8f5da",
   "metadata": {},
   "outputs": [
    {
     "name": "stdout",
     "output_type": "stream",
     "text": [
      "This is resume\n"
     ]
    },
    {
     "data": {
      "text/plain": [
       "'SUMMARY\\n\\n\\n\\tSoftware professional with 8 years of experience in designing Windows and Web based applications.\\n\\tInvolved in all stages of SDLC such as Requirement gathering, Design, Development and Testing.\\n\\tExperience in working with both Waterfall and Agile development methodology.\\n\\tExpertise in developing various applications using Visual Studio .NET technologies like C#, ASP.NET, ADO.NET, XML, Windows Services, Web Services, WPF,WCF, MVC.\\n\\tExperience in developing front - end User Interface using Angular JS, WPF, HTML and CSS.\\n\\tExtensive experience in Client side using JavaScript, JQuery.\\n\\tExtensively worked on ADO.NET to access SQL server 2008/2008R2.\\n\\tExperience in working with ADO.NET components such as Data grids, Datasets, Paging and Sorting.\\n\\tExtensively used Telerik controls for rich UI.\\n\\tImplemented object oriented concepts like Data Abstraction, Inheritance, Data Encapsulation and Polymorphism using C #.Net.\\n\\tHands on Experience on ASP.NET MVC pattern: Controller Actions, View Engine, HTML Helper methods, Entity Framework Model.\\n\\tDeveloped functional specifications and design documentation.\\n\\tExperience in developing User and Custom Controls using .Net Technologies.\\n\\tProficient with database programming languages using T-SQL and developing complex Stored Procedures, Functions, Joins, Triggers and creating database Views.\\n\\tGood Knowledge in SQL Server Integration Services (SSIS) and SQL Server Reporting Services (SSRS).\\n\\tExperience with Relational Databases like SQL Server  2012/2008/2005 and Oracle 11g/10g/ 9i.\\n\\tGood exposure to Agile based project implementation.\\n\\tResponsible for Co-ordination and communication with the development and analysis team in design elaboration phase.\\n\\tParticipated in Peer-to-Peer code review, presentations and knowledge transfer.\\n\\tExperience in Configuration Management using Team Foundation Server (TFS).\\n\\n\\nTECHNICAL SKILLS\\n\\n.Net Technologies: Asp.Net 3.5/4.0/4.5, C# 3.0/4.0/4.5, Asp.Net MVC 3.0/4.0/5.0, WCF, WPF.\\n\\nORM’S: ADO.Net, Entity Framework.\\n\\nScripting Languages: JavaScript, JQuery, Angular JS.\\n\\nOperating Systems: Win 95/98/XP/VISTA, Windows7.\\n\\nDatabase Systems: Sql Server 2008, 2008R2, 2012.Oracle 11g/10g/9i\\n\\nWeb Designing Tools: HTML, CSS, CSS3\\n\\nWeb Servers: IIS 6.0/7.0/8.0\\n\\nIDE: Microsoft Visual Studio 2008, 2010, 2012,2013\\n\\nOther Utilities: Telerik controls, Just trace, TFS\\n\\nPROFESSIONAL EXPERIENCE\\n\\nConfidential, Cleveland, OH\\n\\nSr. Net Developer\\n\\nResponsibilities:\\n\\n\\n\\tAttended various meetings with the business users to discuss requirements.\\n\\tInvolved in gathering System Requirement, Data Requirement and prepared design document.\\n\\tInvolved in estimation and planning of each sprint.\\n\\tAdhering to implement the project in agile methodology.\\n\\tAnalyzing and documenting the existing applications.\\n\\tCoordinating with architects and build team.\\n\\tInvolved in Database design and created tables, stored procedures, functions and Triggers in the database.\\n\\tImplemented indexing for various tables in the database for improving performance of the application.\\n\\tResponsible to debug and fix the existing code, based on the test cases provided as per business requirements.\\n\\tDesigned the Web UI using ASP.NET, HTML, JavaScript, CSS, Web Forms, and AJAX controls and validation controls.\\n\\tDeveloped standalone partial view components to facilitate modular and reusable view architecture to build the complex user interfaces.\\n\\tUsed JQuery for client side validation, navigation and for firing server side events.\\n\\tWorked on fixing Cross Browser issues.\\n\\tExtensively used CSS, CSS3 for styling the UI.\\n\\tCreated and deployed SQL Server SSIS packages to import the data in to the production.\\n\\tCreated WCF services to look up and retrieve the data from database\\n\\tImplemented bulk export functionality in to different file formats like Json, Xml etc.\\n\\tExperience in 3 tier architecture.\\n\\tImplemented Role based Authentication using Forms Authentication.\\n\\tUsed LINQ to SQL for querying data from the database.\\n\\tWorked with SQL Server 2008R2 for developing stored procedures with complex business rules.\\n\\tAssisting the team member when necessary with their daily tasks and responsibilities.\\n\\tGuiding the team in achieving and completing in sprint stories.\\n\\n\\nEnvironment: .NET Framework 4.5, C# 4.0, ASP.NET, MVC 5, HTML, JavaScript, JQuery, Ajax, CSS, CSS3, LINQ to SQL, WCF, Web Service, SQL Server 2008R2, SSIS, Web Forms, IIS\\n\\nConfidential, Atlanta, GA\\n\\nSr. Net Developer\\n\\nResponsibilities:\\n\\n\\n\\tResponsibilities include Requirement Analysis, Design, Coding, Code Review and Unit Testing.\\n\\tUsed AGILE/SCRUM methodology to implement the application.\\n\\tDevelop complex MVC Controller, View Models and Helper methods linked to backend database.\\n\\tUsed MVC architecture for client server interaction.\\n\\tUsed design patterns like Factory pattern, Query pattern, Repository pattern etc.,\\n\\tImplemented LINQ for querying, sorting, filtering the complex objects.\\n\\tUsed front end web development tools like CSS, JavaScript and jQuery.\\n\\tImplemented client side functionality using JQuery.\\n\\tUsed Entity Framework Reverse Engineering technique to import entities from database and generate meta-objects and mapping classes.\\n\\tImplementation of client side validations using JQuery and ASP.NET MVC Validation implemented at Controller level.\\n\\tCreated DAL (Data Access Layers) to establish database connectivity and data manipulation.\\n\\tInvolved in performance tuning of the application by creating various database Indexes and optimizing database queries.\\n\\tUsed Windows Azure to store the Images in the blob, Creating Worker Roles, Instances.\\n\\tDeploying/Publishing sites in Azure.\\n\\tInvolved in enhancements and migrating of Dashboard tool used for support perspective built on WPF.\\n\\tCreated Stored Procedures, Views, Triggers and Complex T-SQL queries in SQL Server.\\n\\tUsed T-SQL to examine the database information.\\n\\tUsed Test Driven Development for Unit Testing.\\n\\n\\nEnvironment: ASP.NET MVC 4, C# 4.0, Entity Framework, LINQ, Sql Server 2008 R2, Windows Azure, WPF, Java Script, Ajax, JQuery, HTML, CSS.\\n\\nConfidential, Columbus, OH\\n\\nSr. Net Developer\\n\\nResponsibilities:\\n\\n\\n\\tDeveloped application using ASP.NET MVC4 framework.\\n\\tCreated application using HTML5, Angular JS for responsive design.\\n\\tDeveloped using CSS3, C#, JAVASCRIPT, JQUERY.\\n\\tCreated User Controls for better reusability of codes in the application.\\n\\tImplemented business logic/rules using WCF services and integrated with the UI components.\\n\\tDeveloped Entity framework based database access layer using ADO.Net and Entity Framework.\\n\\tWritten stored procedures, triggers using T-SQL for data access from SQL Server 2008 R2 when applicable.\\n\\tHave developed WCF AND Restful Services by using C# and Web API\\n\\tDeveloped User Interface in Razor Views\\n\\tDeveloped module which deals with validating user, changing passwords and searching of information depending upon priority of user in site using ASP.NET\\n\\tUsed User Control, Ajax Toolkit to develop the application\\n\\tDeveloped Business logic layer using ASP.Net with C# under Visual Studio\\n\\tUsed Master pages, User controls, Custom controls to suit user’s needs\\n\\tUsed Cascading Style Sheets (CSS) and JavaScript.\\n\\tPublishing the web site on IIS server\\n\\tUsed Team Foundation Server (TFS) for Version Control\\n\\tGenerated reports using the SQL Server Reporting services (SSRS)\\n\\tPerformed unit testing and functional testing using N Unit.\\n\\tWorked with Agile/Scrum Environment to meet the timelines and interaction with the team\\n\\tDesigned and Developed Web Forms using ASP.NET, C#, XML.\\n\\tCreated Web Service in ASP.Net to serialize XML data over HTTP; where the third party uses XML for the query and transferring the data.\\n\\n\\nEnvironment: Visual Studio 2012 C#, Angular JS, ASP.NET 4.5, WCF, JavaScript, JQuery, MVC 4, HTML5,CSS3,LINQ to SQL, IIS 7.5, AJAX, XML, SQL Server 2008, Windows 7, Team Foundation Server.\\n\\nConfidential, Ottawa, Nebraska\\n\\n.Net Developer\\n\\nResponsibilities:\\n\\n\\n\\tInvolved in analysis, design and development of application with full Software Development Life Cycle (SDLC) from analysis and design to implementation with .Net Technologies.\\n\\tDesigned and Developed different modules, Class using C# and Designed GUI Part in .Net.\\n\\tDeveloped complex web forms using ASP.Net server-side scripting with C#, .Net Framework 3.0.\\n\\tDesigned, modeled multi-threaded, enterprise n-tier software agent using WCF web service hosted in a Windows service.\\n\\tDesigned WCF Service Contract for validating the user input. Implement classes for data validation and to perform edit check on the data.\\n\\tUsed Object oriented Programming (OOP) to make it more efficient.\\n\\tDeveloped dynamic ASPX web pages for Application using ASP.Net, C#.Net, XML, HTML, JavaScript and AJAX including Jquery library.\\n\\tUsed Agile Methodology for developing the Application and followed the software development lifecycle.\\n\\tUsed ADO.Net data objects such as Connection, Command, Data Adapter, Data Reader, Dataset, Data Table and XML for consistent access to SQL data sources.\\n\\tCreated Store Procedures, Functions, Packages, Triggers, Indexes and Views using T-SQL in Development and Production environment for SQL Server 2008/2005.\\n\\tExperienced in LINQ (Language Integrated Query).\\n\\tHandled runtime and design time errors by implementing the appropriate error handlers in C#.Net.\\n\\tResolved potential issues that arose during the execution of development.\\n\\tUsed Team Foundation Server (TFS) for integration, maintenance and Security of code.\\n\\tCoding for various Modules, Error Handling, Modification and Testing.\\n\\n\\nEnvironment: .Net Framework 3.5, C#, ASP.Net, ADO.Net, LINQ, WCF, JavaScript, JQuery, HTML, XML, T-SQL, SQL Server2005/2008, Crystal Report, TFS, IIS (6.0).\\n\\nConfidential\\n\\nSoftware Engineer\\n\\nResponsibilities:\\n\\n\\n\\tConceptualizing and designing the basic framework for automation.\\n\\tInvolved in the preparation of requirements documents, User Interface Design, build and Test Plans.\\n\\tHandling various technical aspects like software design, coding of modules, monitoring critical paths & taking appropriate actions.\\n\\tAnalyzed the database modeling and existing database objects.\\n\\tInvolved in the Analysis of developing test cases, test plans and flat files.\\n\\tAttended various meetings with the management team to discuss requirements, estimation, analysis & design.\\n\\tHandling the Front-end and Back-end Development including coding, testing etc.\\n\\tReworked on parts of GUI to improve performance, enhancing and modifying functionality as per requirements from Users.\\n\\tWrote Stored Procedures and SQL Queries in SQL Server.\\n\\tHandling the Front-end development using WPF, C# and Back-end Development using Microsoft SQL Server, Oracle.\\n\\tInterfaced with internal and external clients continuously to maintain effective communication and coordination especially at the time of project maintenance.\\n\\n\\nEnvironment: WPF, C#, SQL Server.'"
      ]
     },
     "execution_count": 42,
     "metadata": {},
     "output_type": "execute_result"
    }
   ],
   "source": [
    "print('This is resume')\n",
    "initial_resumes.loc[resume_index]['Text']"
   ]
  },
  {
   "cell_type": "code",
   "execution_count": 43,
   "id": "475d180e",
   "metadata": {},
   "outputs": [
    {
     "data": {
      "application/vnd.jupyter.widget-view+json": {
       "model_id": "7ae67515b1d54d0595e6ee423c216ad9",
       "version_major": 2,
       "version_minor": 0
      },
      "text/plain": [
       "  0%|          | 0/1 [00:00<?, ?it/s]"
      ]
     },
     "metadata": {},
     "output_type": "display_data"
    }
   ],
   "source": [
    "myresume_corpus = modify_text(myresume)"
   ]
  },
  {
   "cell_type": "code",
   "execution_count": 44,
   "id": "03e576d9",
   "metadata": {},
   "outputs": [],
   "source": [
    "myresume_vector = count.transform(myresume_corpus)"
   ]
  },
  {
   "cell_type": "code",
   "execution_count": 45,
   "id": "b6754c32",
   "metadata": {},
   "outputs": [],
   "source": [
    "myresume_vector = myresume_vector.toarray()"
   ]
  },
  {
   "cell_type": "code",
   "execution_count": 46,
   "id": "584f73ae",
   "metadata": {},
   "outputs": [
    {
     "data": {
      "application/vnd.jupyter.widget-view+json": {
       "model_id": "204ed041091f451da19efa5d12759082",
       "version_major": 2,
       "version_minor": 0
      },
      "text/plain": [
       "  0%|          | 0/2413 [00:00<?, ?it/s]"
      ]
     },
     "metadata": {},
     "output_type": "display_data"
    }
   ],
   "source": [
    "result1 = []\n",
    "max_distance1 = 0\n",
    "max_index1 = 0\n",
    "\n",
    "for i in tqdm(range(len(vector_data))):\n",
    "    result1.append([cosine_similarity(myresume_vector[0], vector_data[i]), i])\n",
    "    if max_distance1 < cosine_similarity(resumes_vector[0], vector_data[i]):\n",
    "        max_distance1 = cosine_similarity(resumes_vector[0], vector_data[i])\n",
    "        max_index1 = i"
   ]
  },
  {
   "cell_type": "code",
   "execution_count": 47,
   "id": "f267640c",
   "metadata": {},
   "outputs": [
    {
     "name": "stdout",
     "output_type": "stream",
     "text": [
      "This is job offer\n"
     ]
    },
    {
     "data": {
      "text/plain": [
       "'C# .NET Developer\\nUnited Kingdom - Remote Posted: 19/04/2023 \\nSalary: ¬£50K per Year  ID: 32104_BH\\n\\n\\n\\nC# .NET Developer\\nRemote\\n\\nUp to ¬£50,000\\n\\n We are seeking a talented and experienced C# .NET Developer to join our innovative client. The successful candidate will be responsible for designing, developing, and implementing software solutions using C# .NET programming language. \\n \\n If you are a proactive and enthusiastic C# .NET Developer looking for an exciting opportunity to work with an innovative company, this is the role for you! \\n \\n\\nKey responsibilities:\\n\\n\\nDevelop, design, and implement software solutions using C# .NET programming language \\nParticipate in the full software development lifecycle, including requirements gathering, design, development, testing, and maintenance \\nWrite clean, efficient, and well-documented code \\nCollaborate with cross-functional teams to identify and solve software problems \\n\\n\\nRequirements:\\n\\n\\nProven experience as a C# .NET Developer \\nStrong knowledge of C# .NET programming language and related technologies such as ASP.NET, MVC, and Web API \\nFamiliarity with Agile software development methodologies \\nStrong analytical and problem-solving skills \\nAbility to work independently and in a team environment \\nExcellent written and verbal communication skills'"
      ]
     },
     "execution_count": 47,
     "metadata": {},
     "output_type": "execute_result"
    }
   ],
   "source": [
    "print('This is job offer')\n",
    "initial_data.loc[max_index1]['Description']"
   ]
  },
  {
   "cell_type": "code",
   "execution_count": 48,
   "id": "4924ad1b",
   "metadata": {},
   "outputs": [],
   "source": [
    "k = sorted(result1, reverse = True)"
   ]
  },
  {
   "cell_type": "code",
   "execution_count": 49,
   "id": "f1d79aae",
   "metadata": {},
   "outputs": [],
   "source": [
    "best_ind = []\n",
    "for i in range(len(k)):\n",
    "    if k[i][0]>0.1:\n",
    "        best_ind.append(k[i][1])"
   ]
  },
  {
   "cell_type": "code",
   "execution_count": 50,
   "id": "9adf2301",
   "metadata": {},
   "outputs": [],
   "source": [
    "# qq = data[data['Регион ']=='Акмолинская область']"
   ]
  },
  {
   "cell_type": "code",
   "execution_count": 51,
   "id": "e1b16661",
   "metadata": {},
   "outputs": [],
   "source": [
    "ret = []\n",
    "for i in best_ind:\n",
    "    job = {\n",
    "        \"Position\": data['Position'][i],\n",
    "        \"Company\": data['Company'][i],\n",
    "        \"Link\": data['Link'][i],\n",
    "        \"Description\": data['Description'][i]\n",
    "    }\n",
    "    ret.append(job)"
   ]
  },
  {
   "cell_type": "code",
   "execution_count": 52,
   "id": "0513fc2b",
   "metadata": {},
   "outputs": [],
   "source": [
    "# def keyword_df(keyword, data_df):\n",
    "#     keyword = keyword.lower()\n",
    "#     keyword = keyword.split()\n",
    "#     for i in range(len(data_df)):\n",
    "#         data_df['Position'][i] = data_df['Position'][i].lower()\n",
    "#         discard = True\n",
    "#         for j in keyword:\n",
    "#             if j in data_df['Position'][i]:\n",
    "#                 discard = False\n",
    "#         if discard:\n",
    "#             data_df['Description'][i] = ''\n",
    "\n",
    "#     return data_df"
   ]
  },
  {
   "cell_type": "code",
   "execution_count": 53,
   "id": "4445f5a8",
   "metadata": {},
   "outputs": [
    {
     "data": {
      "text/plain": [
       "[{'Position': 'IT Support Engineer x 2 (based at GCU London)',\n",
       "  'Company': 'Glasgow Caledonian University',\n",
       "  'Link': 'https://uk.indeed.com/applystart?jk=eb6add1bffa1a0b7&from=vj&pos=bottom&mvj=0&spon=0&sjdu=mcLJI0lO9xR5mAT-NkUfzYDDplm6SwWjHcxyoDIphKlYCv2PEgHDNSGLLQhoiVihkN0wkll9wDHc3mnStM4Hmg&vjfrom=serp&astse=987baa594c06ac8d&assa=7941',\n",
       "  'Description': \"Ref no: \\n       \\n\\n        GCU01431\\n       \\n\\n\\n\\n         Published: \\n       \\n\\n        20/4/2023\\n       \\n\\n\\n\\n         Closes: \\n       \\n\\n        4/5/2023\\n       \\n\\n\\n\\n\\n\\n\\n\\n\\n\\n\\n\\n\\n\\n        Location: \\n       \\n\\n        London Campus, 40 Fashion Street, Spitalfields, E1 6PX\\n       \\n\\n\\n\\n         Salary: \\n       \\n\\n        ¬£30,619 - ¬£35,308 per year \\n       \\n\\n\\n\\n        Contract Type: \\n       \\n\\n        Permanent\\n       \\n\\n\\n\\n         Position Type: \\n       \\n\\n        Full Time\\n       \\n\\n\\n\\n         Hours: \\n       \\n\\n        35 hours per week\\n       \\n\\n\\n\\n \\n\\n\\nAdvert\\n This full time/open ended opportunity based at GCU London\\n and includes an additional London Weighting payment of ¬£4,464 per annum\\n Glasgow Caledonian University - the University for the Common Good - is a vibrant, values-led, multi-cultural, civic University with a global outlook and strong commitment to delivering social innovation and sustainable development in its education and research.\\n Our organisational strategy is aligned with the United Nation‚Äôs Sustainable Development Goals and our globally recognised researchers advise governments, industry and international bodies. We‚Äôre ranked fourth in the world and first in the UK for promoting gender equality, in the top 70 universities globally for social impact, and first in Scotland for health and wellbeing, and reduced inequalities, for which we are also ranked 21st in the world (THE Impact Rankings, 2022). In 2020-21, we contributed ¬£1.7 billion and more than 14,000 jobs across the globe (BIGGAR Economics, 2022).\\n GCU is committed to widening participation, and delivering positive outcomes for our students. We are Scotland‚Äôs leading provider of Graduate Apprenticeships. With campuses in Glasgow, London and New York, we have transnational partnerships around the world, supporting more than 22,000 students from 130 countries. Guided by our values ‚Äì integrity, responsibility, creativity and confidence - we transform the lives of the people and communities we serve.\\n Information Services is a central professional service department which provides IT / AV services to all GCU branches in different geographical locations. We are looking for an IT Support Engineer for our campus in London.\\n The IT Support Engineer role within the Service Management team provides front-line IT services to staff and students by covering multiple channels of communications. Offers face-to-face customer support through AV, Desktop and Network Services, ranging from face-to-face support to remote assistance. With a minimum of day-to-day supervision, resolve issues and queries from users, using own judgement and experience without reference to others. Deliver excellent customer service and proactive communications for users while providing services. Actively contribute to delivery of IT project objectives as assigned.\\n Essential requirements for this role:\\n\\nMinimum of an HNC/HND in an IT/AV or related discipline and/or equivalent relevant experience in an IT technical support role\\nExcellent knowledge and experience of providing technical and operational support covering a full range of IT hardware, software and AV equipment used within teaching and events environments\\nExcellent communication and interpersonal skills.\\nExcellent customer service skills.\\nAbility to work on own initiative and to work well as a team member.\\nGood decision making and problem-solving skills.\\nExcellent analytical skills and attention to detail.\\nAbility to organise, prioritise and manage multiple activities and deliver effectively in a busy environment.\\n\\nAs the University for the Common Good, we are committed to embedding equality, diversity and inclusion, as well as our values in everything that we do. As such, we welcome applications from all suitably qualified candidates who demonstrate the GCU Values.\\n Glasgow Caledonian University is committed to a fair and transparent recruitment process that is free from bias so that we can attract and retain a high performing workforce which makes a critical contribution to our success.\\n The University holds the prestigious Athena SWAN Silver institution award, which recognises our significant record of activity and achievement in promoting gender equality across different disciplines.\\n As a Disability Confident 'Committed' employer, we are striving to ensure that our recruitment process is inclusive and accessible to disabled people. Although the Disability Confident 'Committed' level does not guarantee an interview for disabled applicants, we will make reasonable adjustments for disabled applicants during the recruitment process.\\n The University also holds the Carer Positive ‚ÄòEngaged‚Äô employer award, which recognises our commitment to supporting staff with caring responsibilities.\\n Glasgow Caledonian University are committed signatories to the Armed Forces Covenant.\\n The University offers a range of benefits including opportunities for professional development, family friendly policies, cycle to work scheme and onsite childcare facilities.\\n Please note that the appointment will be made on the first point of the salary scale (unless by exception).\\n\\n\\n Job Attachments Download job attachment R3654 Grade 5 IT Support Engineer Role Profile [44kB]\\n     \\n\\n Show on map \\n\\n\\n\\n\\nGlasgow Caledonian University\\n\\n \\n\\n\\nShare this job posting on Twitter\\n Share this job posting on Facebook\\n Share this job posting on Linkedin\\n Share this job posting via Email\\n\\n Favourite IT Support Engineer x 2 (based at GCU London) - GCU01431\\n\\n       IT / TelecommunicationsIT Support Engineers\\n     \\n\\n       Turbo charge your career here \\n     \\n\\nAdvertisement\\n\\n\\n\\n\\n\\n\\n\\n\\n\\nFrequented links\\n\\n      About myjobscotland\\n    \\n\\n      Your Career\\n    \\n\\n      Help (Opens in new tab)\"},\n",
       " {'Position': 'Lecturer in Machine Learning',\n",
       "  'Company': 'Aston University',\n",
       "  'Link': 'https://uk.indeed.com/applystart?jk=cf315b450426233a&from=vj&pos=bottom&mvj=0&spon=0&sjdu=mcLJI0lO9xR5mAT-NkUfzYDDplm6SwWjHcxyoDIphKntGyRp7pIITJlcU1mGnSpykN0wkll9wDHc3mnStM4Hmg&vjfrom=serp&astse=12991171048738d9&assa=6749',\n",
       "  'Description': 'The School of Informatics and Digital Engineering is part of the School of Engineering and Physical Sciences. As a cohesive and cross-disciplinary School, we focus on real-world skills and research, via teaching that delivers industry-ready graduates, and research that brings impact. Aston‚Äôs Mathematics Department has an important role in this work, as mathematical skills are increasingly an integral part of our everyday and digital lives, via an understanding of the theories and applications that make sense of the world around us ‚Äì from computer modelling and data analysis in, for example, transport networks to the stock market, and health services to climate change.\\n In this environment our Mathematics Department has a strong applied mathematics undergraduate degree designed with a placement year, as well as a large cohort of postgraduate MSc Data Analytics students. We are actively engaged in research which underpins and develops the work across our School, College and the rest of the University, and which makes a difference to a range of beneficiaries. We are particularly keen, therefore, to receive applications from academics who are excited by our balanced mission of excellence in both research and teaching, and have a high quality research and teaching profile in Machine Learning.\\n An ability to contribute to the teaching and research of Mathematical Machine Learning is essential. You will have a track record of, or the potential for, excellent teaching (appropriate to career stage), and a clearly developed research plan for the future, and good collaborations. You must also be committed to excellent teaching and outstanding student support. A PhD in a subject allied to Mathematics is essential, as is relevant professional and/or academic experience. If you have experience of leading postgraduate programmes that would be an advantage.'},\n",
       " {'Position': 'Assistive Technology Trainer',\n",
       "  'Company': 'First Class Support',\n",
       "  'Link': 'https://uk.indeed.com/pagead/clk?mo=r&ad=-6NYlbfkN0A0OHcapvFzp0IOcaiC6DTAQt1KyXQ3GJKT6dmIt6d9ekQlg9Vq1DYG_FVRuTNWjjsdaocndKBWLYFwU8Buvq4rb4dn-O1IgijLBMFp-NAOrkEnB2Mt_nSsFTKmRBspSmRRUf50_MOc2lCHduIJha1gGt3P2C4zFZbo867KtrwuXY6NBruyv0ed8CV7gatrsZgxSXnKdrgPQK0zksKCRLQL-vwsXJsUZ5Xj8aI1UNQCQQ0h3OshF3o3o6OQXxnE14oACP951g3vBn4jDnOqcz1LyfHrvqvxAZdMexs6q6SrDuD25b5yGEX3Lj-KKH8FeqTsIqgcKrZXseQXS5-T7BtS1l_DCyknD9KJN19mAE93VCN2ZSzOKRdz0kGN8GVD6sRtswz0JS8UlGHN9GpD0GMW_Lsph2ILOqMiR-GL6JrFBbCpENN8eRJiD1VOwf2l_3mARBpADCpCFbYUL0NLvGrDj4YWND1JKnORu4Sa3NlC7LdA_p3NqVswnk-Dc0m9j5JWXYUc8KMTHbI6k5AwnL-PIdr1N6Syqkk=&xkcb=SoAN-_M3QQUm8lQNFZ0FbzkdCdPP&p=14&fvj=1&vjs=3',\n",
       "  'Description': \"First Class Support provides academic support to students in receipt of disabled student allowance (DSA). We pride ourselves on only employing first class support specialists that are passionate about making a difference to the lives of people studying higher education courses across the UK.\\nDue to continued expansion, we are looking to galvanise our team of highly qualified and experienced specialist support staff. There is currently a position available for an experienced assistive technology trainer, to carry our company name. Competition will be potentially tough, so only the best need apply.\\nThis role is based in Leeds.\\nThis is a face to face only position.\\nYour role: This activity provides support over and above the practical installation and facilitation support given to students on receiving a new piece of software. Its purpose is to provide a substantial programme of training for the student in how to use the range of assistive technology and specialist software or hardware, in relation to their studies.\\nTraining is often delivered in students‚Äô own homes where a risk assessment will be conducted beforehand. Students may often receive face to face training on software at their institution of study. Often it is more appropriate for flexibility in delivery with a greater number of sessions with each session lasting only an hour or an hour and a half, according to student need. Training may also need to be phased throughout the course.\\nYour Skills:\\nAssistive Technology (AT) trainers require knowledge and skills in strategies to support learning and a broad understanding about the range of existing products and technological solutions to learning challenges.\\nKnowledge and understanding of students‚Äô learning requirements is fundamental to this activity alongside an understanding of how to address learning challenges. These challenges might include organisational skills, planning and time management or concentration, or gaining access through, for example, vision or hearing.\\nSolutions include assistive technology, software programmes such as mind mapping, text to speech and speech to text, Microsoft Windows and Mac accessibility options and features to support learning such as the use of Outlook for organisational skills and digital recorders to aid memory. They require significant experience of working in a training capacity with people with a disability and an understanding of the kind of work required by a student at higher education.\\nYour qualifications/training:\\nWe ask that all applicants have had at least one year experience of providing this type of support to disabled students.\\nFirst Class Commitment To Our Staff\\nFor this specific role, successful applicants will receive:\\n¬£30.00 per hour\\nOngoing training and professional development\\nA photographic ID card\\nA personalised @firstclass email address\\nA new DBS check\\nPI insurance, provided by First Class Support\\nSupport worker prizes (when nominated by students)\\nFlexible working patterns\\nOpportunities for progression\\nAdditional Information:\\nThe working hours vary according to the needs of the student and the number of students you will be allocated. All support workers are currently paid on a self-employed basis whereby they are responsible for paying their own NI contributions and tax. All First Class employees must be able to receive emails and phone calls when on location.\\nOnly the most experienced and qualified support workers will be selected for interview. We are looking for fresh and engaging staff to alter the dynamics of NMH in a positive and objective way.\\nWe are looking for people to bring something exciting to the company as well as their credentials.\\nPlease attach your CV when applying in the first instance.\\nAs we anticipate a high volume of applications, if you do not receive a reply within 5 weeks, please consider you application unsuccessful.\\nJob Types: Part-time, Freelance\\nSalary: ¬£30.00 per hour\\nAbility to commute/relocate:\\n\\n Leeds: reliably commute or plan to relocate before starting work (required)\\n\\nEducation:\\n\\nBachelor's (preferred)\\n\\nExperience:\\n\\nDragon: 1 year (required)\\nClaroRead: 1 year (required)\\nJAWS: 1 year (required)\\nZoomText: 1 year (required)\\nGrammarly: 1 year (required)\\nGlean: 1 year (required)\\nMindView: 1 year (required)\\nAssistive technologies: 1 year (required)\\n\\nWork authorisation:\\n\\nUnited Kingdom (required)\\n\\nWork Location: One location\\nReference ID: AA/SR\"},\n",
       " {'Position': 'Graduate Quantitative Analyst',\n",
       "  'Company': 'Spectrum IT',\n",
       "  'Link': 'https://uk.indeed.com/applystart?jk=c54babb528632d28&from=vj&pos=bottom&mvj=0&spon=0&sjdu=mcLJI0lO9xR5mAT-NkUfzYDDplm6SwWjHcxyoDIphKkwF7wn633-29RptO9lRGWqkN0wkll9wDHc3mnStM4Hmg&vjfrom=serp&astse=4f21b188db0cbd13&assa=3624',\n",
       "  'Description': 'Graduate/Junior Quantitative Analyst - London - ¬£50,000 - ¬£80,000\\n \\n\\nGraduate Quantitative Analyst required by an excellent client based in central London. As a Quantitative Analyst, you will join a small but very talented team and will be expected to interpret, filter, and analyse very large data sets whilst working closely with other analysts and developers. The successful Graduate Quantitative Analyst will be a very forward-thinking individual who is more than comfortable working to both their won initiative and as a team. You will ideally be educated to at least a MSc level in a quantitative subject such as Mathematics, Statistics, Data Science, Computer Science or Physics. A PhD would be beneficial.\\n \\n\\nSkills required:\\n \\n\\nIdeally a PhD in Mathematics, Statistics, Data Science, Computer Science or Physics from Russell Group University. Must have at least MSc\\n Proficient in several of the following: Python, MATLAB, C++, R, C#\\n Mathematicial and statistical Modelling\\n Excellent Mathematical skills\\n Analytic mindset\\n Specific sports trading knowledge is welcome but not mandatory\\n\\n \\n\\nIf you feel you have the skills and experience required for this opportunity, please contact Oliver Wilson at OliverWilson@SpectrumIT.co.uk'},\n",
       " {'Position': 'Graduate Digital Teaching Assistant (Software Development)',\n",
       "  'Company': 'Step Into Teaching',\n",
       "  'Link': 'https://uk.indeed.com/pagead/clk?mo=r&ad=-6NYlbfkN0BVr3i0xq5VKKqApyKstuEh0xL5sZo7jwLiRe--DzcdaSrHU2xcu1rf9Fbhz83fgKS9trRQjLbz7Ywb7nTl_fixmNcbLe4ig59AugX5k5f5j9m3Xpi5xvhIjo7YV2-5822IGZN0iocnB6rjqjxsF9glY83ygSYAg9ferVwc6GU1OdW0zzWLyhQvXZgzkJYoA4xOKB5O9uaGxkHWn1LWu4EnLI51CfU3M7s_xxSGJAPmyS-Nx1ysYaFc-3qN8U_afTY5bSEl36zzHAG83fFtK9kssTdNJcVbz7spl2yg11Rbko5MTR-Q82QEQTSqOihPaVUZjF3gF2Vw93-JIyrW4WJ7WRG5iQFfAXA0LyK2eoa6vO-qmeWxdPegBVBEWNMNmBWYydym3cUJnvloLMO-27RCLsB_dddzm56-bYcCKKBuvpt3p0_xWSmc61SUGB6P3QExHw79Adei3iqE7eOwGwqrVWrCyPrqiOf64TiaIAFA5xHJLX0-fO4az3FAINfkprIvZPrvywod1Ibmdo9-8xB1GBx1VC5IKty3qY4ggwVyKNy8BAk4qrIHLmZY0iyg3iA1w_wrj4gpr_fNfEpl7lpUQHPVAXzrTBJbFU2-v2-Org==&xkcb=SoB8-_M3QQoXY1wNEB0CbzkdCdPP&p=9&fvj=1&vjs=3',\n",
       "  'Description': \"***Flexible start date now or September 2023**\\nWe have several Digital Teaching Assistant roles available within a fabulous, high-achieving college in Leyland. This is a great opportunity to inspire and nurture the new generation of Software Developers.\\nAs a Digital Teaching Assistant, you‚Äôll be supporting students during their lessons to ensure they are engaged and motivated to learn more. You‚Äôll also assist the teacher in delivering exceptional lessons. This is an incredibly rewarding role where students will look to you for knowledge and encouragement. Through delivering support sessions you‚Äôll help students grow in confidence so they can excel throughout their course.\\nWhat To Expect From This Fantastic Opportunity:\\n\\nInspire and support students aged 16+ from day one\\nNO WEEKENDS: Monday ‚Äì Friday only (full-time)\\n¬£401 - ¬£430 per week (term time only)\\nDevelop your own skills whilst being supported by experienced teachers\\nMake a difference to student‚Äôs lives\\n\\nWhat We Are Looking For:\\n\\nHave a completed Computer Science or related degree 2:2 or above (or degree completing in summer 2023)\\nSoftware Developer industry knowledge or experience (preferred)\\nHave vast digital knowledge\\nPassionate about contributing and delivering educational excellence\\nFriendly and caring induvial who‚Äôs able to engage with a range of ages\\nMust be able to work well in a team\\n\\nIf this sounds like you, I would love to hear from you!\\nTo apply for this opportunity click apply or email your CV to abigail@stepintoteaching.co.uk\\nStep into Teaching is committed to safeguarding the welfare of children and the successful applicant will be subject to an enhanced DBS Disclosure and Barring Service check.\\nJob Type: Full-time\\nSalary: ¬£401.00-¬£430.00 per week\\nSchedule:\\n\\nMonday to Friday\\n\\nEducation:\\n\\nBachelor's (required)\\n\\nWork Location: One location\\nReference ID: AKSDGFLEXRC\"},\n",
       " {'Position': 'Senior BI Applications (Technical) Manager',\n",
       "  'Company': 'Kingston University',\n",
       "  'Link': 'https://uk.indeed.com/applystart?jk=bbf4972e991c5c3a&from=vj&pos=bottom&mvj=0&spon=0&sjdu=mcLJI0lO9xR5mAT-NkUfzYDDplm6SwWjHcxyoDIphKlQorvllmPgjSeSYcvS1g0xkN0wkll9wDHc3mnStM4Hmg&vjfrom=serp&astse=a664f86478525053&assa=2323',\n",
       "  'Description': 'The Planning team provides analytical services to Kingston University in order to support decision-making. The mission of the team is to support the University in making informed, strategic and intelligent evidence-based decisions using one platform that delivers insightful, reliable and familiar data. As a technical lead within Planning, you will define and enforce best practice standards for Business Intelligence (BI) and Datawarehousing (DWH) in the delivery of Management Information Reporting across the University. You will take responsibility for designing, and building Business Intelligence Solutions using tools such as Microsoft SQL Server BI Suite, Tableau and Alteryx.\\nThe Person\\nYou will enjoy being a technical lead in a team, delivering a high-quality business intelligence service, defining and enforcing best practice standards for management information outputs that make a real difference to the performance of the university. You will be technically adept, and well versed in data warehouse concepts and tools such as Microsoft SQL Server BI Suite. You will enjoy working with multiple stakeholders across all levels of seniority as you plan, develop and support new reporting and dashboards. You will be comfortable with questioning data and systems and will make a significant contribution to the delivery of a high performance, customer focused, quality driven service. You will be key to the delivery of Management Information Reporting across the University that supports its aims and ambitions.\\nDirectorate/Function\\nBe part of a team that improves performance in higher education\\nThe Planning team empowers Kingston University to make decisions that improve its performance. We do this through research, data analysis and information that enables the institution to develop strategic and operational plans.\\nOur work impacts diverse areas. From identifying new courses to offer and ascertaining which interventions are helping students succeed, to providing information that assists the university to manage resources effectively.\\nOne of the ways our team does this is by developing data from our data warehouse and translating this information into user-friendly dashboard visualisations. This makes analysis and decision-making quicker and smarter.\\nUnderstanding what Kingston‚Äôs students think, want and expect is a central part of our work too-through research, surveys, and collaboration with staff across the organisation.\\nOur team also undertakes league tables analyses, and we advise on the relevancy of metrics from external organisations, such as the Office for Students.\\nBeing a motivated and supportive team, we enjoy the reward of knowing our work contributes to the University‚Äôs success.\\nFurther information\\nThis is a full time, fixed term position for 9 months with a starting salary of ¬£47,004 per annum.\\nThis post is available as a result of maternity leave and it is expected that you will hold it for the full period. However, should the substantive post-holder on maternity leave exercise their right to return to work earlier, then this appointment will be terminated, subject to a notice period of one month. The maternity cover is for 9 months.\\nInterviews are expected to be held on Thursday 11 May 2023.\\n\\nIf you require further information about this role, please contact Mr Benjamin Ellis, Senior Planning Data Manager.\\nBring your true self, expertise, and passion to Kingston where we are continuing to strive to build a university where authentic inclusion and belonging is at its heart. Every one of our staff and students‚Äô identities, backgrounds and diverse experiences makes us who we are - so harness and embrace yours by applying today. We welcome applications from Black, Asian and Minority Ethnic backgrounds, LGBTQ+ communities and those with disabilities.\\nCandidates must be able to demonstrate their eligibility to work in the UK in accordance with the Immigration, Asylum and Nationality Act 2006. Where required, this may include entry clearance or continued leave to remain under the Points Based Immigration Scheme.\\nTo apply click on ‚ÄòApply Now‚Äô. If, for accessibility reasons, you need to apply in an alternative format, please email jobs@kingston.ac.uk or call the HR Shared Services team on 020 8417 3118.'},\n",
       " {'Position': 'Classroom Based Data and Funding Administrator',\n",
       "  'Company': 'West Suffolk College',\n",
       "  'Link': 'https://uk.indeed.com/company/WEST-SUFFOLK-COLLEGE/jobs/Data-Administrator-767893fc03f70e5c?fccid=9487d2a4e55e79ea&vjs=3',\n",
       "  'Description': 'This is a hybrid role, and the key responsibilities will be to co-ordinate and administer student funding data for our Classroom Based Further Education provision. This will involve ensuring accurate data is analysed and input onto the ILR (Individual Learner Record) so that funding received from the Education and Skills Funding Agency is maximised, and that audit conditions are met.\\nThe successful candidate will have previous experience of working in an administrative environment, excellent working knowledge of spreadsheets and databases, and knowledge of data analysis. With an organised, methodical and flexible approach to working, you should have a high level of accuracy and attention to detail.\\nWest Suffolk College is one of the country‚Äôs leading further education and apprenticeship providers. Our apprenticeship results have consistently remained above the national average. We offer many degrees, HNCs and HNDs at our focused and inclusive University Studies Centre. We have around 13,000 students including nearly 2,000 apprentices studying with us.\\nAs a College, our Character Strengthsand Mission Statementunderpin our expectations of all our students and employees. Please familiarise yourself with these and incorporate them into your personal statement; this will be of benefit if you are invited to attend for an interview.\\nThis is an opportunity to join a hugely supportive organisation where we value, support and facilitate your professional development, as well as offering many other benefits including an attractive pension scheme, staff wellbeing initiatives and employee assistance.\\nThis College is committed to safeguarding and promoting the welfare of young people and vulnerable adults and expects all staff and volunteers to share this commitment.\\nIf you have not heard from a member of the HR Team within 14 working days, please presume your application has not been successful on this occasion.\\nClosing Date: 8.00am on Monday 8thMay 2023\\nInterviews: Will be held shortly thereafter\\nWe are an equal opportunities employer and welcome applications from all suitably qualified persons regardless of their race, sex, gender, gender reassignment, disability, religion/belief, sexual orientation or age in accordance with the requirements of the Equality Act 2010.\\nThe College is committed to safeguarding children and safer recruitment practices and will undertake all the required pre-employment checks on the successful candidate including an enhanced DBS Disclosure.\\nAll data will be processed in accordance with the Data Protection Act 2018. For more information about how we access and use your information please visit our website ‚Äì www.wsc.ac.uk/privacy-and-terms\\nJob Type: Full-time\\nSalary: ¬£20,403.00-¬£21,168.00 per year\\nBenefits:\\n\\nCanteen\\nCasual dress\\nCompany events\\nCycle to work scheme\\nDiscounted or free food\\nEmployee discount\\nFlexitime\\nFree flu jabs\\nFree parking\\nOn-site parking\\nSick pay\\nStore discount\\nWellness programme\\nWork from home\\n\\nSchedule:\\n\\nFlexitime\\nMonday to Friday\\n\\nWork Location: Hybrid remote in Bury St. Edmunds\\nApplication deadline: 08/05/2023Reference ID: 274023Flexitime'},\n",
       " {'Position': 'Lecturer (Teaching & Scholarship) in Statistics',\n",
       "  'Company': 'University of York',\n",
       "  'Link': 'https://uk.indeed.com/applystart?jk=de582db8e6731dc0&from=vj&pos=bottom&mvj=0&spon=0&sjdu=mcLJI0lO9xR5mAT-NkUfzYDDplm6SwWjHcxyoDIphKnjcovxj5JVJR6701NVVFfvkN0wkll9wDHc3mnStM4Hmg&vjfrom=serp&astse=a0e1c3dd36ef8e0c&assa=4923',\n",
       "  'Description': \"Lecturer in Statistics\\nThe Department of Mathematics is seeking to appoint a Lecturer in Statistics for a fixed term of five years. Applicants are expected to have a background in an area of Statistics, or related fields. The successful applicant will support the Department's teaching portfolio in Statistics by delivering modules at undergraduate and postgraduate levels and contributing to associated administrative tasks.\\nWe are a research-led department. We have high-calibre staff who produce innovative and technically demanding research on a world stage with a healthy span of research areas in pure and applied mathematics and statistics. All of our research was rated world-leading (4*) or internationally excellent (3*) in REF2021 in all three categories: outputs, impact and environment.\\nRole\\n\\nTo lecture, lead seminars, tutorials and other forms of undergraduate and postgraduate teaching.\\nTo develop and apply innovative and appropriate teaching techniques and material that create interest, understanding and enthusiasm amongst students.\\nTo carry out on-going curriculum review, including module content and materials and contribute to the development of teaching and learning strategies.\\nTo undertake effectively a range of administrative and managerial responsibilities.\\nYou will have a PhD or equivalent experience in Statistics, or a related area. You should also hold an appropriate academic professional and teaching qualification or a willingness to complete the Postgraduate Certificate in Academic Practice.\\nYou will have extensive specialist knowledge in an area of Statistics, to design, develop & deliver teaching to students in the Department of Mathematics.\\nYou will be able to provide learning support to students and have knowledge of a range of teaching techniques & methodologies. You will have experience of taking responsibility for teaching and learning at undergraduate and/or postgraduate level and of successful course planning, design and delivery.\\nYou will have highly developed communication skills to engage with a wide ranging audience using a range of media.\\n\\nSkills, Experience & Qualification needed\\nProvisional interview date: Wednesday 7th June 2023\\nInformal enquiries may be made to: Prof Degui Li (degui.li@york.ac.uk) or Dr Alet Roux (alet.roux@york.ac.uk)\\nThe University strives to be diverse and inclusive ‚Äì a place where we can ALL be ourselves.\\nWe particularly encourage applications from people who identify as Black, Asian or from a Minority Ethnic background, who are underrepresented at the University.\\nWe offer family friendly, flexible working arrangements, with forums and inclusive facilities to support our staff. #EqualityatYork\"},\n",
       " {'Position': 'Assistant Professor in Data Science',\n",
       "  'Company': 'The London Interdisciplinary School',\n",
       "  'Link': 'https://uk.indeed.com/rc/clk?jk=e964462de01baf0b&fccid=9da80ebe41af8dad&vjs=3',\n",
       "  'Description': 'Our Mission\\n LIS was founded with the belief that knowledge ‚Äì and the need for knowledge ‚Äì crosses borders. Tackling complex problems like climate change, the ethics of artificial intelligence, or wellbeing in the workplace requires reference to more than one subject. We need to be hybrid. We need to have range. \\nThis isn‚Äôt about defying ‚Äòconventional‚Äô knowledge. It‚Äôs about creating innovative and creative educational experiences to develop a broad, modern skillset. It‚Äôs about tackling real-world problems. And embracing and driving change. \\nOur interdisciplinary (ID) community consists of optimists who want to connect the dots. We‚Äôre educators, students, entrepreneurs, professionals, and activists. We‚Äôre open-minded, creative, and curious. \\n About the role:  We are looking for a data science teacher to join the quantitative methods team at the LIS.\\n There are many interpretations of ‚Äúdata science‚Äù. An early interpretation of that term in universities, was to refer to machine learning, AI, and big data. But we use the term to mean the practice of using code as the foundation for data analysis, and inference from data ‚Äî computational and inferential thinking. We use this approach to teach introductory, intermediate and advanced modules to undergraduates and masters students.\\n We aim to lead the UK in teaching data analysis through data science, and we want to hire someone who will help us build the courses, materials and media of such depth, clarity and originality that we will become a national hub for the practice and development of data science teaching.\\n Requirements\\n You should be:\\n\\nexperienced in teaching computational and inferential thinking to undergraduates and / or masters students ‚Äì but we‚Äôre also open to considering new talent who can convince us through the extended interview process that they are the right person;\\nexcited to work on new ways of explaining data analysis and statistics through computation;\\nfluent in at least one of Python or R;\\nable to show substantial experience in data analysis using one of these languages;\\nan excellent collaborator and able to work across diverse teams;\\nwilling to help other teachers to use these methods and tools. \\n\\nYou should have: \\n\\na PhD in a relevant area, although proven expertise in teaching or, e.g., in industry or government, would also be of interest;\\nexperience of managing associated administration and multiple deadlines;\\nan interest to work in an interdisciplinary context;\\nworked with standard tools for code and collaboration, such as version control, code review and automated testing\\ndesire to work across the university with student outreach, recruitment and pastoral support.\\n\\nBenefits\\n\\npermanent contract 0.5 to 0.7FTE; \\nsalary will be comparable to other UK HEIs in the Assistant Professor Range and may depend on experience; \\nall LIS Faculty have a portion of their contract dedicated to Research; \\n30 days annual leave pro rata;\\ncompany-sponsored health plan and monthly fitness contribution;\\n¬£1,000 annual learning budget to spend on personal development;\\nthe opportunity to join a mission-led, fast-growing organisation that is changing higher education.\\n\\n\\n\\n\\nAdditional Information:\\n The role is available to start on 1st September 2023 with a soft onboarding process during the summer to ensure readiness for start of the term. \\nPlease submit your CV and a cover letter as part of your application.\\n Initially successful candidates will be asked to submit a video presentation. The next stage will consist of a Panel Interview and a mock teaching session. \\nClosing date: 18th May 2023 Midnight. \\nWe are only able to consider candidates with the eligibility to work in the UK.'},\n",
       " {'Position': 'Lecturer/Senior Lecturer in Data Science',\n",
       "  'Company': 'Leeds Beckett University',\n",
       "  'Link': 'https://uk.indeed.com/applystart?jk=97b020e7ab1d73b8&from=vj&pos=bottom&mvj=0&spon=0&sjdu=mcLJI0lO9xR5mAT-NkUfzYDDplm6SwWjHcxyoDIphKnQRp54kPLLv5Um4-Jl_KfkkN0wkll9wDHc3mnStM4Hmg&vjfrom=serp&astse=5169ad2fe3625f53&assa=1941',\n",
       "  'Description': 'Job reference\\n \\n\\n   REQ0001438 \\n \\n\\n  Date posted\\n \\n\\n   20/04/2023 \\n \\n\\n  Application closing date: Midnight\\n \\n\\n   19/05/2023 \\n \\n\\n  Location\\n \\n\\n   Leeds \\n \\n\\n  Salary\\n \\n\\n   Lecturer - Grade 7, ¬£41,931 to ¬£47,047 Senior Lecturer - Grade 8, ¬£47,047 to ¬£54,421 \\n \\n\\n  Package\\n \\n\\n   Please refer to the Job Description and Employee Specification \\n \\n\\n  Job category/type\\n \\n\\n   Academic/Research \\n \\n\\n  Attachments\\n \\n\\n  Lecturer Job Description and Employee Specification REQ0001438.pdf Senior Lecturer Job Description and Employee Specification REQ0001438.pdf \\n \\n\\n  Job description\\n \\n\\n Leeds Beckett has a thriving Computer Science student culture, with hundreds of students actively engaged in studying across a suite of awards, including specialisms in Sustainable Computing, Cyber Security and Data Science. In addition, we have a growing research capacity, with the Centre for Research in Computer Science and Applications, and the Cybercrime and Security Innovation Centre being a focus for our projects and partnerships.\\n\\nAs a result of expanding student numbers and increased research activity we are looking to make a significant investment in our team and in the future of computer science at Leeds Beckett. We are seeking a lecturer or senior lecturer in Data Science to join our successful team and make a key contribution to our future provision.\\n\\nWe are particularly proud of our success in preparing students to take up professional positions within the IT industry after graduation. Hence our courses aim to develop in students a wide range of practical skills using a range of tools and environments that have a strong footprint among our industry partners. In addition to the technical work we introduce students to key critical and theoretical issues in the computing domain. When combined our overarching aim is to enable students to put theory into practice, to develop hand-on skills and experience which will give them the confidence and capability to drive their career aspirations.\\n\\nThe successful candidate will typically possess a PhD. in an appropriate subject (equivalent industrial experience may be considered), will be able to complement and enhance our research profile and have a strong commitment to develop and deliver a curriculum that enthuses students from a wide range of backgrounds.\\n\\nYou will join the Computing Subject Group of academics based at our Headingley Campus. There are extensive and excellent specialist facilities located in a setting that offers many additional amenities for our students and staff.\\n\\nWe are also advertising opportunities in the specialist areas of Cyber Security and Software Engineering. These opportunities can be found on our website.\\n\\nFor an informal conversation about this role please contact Paul Doney, Head of Subject via email at p.doney@leedsbeckett.ac.uk\\n\\nTo apply for this role please submit a CV and a covering letter of no more than two pages, addressing the essential criteria.\\n\\nClosing date: 19 May 2023 (23:59) Please note that you will not be able to edit or submit a part-completed application form after the closing date.\\n\\n \\nWorking here means you‚Äôll also have access to a wide range of benefits including our generous pension schemes, excellent holiday entitlements, flexible and hybrid working, reduced study fees, subsidised fitness facilities and a lot more.\\n We welcome applications from all individuals and particularly from black and minority ethnic candidates as members of these groups are currently under-represented in the team. All appointments will be based on merit.'},\n",
       " {'Position': 'Lecturer/Senior Lecturer in Software Engineering',\n",
       "  'Company': 'Leeds Beckett University',\n",
       "  'Link': 'https://uk.indeed.com/applystart?jk=bd7158cf06dd7aa5&from=vj&pos=bottom&mvj=0&spon=0&sjdu=mcLJI0lO9xR5mAT-NkUfzYDDplm6SwWjHcxyoDIphKlmyq7S2ZlCe_bZs3Ub_7vVkN0wkll9wDHc3mnStM4Hmg&vjfrom=serp&astse=c427c40ccab52ad3&assa=2571',\n",
       "  'Description': 'Job reference\\n \\n\\n   REQ0001439 \\n \\n\\n  Date posted\\n \\n\\n   20/04/2023 \\n \\n\\n  Application closing date: Midnight\\n \\n\\n   19/05/2023 \\n \\n\\n  Location\\n \\n\\n   Leeds \\n \\n\\n  Salary\\n \\n\\n   Lecturer - Grade 7, ¬£41,931 to ¬£47,047, Senior Lecturer - Grade 8, ¬£47,047 to ¬£54,421 \\n \\n\\n  Package\\n \\n\\n   Please refer to the Job Description and Employee Specification \\n \\n\\n  Job category/type\\n \\n\\n   Academic/Research \\n \\n\\n  Attachments\\n \\n\\n  Lecturer Job Description and Employee Specification REQ0001439.pdf Senior Lecturer Job Description and Employee Specification REQ0001439.pdf \\n \\n\\n  Job description\\n \\n\\n Leeds Beckett has a thriving Computer Science student culture, with hundreds of students actively engaged in studying across a suite of awards, including specialisms in Sustainable Computing, Cyber Security and Data Science. In addition, we have a growing research capacity, with the Centre for Research in Computer Science and Applications, and the Cybercrime and Security Innovation Centre being a focus for our projects and partnerships.\\n\\nAs a result of expanding student numbers and increased research activity we are looking to make a significant investment in our team and in the future of computer science at Leeds Beckett. We are seeking a lecturer or senior lecturer in Software Engineering to join our successful team and make a key contribution to our future provision.\\n\\nWe are particularly proud of our success in preparing students to take up professional positions within the IT industry after graduation. Hence our courses aim to develop in students a wide range of practical skills using a range of tools and environments that have a strong footprint among our industry partners. In addition to the technical work we introduce students to key critical and theoretical issues in the computing domain. When combined our overarching aim is to enable students to put theory into practice, to develop hand-on skills and experience which will give them the confidence and capability to drive their career aspirations.\\n\\nThe successful candidate will typically possess a PhD. in an appropriate subject (equivalent industrial experience may be considered), will be able to complement and enhance our research profile and have a strong commitment to develop and deliver a curriculum that enthuses students from a wide range of backgrounds.\\n\\nYou will join the Computing Subject Group of academics based at our Headingley Campus. There are extensive and excellent specialist facilities located in a setting that offers many additional amenities for our students and staff.\\n\\nWe are also advertising opportunities in the specialist areas of Cyber Security and Data Science. These opportunities can be found on our website.\\n\\nFor an informal conversation about this role please contact Paul Doney, Head of Subject via email at p.doney@leedsbeckett.ac.uk.\\n\\nTo apply for this role please submit a CV and a covering letter of no more than two pages, addressing the essential criteria.\\n\\nClosing date: 19 May 2023 (23:59) Please note that you will not be able to edit or submit a part-completed application form after the closing date.\\n\\n \\nWorking here means you‚Äôll also have access to a wide range of benefits including our generous pension schemes, excellent holiday entitlements, flexible and hybrid working, reduced study fees, subsidised fitness facilities and a lot more.\\n We welcome applications from all individuals and particularly from black and minority ethnic candidates as members of these groups are currently under-represented in the team. All appointments will be based on merit.'},\n",
       " {'Position': 'Lecturer/Senior Lecturer in Cyber Security',\n",
       "  'Company': 'Leeds Beckett University',\n",
       "  'Link': 'https://uk.indeed.com/applystart?jk=83c0fa70f7302e4c&from=vj&pos=bottom&mvj=0&spon=0&sjdu=mcLJI0lO9xR5mAT-NkUfzYDDplm6SwWjHcxyoDIphKmyVbTWBpGF6SJLaQ-M4xdRkN0wkll9wDHc3mnStM4Hmg&vjfrom=serp&astse=1f5b9e7e6b86c920&assa=4521',\n",
       "  'Description': 'Job reference\\n \\n\\n   REQ0001436 \\n \\n\\n  Date posted\\n \\n\\n   20/04/2023 \\n \\n\\n  Application closing date: Midnight\\n \\n\\n   19/05/2023 \\n \\n\\n  Location\\n \\n\\n   Leeds \\n \\n\\n  Salary\\n \\n\\n   Lecturer - Grade 7, ¬£41,931 to ¬£47,047, Senior Lecturer - Grade 8, ¬£47,047 to ¬£54,421 \\n \\n\\n  Package\\n \\n\\n   Please refer to the Job Description and Employee Specification \\n \\n\\n  Job category/type\\n \\n\\n   Academic/Research \\n \\n\\n  Attachments\\n \\n\\n  Lecturer Job Description and Employee Specification REQ0001436.pdf Senior Lecturer Job Description and Employee Specification REQ0001436.pdf \\n \\n\\n  Job description\\n \\n\\n Leeds Beckett has a thriving Computer Science student culture, with hundreds of students actively engaged in studying across a suite of awards, including specialisms in Sustainable Computing, Cyber Security and Data Science. In addition, we have a growing research capacity, with the Centre for Research in Computer Science and Applications, and the Cybercrime and Security Innovation Centre being a focus for our projects and partnerships.\\n\\nAs a result of expanding student numbers and increased research activity we are looking to make a significant investment in our team and in the future of computer science at Leeds Beckett. We are seeking a lecturer or senior lecturer in Cyber Security to join our successful team and make a key contribution to our future provision.\\n\\nWe are particularly proud of our success in preparing students to take up professional positions within the IT industry after graduation. Hence our courses aim to develop in students a wide range of practical skills using a range of tools and environments that have a strong footprint among our industry partners. In addition to the technical work we introduce students to key critical and theoretical issues in the computing domain. When combined our over arching aim is to enable students to put theory into practice, to develop hand-on skills and experience which will give them the confidence and capability to drive their career aspirations.\\n\\nThe successful candidate will typically possess a PhD in an appropriate subject (equivalent industrial experience may be considered), will be able to complement and enhance our research profile and have a strong commitment to develop and deliver a curriculum that enthuses students from a wide range of backgrounds.\\n\\nYou will join the Computing Subject Group of academics based at our Headingley Campus. There are extensive and excellent specialist facilities located in a setting that offers many additional amenities for our students and staff.\\n\\nWe are also advertising opportunities in the specialist areas of Data Science and Software Engineering. These opportunities can be found on our website.\\n\\nFor an informal conversation about this role please contact Paul Doney, Head of Subject via email at p.doney@leedsbeckett.ac.uk\\n\\nTo apply for this role please submit a CV and a covering letter of no more than two pages, addressing the essential criteria.\\n\\n\\nClosing date: 19 May 2023 (23:59) Please note that you will not be able to edit or submit a part-completed application form after the closing date.\\n\\n \\nWorking here means you‚Äôll also have access to a wide range of benefits including our generous pension schemes, excellent holiday entitlements, flexible and hybrid working, reduced study fees, subsidised fitness facilities and a lot more.\\n We welcome applications from all individuals and particularly from black and minority ethnic candidates as members of these groups are currently under-represented in the team. All appointments will be based on merit.'},\n",
       " {'Position': 'Engineering Manager',\n",
       "  'Company': 'Full Fabric',\n",
       "  'Link': 'https://uk.indeed.com/applystart?jk=adad2c5f61005fe2&from=vj&pos=bottom&mvj=0&spon=0&sjdu=mcLJI0lO9xR5mAT-NkUfzYDDplm6SwWjHcxyoDIphKmipCMxU7_GB6i0s8ZG1toEkN0wkll9wDHc3mnStM4Hmg&astse=98db5e8b2dd9bccc&assa=9456',\n",
       "  'Description': \"FULL FABRIC - https://fullfabric.com - is a London-based company developing technology for higher education. Our solutions are used by university staff, management, lecturers, students, prospective students and alumni. Join us in our mission to deliver great products to the higher education industry.\\nThe Technical Engineering Manager will be responsible for managing a team of engineers and overseeing the development of our SaaS product. You will work closely with product managers, designers, and other stakeholders to ensure that the product is developed to meet the needs of our customers and the market.\\nKey Responsibilities:\\n- Lead a team of engineers in the development of FULL FABRIC\\n- Collaborate with product managers, designers, and other stakeholders to define product requirements and priorities\\n- Develop and implement engineering processes and best practices to ensure the team is delivering high-quality code on time and on budget\\n- Manage the development, testing, and deployment of new features and functionality\\n- Ensure the scalability, security, and reliability of the product\\n- Build and maintain a positive and productive team culture\\n- Recruit, hire, and onboard new engineering team members\\n- Provide mentorship, coaching, and career development guidance to team members\\n- Conduct performance evaluations and provide feedback to team members\\n- Foster a culture of innovation, continuous learning, and accountability within the engineering team\\nQualifications:\\n- Bachelor's or Master's degree in Computer Science or a related field\\n- 6+ years of experience in software engineering, with a focus on SaaS products\\n- 3+ years of experience in a management or leadership role\\n- Strong technical skills in modern web development technologies such as JavaScript, React, Node.js, and AWS\\n- Experience with agile development methodologies\\n- Excellent communication and collaboration skills\\n- Proven ability to lead and manage a team of engineersFluency in english is mandatory\\nIf you are a results-oriented individual who is passionate about developing innovative and high-quality software products, then we want to hear from you.&nbsp;\\nJob Type: Full-time\"},\n",
       " {'Position': 'Service Desk Technician - Placement',\n",
       "  'Company': 'Nottingham Trent University',\n",
       "  'Link': 'https://uk.indeed.com/applystart?jk=a76cc30ef99d0b23&from=vj&pos=bottom&mvj=0&spon=0&sjdu=mcLJI0lO9xR5mAT-NkUfzYDDplm6SwWjHcxyoDIphKlBZYQOFHqVvH0oahkh2dyckN0wkll9wDHc3mnStM4Hmg&vjfrom=serp&astse=73c309e2e257e3f6&assa=7478',\n",
       "  'Description': 'Are you a problem solver? \\nHave you got a passion for Customer Service and IT Support?\\n Are you an NTU placement student?\\n NTU prides itself on providing our students with excellent placement experiences. Our placements give you hands on experience, allowing you to develop your knowledge and skills. You can help shape our services to make a real difference. See NTU from a different point of view and join us for your placement.\\n Apply Now! \\n\\n\\n\\n\\nWhat You\\'ll Do\\n\\n We\\'re looking for great communicators to join our high performing and friendly Service Desk team. You‚Äôll provide essential support to staff and students on a variety of IT services, building on our excellent reputation for customer care. \\nWe just need you to be customer-focused, enthusiastic, and willing to learn.\\n The Service Desk has an excellent reputation for both customer care and technical support, where we support academic and administrative staff, and students across the University.\\n You will work as part of the team where you will:\\n\\nBe the first point of contact for IT services\\nProvide advice to users to resolve both software and hardware incidents and requests\\nTroubleshoot queries and provide support to the team and users \\n\\nInterview Date: W/C 15th May 2023\\n If you have specific queries in relation to this role, please contact Kirsty Hilton (Service Desk Team Leader) - kirsty.hilton@ntu.ac.uk.\\n \\n\\n\\n\\n\\nDon\\'t take our word for it...\\n Here\\'s what our current placement student\\'s have to say:\\n \"As someone without the typical IT background, I have loved my experience so far of working at the DT Service Desk. It has taught me many skills like problem solving, I love the team I work with, and every day feels different.\"\\n \"My placement has been a very eye-opening experience that has allowed me to see how the university functions behind the scenes which you can‚Äôt fully appreciate the scale of as a student. I have enjoyed the experience and have been able to improve my IT and communication skills while gaining real-life experience.\"\\n For more student placement opportunities visit our Jobs Portal or InPlace. \\n\\n\\n\\n\\nAbout NTU\\n This position is only open to undergraduate and postgraduate students of Nottingham Trent University where a work placement is required of the course. Applications from overseas students currently studying on a Tier 4 visa will be considered alongside other applications.\\n NTU prides itself on being an inclusive employer. We value and celebrate equality in opportunities, and we welcome applications from people who reflect the diversity of our communities. \\nPlease note that this role is covered by the Rehabilitation of Offenders Act (1974) and successful applicants will be asked to declare any unspent criminal convictions.'},\n",
       " {'Position': 'Course Leader - Games Programming',\n",
       "  'Company': 'Ravensbourne University London',\n",
       "  'Link': 'https://uk.indeed.com/applystart?jk=0474d9534fd4e793&from=vj&pos=bottom&mvj=0&spon=0&sjdu=mcLJI0lO9xR5mAT-NkUfzYDDplm6SwWjHcxyoDIphKnYLtgOAxOFKNKWJb-YqF_-kN0wkll9wDHc3mnStM4Hmg&vjfrom=serp&astse=6094fca950660778&assa=3584',\n",
       "  'Description': \"BA (Hons) Games Design\\n\\n\\n\\n\\nLocation:\\n\\n\\n     Penrose Way\\n    \\n\\n\\n\\n\\nSalary:\\n\\n\\n     ¬£58,026 \\n    \\n\\n\\n\\n\\nPost Type:\\n\\n\\n     Full Time\\n    \\n\\n\\n\\n\\nContract Type:\\n\\n\\n     Permanent \\n    \\n\\n\\n\\n\\nClosing Date:\\n\\n\\n     23.59 hours BST on Friday 19 May 2023 \\n    \\n\\n\\n\\n\\nInterview Date:\\n\\n\\n     To be confirmed \\n    \\n\\n\\n\\n\\nReference:\\n\\n\\n     A2021010-R-R\\n    \\n\\n\\n\\n\\n\\nOur University\\n Ravensbourne University London is an innovative, industry-focused university located at the heart of London‚Äôs newest creative community on the Greenwich Peninsula. We're champions of creativity and collaboration, dedicated to giving our learners the specialist skills and opportunities they need for outstanding careers in digital media and design.\\n We occupy a prime location in an award-winning building which has been hailed as a masterclass in functional design and public art and was awarded the best Higher Education building in 2011 by RIBA. Sited just a two-minute walk from North Greenwich Jubilee line underground station and adjacent to the O2 arena it is a truly vibrant place to work.\\n Following significant investment by the university in the learning environment and the student experience provides for games and animation, we are seeking to make further appointments to enhance our portfolio and to help drive our ambitious programme of strategic change. We are now seeking a Course Leader in Games Programming to join this highly successful and growing area of our university.\\n Please note: Due to the Covid-19 pandemic, we are currently working to a hybrid model of remotely and at the Ravensbourne building\\n The Role\\n Ravensbourne University London is seeking to recruit a dynamic, creative and innovative educator to lead the subject of Games Progamming. The successful candidate will have overall responsibility for the BSc (Hons) Games Programming course and contribute to the teaching delivery of modules in related courses. Our Games Programming course reflects forward thinking industry practice in its approach to programming for games, incorporating good programming practice, established game programming patterns and software development practice alongside co-operating with other developers to make compelling games products.\\n The Candidate\\n You will combine professional experience, academic knowledge, and a strong understanding of current industry practice; you will bring the dynamism to inspire our students; and you will bring the experience to facilitate a high-quality learning environment. The leader we are seeking will have the knowledge, industry contacts and vision to build the course and develop new opportunities in the discipline.\\n Ravensbourne University operate the Disability Confident scheme, and are committed to good practice in employing disabled people. For more information click here\\n\\n\\n\\n\\nFurther details:\\n\\n\\n     Job Description\\n    \\n\\n\\n\\n\\n\\n\\n\\n\\n\\n\\n\\n\\n\\n\\n\\n\\n\\nWe welcome applicants from all backgrounds and communities, and in particular those that are currently under-represented in our workforce. This includes, but is not limited to, Black, Asian and Minority Ethnic candidates, candidates with disabilities, and female candidates.\"},\n",
       " {'Position': 'Research Software Engineer',\n",
       "  'Company': 'University of Leeds',\n",
       "  'Link': 'https://uk.indeed.com/applystart?jk=062da2d264fd3743&from=vj&pos=bottom&mvj=0&spon=0&sjdu=mcLJI0lO9xR5mAT-NkUfzYDDplm6SwWjHcxyoDIphKnL0dm11ZS1qLLrhQPoGiXmkN0wkll9wDHc3mnStM4Hmg&vjfrom=serp&astse=dd737fdfd5a4ef7f&assa=3574',\n",
       "  'Description': 'Research Software Engineer\\n\\nSalary: Grade 7 (¬£36,333 - ¬£43,155 depending on experience)\\n 2 vacancies available\\n Interviews will take place on Tuesday 23rd and Wednesday, 24th May 2023.\\n This role will be based on the university campus with scope for it to be undertaken in a hybrid manner. We are also open to discussing flexible working arrangements.\\n Are you excited about driving innovation? Can you facilitate better computational research practices? Do you like to deliver training around software engineering, GPU toolsets, machine learning and providing bespoke consulting services for research projects?\\n The University of Leeds is a member of the Russell Group of the top research universities in the UK. As part of our strategy to meet the global research challenges of the next ten years, we are investing in a major refresh of our research support teams and technology platforms. The Research Software Engineering team at Leeds works closely with our research colleagues to address the many challenging problems that research and innovation continually pose. The new investment includes a significant expansion of this team, and we are now looking for individuals who would like to work with data, technology and research to deliver the world of tomorrow.\\n As Research Software Engineer, you will help to explore, design, build and support innovative solutions to research computing problems and support our research community across a range of domains including Artificial Intelligence, bioinformatics, computational fluid dynamics, deep learning and data science. As part of a team, you will support University High Performance Computing service and the regional N8-BEDE and JADE-2 services, working collaboratively with researchers to help them devise and optimise workflows, models and codes. You will also have the opportunity to specialise your expertise to one of the following domains: computational fluid dynamics, artificial intelligence and deep learning or data science.\\n You will join a friendly, focused and growing team of Research Software Engineers and Infrastructure Specialists with a mission to provide the tools and skills to help improve the quality and delivery of research at the University of Leeds. It is an exciting time to join the team, with a significant financial investment and transformation programme underway. It will transform the services we support and enhance our provision to the research and teaching community. We are always looking for new ways to efficiently and effectively solve problems and support the delivery of high quality research.\\n A significant part of this role will include working with staff and students in a number of UKRI Centres for Doctoral Training that the University of Leeds is part of, as well as colleagues in the Leeds Institute for Data Analytics (LIDA) and across the University.\\n Working in the Research IT team based within IT Services, as a Research Software Engineer, you will provide a range of technical software development, data management and cloud computing related activities to enhance research outcomes.\\n What we offer in return\\n\\n 26 days holiday plus approx.16 Bank Holidays/days that the University is closed by custom (including Christmas) ‚Äì That‚Äôs 42 days a year!\\n Generous pension scheme plus life assurance‚Äì the University contributes 21.6% of salary\\n Health and Wellbeing: Discounted staff membership options at The Edge, our state-of-the-art Campus gym, with a pool, sauna, climbing wall, cycle circuit, and sports halls.\\n Personal Development: Access to courses run by our Organisational Development & Professional Learning team, and self-development courses including languages, Creative Writing, Wellbeing Therapies and much more.\\n Access to on-site childcare, shopping discounts and travel schemes are also available.\\n\\n And much more!\\n If you are looking for a role that will allow you to drive innovation, and work with data, technology and research to deliver the world of tomorrow, apply today!\\n To explore the post further or for any queries you may have, please contact:\\n Mark Conmy, Head of Research IT\\n Email: M.P.Conmy@leeds.ac.uk\\n\\n\\n\\n\\n\\n\\nLocation:\\n\\n\\n     Leeds - Main Campus\\n    \\n\\n\\n\\n\\nFaculty/Service:\\n\\n\\n     IT\\n    \\n\\n\\n\\n\\nSchool/Institute:\\n\\n\\n     Research IT\\n    \\n\\n\\n\\n\\nCategory:\\n\\n\\n     Professional & Managerial\\n    \\n\\n\\n\\n\\nGrade:\\n\\n\\n     Grade 7 \\n    \\n\\n\\n\\n\\nSalary:\\n\\n\\n     ¬£36,333 to ¬£43,155 p.a. \\n    \\n\\n\\n\\n\\nWorking Time:\\n\\n\\n     1.0 FTE\\n    \\n\\n\\n\\n\\nPost Type:\\n\\n\\n     Full Time \\n    \\n\\n\\n\\n\\nContract Type:\\n\\n\\n     Ongoing\\n    \\n\\n\\n\\n\\nRelease Date:\\n\\n\\n     Wednesday 19 April 2023\\n    \\n\\n\\n\\n\\nClosing Date:\\n\\n\\n     Tuesday 09 May 2023\\n    \\n\\n\\n\\n\\nInterview Date:\\n\\n\\n     Tuesday 23 May 2023 \\n    \\n\\n\\n\\n\\nReference:\\n\\n\\n     ITRES1004'},\n",
       " {'Position': 'Performance Data Analyst',\n",
       "  'Company': 'KeolisAmey DLR',\n",
       "  'Link': 'https://uk.indeed.com/rc/clk?jk=8c62c415a6ccaf82&fccid=124f180ec7045d22&vjs=3',\n",
       "  'Description': 'KeolisAmey Docklands (KAD) is an award-winning Light Rail Operator and proud to operate the Docklands Light Railway (DLR) which serves a vibrant community at the heart of the East End of London. We pride ourselves, not just in our outstanding safety and performance records, but in our hunger to deliver an amazing customer experience.\\n \\n\\n\\n We are looking for a \\n  Performance Data Analyst\\n to join our Performance Team at Keolis Amey Docklands (KAD) who provide a high-quality analytical service for the operational and senior management team using data visualisations to influence and improve the overall operational performance of the railway. Working as part of the Performance Team, this role focuses on pulling data together for reporting and analysis purposes for the operational railway performance of the Docklands Light Railway (DLR). The role will require relationship building with both internal and external stakeholders and ensuring the findings from the analyses are communicated to key stakeholders across the business in an engaging and impactful manner.\\n \\n\\n\\n Key Accountabilities\\n\\n\\n Facilitate and when required chair the daily, weekly and periodic performance meetings. These meetings will review the operational performance, identifying root causes of disruption and evaluating response. Corrective actions will be identified with target dates for completion.\\n Monitor and review the operational performance regime, with a view to identify and raise issues directly with the relevant stakeholders (internal or external) and expediting any required resolutions.\\n Support KAD‚Äôs response to franchise performance criteria and debate on any issues outside of KAD‚Äôs control with DLRL‚Äôs representatives.\\n Assist in promoting an appropriate level of knowledge of the key operational performance measures within the KAD‚Äôs Franchise Agreement, ensuring all departments understand their roles in delivering the target for the optimum performance for the railway.\\n Attend key working groups within the business with appropriate information to inform healthy debates and reason out the decision-making. This includes providing information and analyses of periodic, quarterly and yearly allocations and attributions of the performance losses.\\n Support in ensuring efficient and effective performance budgeting and forecasting by taking full accountability of trends and developments.\\n Produce graphs and reports for the Franchise Report as part of the franchise obligation, as well as providing ad hoc data to the relevant stakeholders.\\n Working alongside with the Senior Performance Analyst in all aspects of performance analysis to ensure accuracy and completeness within the day-to-day operations.\\n Provide relevant and accurate business information to DLRL and other stakeholders at period end.\\n Maintain close relationship with internal key stakeholders to ensure both efficiency and reliability are being realised in any variations for the running of the operational railway.\\n Using visualisation software, identify trends with the aim to improving performance and preventing reoccurrence.\\n\\n\\n\\n Qualifications/experience\\n\\n\\n Degree or previous experience in a similar role.\\n Business or industry experience ideally within an engineering sector\\n Effective communication skills, email, face to face and by telephone.\\n Advanced computer literacy and Microsoft Suite knowledge.\\n Results driven individual, keen in working with data and analytical tools.\\n\\n\\n Competencies\\n\\n Excellent written, oral communications and presentation skills.\\n Previous exposure to data analytics and BI Dashboards would be an advantage.\\n Excellent analytical skills and ability to present the data and to draw insights.\\n Excellent organisational skills with a logical approach to problem solving.\\n Ability to work under pressure under tight deadlines.\\n Must be able to work as part of a team as well as independently.\\n Ability to see tasks through to completion.\\n\\n\\n Specific requirements\\n\\n Good interpersonal skills, with the ability to build trust, rapport, and productive relationships.\\n Strong communications skills, being able to convey performance results clearly and in multiple formats to various audiences.\\n Works in a structured and methodical manner, deadline driven.\\n Is able to influence when recommending a course of action.\\n Pro-active self-starter.\\n Good team player.\\n\\n\\n\\n Benefits\\n\\n\\n   As part of the Transport for London family, we offer our staff a range of competitive benefits including:\\n \\n\\n Free travel for you and a nominated partner/family member, living at the same address, across the TfL network\\n A 75% discount on National Rail Season Ticket and interest-free loan\\n\\n\\n\\n Equal Opportunities\\n\\n\\n KeolisAmey Docklands recognises and actively promotes the benefits of a diverse workforce and is committed to treating all employees with dignity and respect regardless of race, gender, disability, age, sexual orientation, religion or belief. We therefore welcome applications from all sections of the community.\\n\\n\\n\\n Closing date, 7th May 2023'},\n",
       " {'Position': 'Data Systems Analyst',\n",
       "  'Company': 'University of Warwick',\n",
       "  'Link': 'https://uk.indeed.com/applystart?jk=1620f9cdab95b4a9&from=vj&pos=bottom&mvj=0&spon=0&sjdu=mcLJI0lO9xR5mAT-NkUfzYDDplm6SwWjHcxyoDIphKnxlVfWLJEfdRKEhWOHcs5HkN0wkll9wDHc3mnStM4Hmg&vjfrom=serp&astse=61db595179a641c4&assa=1026',\n",
       "  'Description': 'Full time, permanent position - 1.0 FTE   This is an exciting opportunity to join the Data Team within Warwick Business School (WBS), leading on enhancing our data and systems. Working alongside a team of peer Data & Systems Analysts, you‚Äôll lead on an identified area of operations e.g. careers and corporate data, student records, and module records, to ensure the quality of our data and related-processes. You‚Äôll pro-actively seek to understand policy and practice in the area, identifying potential efficiencies to enhance student and staff satisfaction and ease of use, and scoping out innovations for implementation.   You‚Äôll be technically adept, with an excellent understanding of how to extract, manipulate, and validate data. Core to this will be competency in Excel and Access, although experience of using other software packages is highly desirable, including knowledge of writing SQL queries. Experience with data visualisation packages such as PowerBI is also desirable.   With a problem-solving mindset, you‚Äôll be able to quickly learn new systems and processes, identifying ways in which they can be improved and working with your team, peers, and other stakeholders to enhance existing services. You‚Äôll lead on a number of projects across the School‚Äôs operations as required and be expected to contribute towards wider team and school strategy, through collaborative working with the Software Development Team to test new developments. You‚Äôll be expected to contribute towards establishing a strong community of practice within the School relating to data and systems, sharing best practice and innovations in this area as well as delivering training.   For further information or to arrange an informal conversation to discuss the role, please contact Lorna Jarvis, Recruiting Manager via Lorna.Jarvis@wbs.ac.uk.   To apply, please complete the application form and provide a CV and Cover Letter which clearly sets out how you meet the essential and desirable criteria as highlighted in the person specification.   Interview Date: TBC\\n\\n\\n Job Description\\n\\n Job Description\\n\\n To support with ensuring data is accurate and validated, presented appropriately for a wide-range of purposes. This role will also focus on designing queries, providing data and systems support through diagnosing problems and finding resolutions and will involve communicating effectively with a wide range of stakeholders. \\n   \\n\\nDuties & Responsibilities\\n\\n\\nOperational Oversight for Data and Systems\\n\\n\\n\\nTo provide expertise and implementation skills in projects to exploit the potential of data and systems within the School. Within an assigned area of operation, Data and Systems Analysts will be required to develop a broad and deep understanding business processes and needs of the School. \\n\\n\\n\\nTo contribute to the work involved in planning, establishing, documenting and maintaining the systems and data infrastructure in their areas of responsibility. \\n\\n\\n\\nTo support users providing excellent customer service in the effective use of existing systems and efficient implementations of new ones. \\n\\n\\n\\nTo keep abreast of wider technical developments, assisting Information Systems Consultants in the Software Development Team in the creation and evolution of School platforms, systems, and services. \\n\\n\\n\\nTo take on key responsibility for developing the effective use of data and systems through the provision of appropriate tools and by ensuring that colleagues make effective use of them, ensuring potential efficiency savings in business processes and procedures are identified and considered. \\n\\n\\nProject Management\\n\\n\\n\\nTo lead on bespoke projects to enhance service levels and operational efficiencies within a range of functional areas, taking into account full user-journeys and pro-actively engaging key stakeholders throughout. \\n\\n\\n\\nTo maintain a deep understanding of the operations within the role‚Äôs remit, including pro-actively attending briefings and information sharing networks and events to better understand developments within areas of focus, including those hosted by colleagues within WBS and the wider University. \\n\\n\\n\\nTo work closely with WBS eSolutions developers during any development of a product or service for their area of activity, acting as the key liaison between the E-Solutions development group and stakeholders within their area of specialism \\n\\n\\nMaintaining and fostering Communities of Practice and Line Management\\n\\n\\n\\nTo contribute to an on-going programme of training (induction, one-to-one, and standard and bespoke courses). The aims are to create and maintain a high level of understanding amongst all staff of the potential contribution of technology to management and operational activities, and to instil the requisite skills to facilitate wide take-up of the possibilities offered by existing services and new developments. \\n\\n\\n\\nTo maintain close contacts with peers and relevant managers, share expertise and information to ensure that developments are co-ordinated, and that a coherent development and service environment is maintained.\\n\\n\\n\\n\\n\\n\\n\\n For further information about the University of Warwick, please read our University Further Particulars. \\n \\n Warwick Business School (WBS) is a world-class business school at the heart of a world-class University, challenging assumptions and championing business as a force for good. From the pioneering research we undertake, to the students we help to shape, we are for the Change Makers who will impact the world for the better. \\n \\n We were the first UK business school to be triple accredited by the major bodies (EQUIS, AMBA, AACSB) and our courses consistently rank highly (our Distance Learning MBA is first in the world, our Executive MBA is ranked first in the UK and sixth in the world, and our MSc Management is ranked first in the UK and ninth in the world). \\n \\n However, we‚Äôre more than our rankings and we‚Äôre proud to be different. We‚Äôre down to earth and approachable, and we want WBS to feel like home to our students, our staff and our alumni community. We look to provide a stimulating and fulfilling work environment for all. One where you will feel supported and encouraged to grow professionally; developing your knowledge, skills, confidence and career. \\n \\n\\nOur Vision\\n\\n Our vision is to be Europe‚Äôs leading University-based business school, developing transformational ideas and people that shape how we do business. This vision is supported by our three-fold mission: \\n \\n 1. To develop cutting-edge research that leads debate and deepens our understanding of the practice of business and management. \\n \\n 2. To provide a transformational learning experience, enabling our stakeholders to realise their full potential. \\n \\n 3. To work in partnership with policy and practice, both in terms of our research and teaching activities, to catalyse the impact of our work. \\n \\n Everything we do is underpinned by our CORE values and driven by a commitment to a Change Maker mindset. We look for this shared commitment across our staff and student community. \\n \\n\\n\\nChange Makers see the bigger picture. Thinking beyond themselves and their environment, they‚Äôre open to other viewpoints and consider the ripple effect of what they do on a personal, social, and commercial level. They‚Äôre driven by having the biggest positive impact and a focus on the greater good. \\n\\n\\n‚Ä¢ Change Makers challenge the norm. Challenging the status quo and not just accepting things at face value is when real impact and change can be delivered. \\n \\n\\n‚Ä¢ Change Makers have the drive as well as the vision. It‚Äôs one thing having a vision but having the drive and work ethic to realise a vision is another matter. Change Makers relentlessly pursue every possible solution in order to achieve their goals. \\n \\n\\nOur CORE Values\\n\\n\\n\\nCuriosity. We challenge, we embrace different perspectives, and we think creatively to build our future. \\n\\n\\n\\nOpenness. We‚Äôre open to different perspectives, talking to stakeholders, listening to feedback, embracing change and pushing forward for the better. \\n\\n\\n\\nRestlessness. We‚Äôre not satisfied with standing still, and never stop looking for ways to improve. Constantly evaluating, we don‚Äôt stop when we‚Äôve achieved one thing; we use all of our initiative, drive and resourcefulness to achieve more. \\n\\n\\n\\nExcellence At a world class university and a globally recognised business school, excellence is a given. There are no half measures at WBS. \\n\\n The University of Warwick holds an Athena SWAN Silver award; a national initiative to promote gender equality for all staff and students. Further information about the work of the University in relation to Athena SWAN can be found at the following link: Athena Swan (warwick.ac.uk) \\n \\n The University of Warwick is one of the six founder institutions of the EUTOPIA European University alliance, whose aim is to become by 2025 an open, multicultural, confederated operation of connected campuses. \\n \\n Warwick is committed to building an organisation of mutual respect and dignity, promoting a welcoming, diverse and inclusive working and learning environment. We recognise that everyone is different in a variety of visible and non-visible ways, and that those differences are to be recognised, respected, and valued. Where possible, we go beyond legislation to provide a place where everyone can thrive, supporting all staff to achieve their full potential. We aspire to remove economic, social and cultural barriers that may otherwise prevent people from succeeding. \\n \\n We therefore welcome and encourage applications from all communities regardless of culture, background, age, disability, sex/gender, gender identity or expression, ethnicity, religion/belief, or sexual or romantic orientation. To find out more about our social inclusion work at Warwick visit our webpages here. \\n \\n\\nRight to work in the UK\\n\\n If you do not yet have the right to work in the UK and/or are seeking sponsorship for a Skilled Worker visa in the UK points-based immigration system please click on this link which contains further information about obtaining right to work in the UK and details about eligibility for sponsorship for a Skilled Worker Visa.'},\n",
       " {'Position': 'Senior Administrator',\n",
       "  'Company': 'Hiring People',\n",
       "  'Link': 'https://uk.indeed.com/pagead/clk?mo=r&ad=-6NYlbfkN0CMZ7tpgFmAbf-aVSnDHip6tkpf-NkY0_o_YDRR6yv54kjvDWEmdO5bNWDlUjpiFdHhR90PpWO3-buuq9aUGAj_MH0R5TJKtIEULiNagMkGynFztYhtvQqkyEse-4bCbewOlV2WJ-0Wly2kZ7mIqJqtZwASrWs19CS6MVKJNNbwYwPrsaH5gDNWW1V1-GeO-R-TPDOw9NFg6M98Kd3ZmER0ysczJUbyUPwizrg6yjK7NQ-NXrLPsBxp6bwaRfa4vJ2OjY4HxlaxQU5_mjdCVA89O4IN9m8CMOcFZbR5Z4zjKUwalnJhPkWaBznkrANt_2FPiNFYGy57zauNgX9YOP8oeTjYHaaIhQaXuuglRIctvNiS3Y_33H4Ljnc67Oq0DTvqevEWERqq3zho3-lrVo-vJCEWw4pIlasYwIxSx8P1aCOzg4ABe0wcbzupQ7tYYzgOV0ISTUTOarj57fCyQtkwm4yXrBo8KBsIcn2Bivv79BfaeHrGBCFBSFivhEEGuHh27S734HifIpdRTXk-Heqgajk84j83Jowb_-ZABGvgrQ==&xkcb=SoBk-_M3QQ9Ni4QFtR0BbzkdCdPP&p=10&fvj=0&vjs=3',\n",
       "  'Description': 'Salary: ¬£23k - 25k per year\\n \\nReference: TTC\\n \\n Do you have at least 5 years experience as an Office Administrator? Are you looking for a long-term career working for an expanding small business, which will offer you the opportunity to develop with the company and progress within your career? Would you like a role where you can make a difference within Education to help young people?\\n If so this could be the role for you!\\n The Tuition College is a private educational centre which specialises in providing a high level of preparation for grammar school entrance, including SATs, GCSEs, and A-Level exams. They are a registered Exam centre and have been operating for over 30 years with an impressive almost 100% pass rate.\\n Currently they have about 85 students, aged 8-16 and are in the process of expanding the college significantly by increasing the number of admin staff, courses, teachers and students.\\n As part of their expansion plans, the company are looking for a Senior Administrative Officer, who will be responsible for the practical day-to-day running of their Manchester based office and overseeing all administration and office management at this exciting time.\\n The Senior Administrative Officer will be responsible for the smooth running of the college administration, its expansion, cashflow, administration of student exams and PA duties to the Business Centre Manager and CEO. The Senior Administrative Officer will be expected to provide leadership, guidance, and line management to a dedicated team of office support staff and volunteers and support the work of the Business Centre Manager and work closely with the CEO.\\n The successful candidate will be:\\n\\n Intelligent, enthusiastic, amiable, efficient, highly organised and possess strong communication skills and the ability to project the professional image of the College\\n Able to meet the needs of this demanding role, where multi-tasking, meeting deadlines and thinking on your feet will be crucial and can be stressful at times\\n Able to provide both clerical and administrative support to the Principal and staff, either as part of a team or individually\\n Involved with the implementation of office procedures, as well as frequently have responsibility for specific projects and tasks\\n Able to perform all general administrative activities that facilitate the smooth running of the college, including assisting the Principal and staff\\n\\n Are you able to:\\n\\n Handle general Administrative duties including dealing with telephone calls, visitors, emails, filing and post\\n Keep student and teacher records up-to-date manually and on the computer system\\n Ensure no students fall into arrears. Phone parents if necessary. Deal with former student arrears\\n Maintain and update website and computer management system\\n Update student timetables and registers\\n Schedule and attend meetings, create agendas and take minutes\\n Photocopy and print various documents for the Principal and staff\\n Recruit, train and supervise junior staff and delegate work as required\\n Arrange interviews, appointments and meetings ‚Äì internal and external\\n Research on internet or otherwise, areas of interest to the college\\n Produce reports based on research\\n Deal with the needs of students, parents and staff\\n Ensure that office and reception areas are kept tidy and presentable\\n Deal with exam boards and administration of exams\\n Be a PA to the Principal\\n\\n Qualifications Required:\\n\\n Do you have a degree(or equivalent), preferably in a Business Administration related discipline?\\n Do you have GCSEs with good grades in English and Maths?\\n\\n Do you:\\n\\n Have excellent verbal and written communication skills and the ability to follow instructions carefully\\n Have at least 5 years experience as a senior office administrator\\n Have the ability to multi-task, from general administrative support, giving strong attention to detail (especially in data entry), to having a methodical and logical working style and an independent approach to completing tasks\\n Possess excellent knowledge of Microsoft Office applications, especially Word and Excel\\n Have experience with general office equipment e.g. Networked photocopiers\\n Have the ability to be adaptable to new skills and technology\\n Have some experience of desktop publishing, Social Media and website maintenance\\n\\n Benefits:\\n\\n Staff Discount - children will be discounted up to 10%\\n Staff training and development\\n Opportunities for career development\\n Free parking\\n Flexible hours negotiable\\n Hybrid working negotiable after 6-12 months\\n Break area with TV\\n Company bonus\\n Staff social events\\n Staff table tennis team\\n Smart-casual dress\\n Free tea/coffee\\n\\n How to Apply:\\n If you are interested in this position and would like to learn more, our client would love to hear from you. Please attach an up to date copy of your CV to the link provided.\\n Good luck!'},\n",
       " {'Position': 'Lead Control Systems Engineer',\n",
       "  'Company': 'Siemens',\n",
       "  'Link': 'https://uk.indeed.com/applystart?jk=c68f38d732630177&from=vj&pos=bottom&mvj=0&spon=0&sjdu=mcLJI0lO9xR5mAT-NkUfzYDDplm6SwWjHcxyoDIphKkltMFox70JkdaMeuZC0KI1kN0wkll9wDHc3mnStM4Hmg&vjfrom=serp&astse=25825fa9b5d7f713&assa=1689',\n",
       "  'Description': \"Siemens Mobility has an exciting opportunity for a software engineer to join our agile product development team.\\n Siemens Mobility is the largest supplier of railway signalling control solutions in the UK. Our technology is designed, developed, and manufactured in the UK, and delivered through our turnkey teams to major customers including Network Rail. Our Control Systems portfolio covers railway simulation, signalling control, SCADA, automatic route setting, and traffic management.\\n Your role, and what you‚Äôll be doing:\\n You will be a key player in a small team, with the chance to really have an impact on the delivery of railway products into the UK market. You will be involved in all aspects of software development from concept to delivery, including requirements analysis, design, implementation, and testing.\\n You will be based the Chippenham office, with options to work flexibly and remotely. You will from time to time provide technical support to other teams including sales, projects, and production, including travel to customer sites.\\n What will be my responsibilities?\\n\\nManagement & tracking of Software design & development activities\\nMaintenance and management of software configurations\\nDevelopment and reviews of project lifecycle documentation and software deliverables\\nWorking with multi-disciplinary project teams, including software engineers & external teams to deliver systems and software development project\\nCapture and communicate changes to the project scope, project schedule, and project costs using appropriate verification techniques\\nAlignment of development, tools, processes and deliverables to the appropriate standards i.e. Siemens GUIDE, Cenelec and IEC62443\\nAssist with the development of proposals including costing, scoping, and planning.\\nMentoring and supporting team\\nLeading development packages\\n\\nWhat skills, qualifications and experience do I need?\\n Essential \\n\\nWorking experience in the technology or engineering sector.\\n\\n\\nGraduate in relevant engineering discipline or other numerate subject, although equivalent experience/education would also be considered\\nExperience in; the management of the product development lifecycle, the associated stages of the product lifecycle from concept to delivery.\\nExperience in the use of project management tools.\\n\\n\\nExcellent client-facing and internal communication skills.\\n\\n\\nGood verbal and written communication skills.\\nGood inter-personal skills.\\n\\n\\nSolid organisational skills including attention to detail and multi-tasking skills.\\n\\n\\nProficiency in object-oriented software development, ideally in C#, C++\\nKnowledge of, or willingness to learn about, railway signalling, operations and associated standards.\\nWillingness to occasionally travel.\\n\\n\\nWillingness to work from Siemens Offices as required to collaborate with team members based in other offices.\\n\\nTechnologies we use\\n\\nC++, C# and .NET on Windows\\nVisual Studio\\nPolarion\\nGit, GitLab CI, SonarQube\\nWPF\\nMQTT, RabbitMQ\\n\\nAbout us\\n We‚Äôre Siemens. A collection of over 377,000 great minds who are all making the future and you could be one of them! We have offices across the UK, full of talented individual‚Äôs helping us to challenge the today and work towards a brighter tomorrow.\\n Does creating the ways a new world moves sound like it requires your skills? How about ensuring we do it with net-zero emissions by 2050? Discover a engineering career combining innovation, sustainability and a rare opportunity to shape society at scale.\\n We are looking forward to receiving your online application. Please ensure you complete all areas of the application form to the best of your ability to help us review your suitability for the role. We will be in contact as soon as possible with an update on your application.\\n What else do you need to know?\\n Our compensation package includes a competitive salary, holiday allowance and pension. We celebrate the fact that our employees are individuals and have different wants and needs. With this in mind, we have a flexible benefits scheme where you can tailor your benefits package to suit you.\\n If we all thought the same, we would never think of anything new! That‚Äôs why we recruit great minds from all walks of life. We recognise that building a diverse workforce is essential to the success of our business, therefore we encourage applications from a diverse talent pool. We are proud to announce that we have partnered with VERCIDA, the UK's largest diversity and inclusion focused careers site where all our vacancies are in an accessible format. We welcome the opportunity to discuss flexibility requirements with our applicants to encourage agile working and innovation.\"},\n",
       " {'Position': 'C++ Python Quantitative Developer',\n",
       "  'Company': 'McGregor Boyall',\n",
       "  'Link': 'https://uk.indeed.com/applystart?jk=4c1a4981b75a4705&from=vj&pos=bottom&mvj=0&spon=0&sjdu=mcLJI0lO9xR5mAT-NkUfzYDDplm6SwWjHcxyoDIphKkL50PzgnJS7L12t5HH7_0bkN0wkll9wDHc3mnStM4Hmg&vjfrom=serp&astse=5a11192d80cdd06d&assa=5443',\n",
       "  'Description': 'C++ Python Quantitative Developer (contract)\\n City of London - Hybrid\\n \\nOur quantitative and systematic hedge fund is seeking an expert C++ Python Quantitative Developer with a strong background in fixed income to join their team.\\n As a member of the quantitative research and trading team, you will possess strong programming skills in C++ and Python, and be responsible for developing, implementing, and maintaining cutting-edge trading strategies and risk management tools in the fixed income space.\\n The ideal candidate will be a highly skilled professional with an exceptional aptitude in quantitative trading systems, and will have accumulated several years of experience working as a Quantitative Developer on busy trading floors.\\n Key Responsibilities:\\n\\n Design, implement, and maintain high-performance C++/Python code for fixed income trading strategies and risk management tools.\\n Develop quantitative models for fixed income products and conduct statistical analysis to evaluate performance and risk.\\n Collaborate with a team of developers, traders, and business users to understand business requirements and design solutions that meet business needs.\\n Conduct code reviews and work with team members to ensure code quality and best practices.\\n Research and experiment with new technologies and techniques to continually improve trading strategies.\\n\\n Qualifications:\\n\\n Master\\'s or Ph.D. in a quantitative field such as Mathematics, Computer Science, Physics, or Engineering.\\n Established experience in quantitative development with a focus on fixed income and credit\\n Exceptional C++ and Python programming skills\\n Good understanding and experience of market data.\\n Strong mathematical and statistical skills with experience in quantitative analysis and modeling.\\n Experience working in a team environment, collaborating with traders and researchers to design and implement solutions.\\n Excellent communication skills and the ability to explain complex technical concepts to non-technical stakeholders.\\n Strong experience in using relational databases ‚Äì SQL\\n\\n If you are an established quantitative developer with a strong background in fixed income and C++ Python programming, we encourage you to apply.\\n \\n\\nMcGregor Boyall is an equal opportunity employer and do not discriminate on any grounds. \\n\\nCity of London - Hybrid\\n \\nOur quantitative and systematic hedge fund is seeking an expert C++ Python Quantitative Developer with a strong background in fixed income to join their team.\\n As a member of the quantitative research and trading team, you will possess strong programming skills in C++ and Python, and be responsible for developing, implementing, and maintaining cutting-edge trading strategies and risk management tools in the fixed income space.\\n The ideal candidate will be a highly skilled professional with an exceptional aptitude in quantitative trading systems, and will have accumulated several years of experience working as a Quantitative Developer on busy trading floors.\\n Key Responsibilities:\\n\\n Design, implement, and maintain high-performance C++/Python code for fixed income trading strategies and risk management tools.\\n Develop quantitative models for fixed income products and conduct statistical analysis to evaluate performance and risk.\\n Collaborate with a team of developers, traders, and business users to understand business requirements and design solutions that meet business needs.\\n Conduct code reviews and work with team members to ensure code quality and best practices.\\n Research and experiment with new technologies and techniques to continually improve trading strategies.\\n\\n Qualifications:\\n\\n Master\\'s or Ph.D. in a quantitative field such as Mathematics, Computer Science, Physics, or Engineering.\\n Established experience in quantitative development with a focus on fixed income and credit\\n Exceptional C++ and Python programming skills\\n Good understanding and experience of market data.\\n Strong mathematical and statistical skills with experience in quantitative analysis and modeling.\\n Experience working in a team environment, collaborating with traders and researchers to design and implement solutions.\\n Excellent communication skills and the ability to explain complex technical concepts to non-technical stakeholders.\\n Strong experience in using relational databases ‚Äì SQL\\n\\n If you are an established quantitative developer with a strong background in fixed income and C++ Python programming, we encourage you to apply.\\n \\n\\nMcGregor Boyall is an equal opportunity employer and do not discriminate on any grounds. \", \"image\": \"https://www.mcgregor-boyall.com/uploads/mcgr_logo.png\", \"employmentType\": \"Contract\", \"industry\": \"\", \"hiringOrganization\" : { \"@type\":\"Organization\", \"name\":\"McGregor Boyall-Delivering Talent\", \"url\":\"https://www.mcgregor-boyall.com/\", \"logo\":\"https://www.mcgregor-boyall.com/uploads/mcgr_logo.png\" }, \"jobLocation\": { \"@type\": \"Place\", \"address\": { \"@type\": \"PostalAddress\", \"addressLocality\": \"London\", \"addressRegion\": \"London\", \"postalCode\": \"London\", \"streetAddress\": \"London\", \"addressCountry\": \"London\" } }, \"baseSalary\" : { \"@type\": \"MonetaryAmount\", \"currency\": \"GBP\", \"value\": { \"@type\": \"QuantitativeValue\", \"value\": \"1050\", \"unitText\": \"DAY\" } }, \"url\": \"https://www.mcgregor-boyall.com/jobs/london/technology/c-python-quantitative-developer-contract/27858\" }'},\n",
       " {'Position': 'Software Engineering Manager',\n",
       "  'Company': 'client server',\n",
       "  'Link': 'https://uk.indeed.com/pagead/clk?mo=r&ad=-6NYlbfkN0DRYaumO8DkiEviMdHNU0dhg61MD-WHH-A_0sXPHkkGO2AvCIM86bFXMS5gMrwZ7gRAdr78ra9uFvXPNpzZe0ercCmn0h-g0yLum_8_3i6Yh1V0AqHtvJ6s2oHNn9nTHrduUlKTGyNuN0cm9W5kTWfW4TLYqgjboFBnDMu5mnJZL64Lycg9_HGiJn7j6C_-7wBEYzjd2S1XarCH2UUkm0g0afbCHB38Ej_sKeGmrDB3aMWed9FH8QvV9Ft1P9YZuVAAUmGCZcmuCAMpRIfhwMqHEoqZ9IzH6p3ULfbChGDPbP6KchRyXeFotLzOPeyWZdlIoiUmsF139T_VrustuNkTUQKHirp2JeOSQMyBsZ5ysR53ODGexDlRqbiSSHyF3eXvDT7RCO5FPrqfo4RqZaQw6IcosYnGK6VEkce3ytApqsWRPPJx0Gs1Xq1x1HCcgNFEjSG4cxIHBv2zIv5zOrOfwnW3iagW79FMQiLF26sgmwZ1iammd9CHcSFYZPlOy0jdt_jhqSpPK8-CO5OSiXJj-5vyk8oPabMEquGub1vEE6x4FpW_4tjsVUOWXQ9RYqm4hkJHhKeDjwYK-ugENjusEHl8Ce0E4i3dPm7z-thL6BVJZwIAEXTng-oQeSYheC0=&xkcb=SoBu-_M3QQU6x5AT4r0ObzkdCdPP&p=5&fvj=0&vjs=3',\n",
       "  'Description': \"Software Engineering Manager (Node Golang TypeScript Scala Cloud) *Hybrid / London* to ¬£130k\\n \\nAre you looking for a highly impactful and rewarding Software Engineering Manager role where you can use your skills to help students around the world receive life-changing education?\\n \\nSuccessful technology company that provides digital educational services to students and teachers globally is seeking a Software Engineering Manager to join their team.\\n \\nBenefits:\\n\\n Up to ¬£130k salary\\n Hybrid working (4 days a week remote)\\n 25 days holiday, private medical insurance, and restaurant & shop discounts\\n\\n \\nYour Role:\\n As a Software Engineering Manager, your main role will be to lead and coach a high performing team of engineers who design, develop, and deliver new features and services for the core products and AWS estate, with the aim of providing a massively scalable, secure microservice orientated service for teachers and students worldwide. You will be responsible for the day-to-day management of the team, design and architectural decisions, and will remain hands-on coding, tackling highly complex and interesting problems.\\n \\nThe company have created a hugely successful digital learning platform that is used by over 50,000 freelance teachers and students worldwide, enabling them to arrange lessons quickly and efficiently, pay for courses, and video stream lessons to students internationally. The team have also implemented AI and Machine Learning technologies to understand how each individual student learns and create tailor made learning plans.\\n \\nOffice / WFH:\\n Based in London, you will be joining a technology driven company within a friendly and supportive team. The company are passionate about providing exceptional education to students and support several causes and cutting-edge research projects that improve the way people learn.\\n \\nRequirements:\\n\\n You have experience managing multiple types of software engineering teams that have used multiple programming languages\\n You are open minded on tech and experience with the company's tech stack is highly desirable (Node.js, Golang, Scala, TypeScript)\\n You are flexible moving around different engineering teams if required\\n You have experience managing highly scalable systems that have performance reliability challenges\\n You have a good appreciation for how to manage live systems\\n You have excellent leadership and coaching capabilities\\n You have a genuine passion for software and coding\\n\\n \\nAs a Software Engineering Manager, you can expect to earn a competitive salary (up to ¬£130k) plus benefits.\\n \\nApply today or call to find out more about this Software Engineering Manager role.\"},\n",
       " {'Position': 'Data Officer',\n",
       "  'Company': 'Weavers Academy',\n",
       "  'Link': 'https://uk.indeed.com/company/Weavers-Academy/jobs/Data-Entry-Clerk-8eb84204e947ede4?fccid=0a473137ab26d65c&vjs=3',\n",
       "  'Description': \"Thank you for your interest in the role of Data Officer\\nGrade 4, Points 7-11 / 22.5 hours per week, 39 weeks\\n(Actual Salary ¬£11,648 pa - ¬£12,525 pa)\\nUnder the direction of the Senior Leadership Team, to support the Data Manager in ensuring that information that is held by the school is accurate, relevant and in line with General Data Protection Regulations.\\nAbout our School\\nHaving achieved a 2022 Ofsted grading of ‚Äògood‚Äô, in all areas including leadership, inspectors found that pupils are proud of Weavers and as a result behave well in lessons and around the school. The academy has pursued a rigorous and continuous programme of educational improvement which can be seen and measured throughout the academy. Work that the school has done to further improve behaviour and attendance has resulted in students becoming increasingly ambitious for their futures.\\nWe are committed to ensuring that all students reach their full educational potential. This comprises of our 4 key curriculum areas in Academic, Ambition and our Co-curricular & Extracurricular programmes. Our curriculum development has resulted in a highly effective and sequenced curriculum that provides a secure platform ready for expert delivery.\\nOur ethos and values are underpinned by our vision, ‚ÄòStriving for success, Learning with PRIDE‚Äô. ‚ÄòLearning with PRIDE‚Äô helps identify the values that students and staff should embody in order to be successful, lifelong learners. Perseverance, Respect, Independence, Determination and Engagement are values we develop in our students and expect in all staff. This ethos drives us forward, every day.\\nWe are proud of the co-curricular and extra-curricular programmes that all staff play an active part in, that means over 1300 pupils per week have access to high quality and planned additional activities. The options range from skiing to singing, chess to climbing and performance options to provisional driving licence preparation. We are very proud to show you and find out what you might offer!\\nWe have a commitment to staff development, and we have put in place a detailed programme of profession development that provides weekly CPD for staff. As a result, curriculum planning, teaching strategies and assessment techniques have advanced and drive student progress.\\nFollowing our ‚Äògood‚Äô judgement from Ofsted in May 2022, we are determined not to be complacent and want to achieve much more for our students and staff. We seek to appoint an ambitious committed colleague to be a key contributor to our continued development. This is only the start of a challenging and exciting journey, please get in touch if you'd like to be part of it.\\nWe would welcome applications from staff who are experts in their field and are determined, independent and highly engaged. You will be joining a highly effective team with a collective focus to improve student achievement by providing a positive culture. You will need to be a team member, undertaking duties as required to meet the needs of the school, students and the team.\\nClosing Date: 4th May 2023, 9am\\nPlease note that we reserve the right to interview candidates before the publicised closing date should suitable applications be received for the post.\\nFor further information and an application form please visit out website: weaversacademy.org.uk or press link below:-\\nhttps://ce0768li.webitrent.com/ce0768li_webrecruitment/wrd/run/ETREC179GF.open?WVID=3563111Wpz&VACANCY_ID=9482202zZy\\nCreative Education Trust is committed to safeguarding and promoting the welfare of our children and young people and expects all staff and volunteers to share this commitment. The successful applicant will be required to undertake relevant safeguarding checks in line with Government safer recruitment guidelines.\\nJob Types: Part-time, PermanentPart-time hours: 22.5 per week\\nSalary: ¬£11,648.00-¬£12,525.00 per year\\nBenefits:\\n\\nOn-site parking\\n\\nFlexible Language Requirement:\\n\\nEnglish not required\\n\\nSchedule:\\n\\nMonday to Friday\\n\\nAbility to commute/relocate:\\n\\nWellingborough, NN8 3JH: reliably commute or plan to relocate before starting work (preferred)\\n\\nWork Location: One location\\nApplication deadline: 04/05/2023\"},\n",
       " {'Position': 'Senior Business Analyst',\n",
       "  'Company': 'University of Portsmouth',\n",
       "  'Link': 'https://uk.indeed.com/applystart?jk=a11e81aee4b5146b&from=vj&pos=bottom&mvj=0&spon=1&adid=410025487&ad=-6NYlbfkN0DIVvefcqEydXI7Yxd_c1XTXYkDSABk6GbHDLtwvITpodKoEDO69Pw897VkpLoStXoj4uVWixKyks_gpK9Bs5ycnaWxHSNhsIjIlPmFjZ9NoIKcLoK8Gc0ywRyC2R0pe-1KY5L2A2Iao1twOmcUWhQSanmIRdsXfg9uEEiWZ4qUgR2G-5DbrcAJpU_-NnDoc7y3njs3UR50IdwKn48HZfx-InKayWqqEdPhVpTBrPR-TaH9jJ8jFU6EPQDYFWoyDDKnk432stPHRqolR-E1JPxl2MZ1ZRsl5v5667Nsmm1_x8rWg32I7IHZhEICkThqN8RUgS-mq_F_xJ5Zmk85gVDnTVpJhTYOrrVqYihUd04Qx9pHXGfbaztSb-t52f7nnDDgWJqKjzyCg2GQ1z5CcnyxoSkEEqlYm6lUci8oTzm2gum-9M52YGdP&xkcb=SoCw-_M3QQ7ZhwRZTJ0HbzkdCdPP&sjdu=XT5j36HCQSbndbcZ3pe15TrkD8-zGr3bP3fAw4HUuy8&vjfrom=web&astse=748aa320b42162a4&assa=1389',\n",
       "  'Description': 'Professional Services\\nInformation Services\\nSenior Business Analyst\\nEmployment type: Permanent\\nEmployment basis: Full-time\\nSalary: ¬£43,155 - ¬£52,841 per annum\\nPost number: ZZ008273\\nDate published: 04 April 2023\\nClosing date: 30 April 2023\\nInterview date: 09 & 12 May 2023\\nThe University of Portsmouth is an ambitious institution with a track record of success. One of only four universities in the south east of England to achieve a Gold rating in the Teaching Excellence Framework and ranked in the top 150 in the Times Higher Young University World Rankings.\\nThe Information Services (IS) Department is seeking to appoint a Senior Business Analyst to join our friendly team. You will work collaboratively across the university contributing to the delivery of high performing, innovative technology services and efficient and effective business solutions. A key member of the IS Digital Delivery team, you will take a prominent role in implementing best practice within the team, ensuring quality standards are met and continuously improved.\\nYou will be responsible for undertaking investigative work on new proposals, detailed reviews and documenting requirements, processes and change impact assessments, and working with business and IT stakeholders on technology solutioning. The role requires excellent organisational and communication skills, experience of both Waterfall and Agile delivery, and the ability to work with a wide range of stakeholders. The role involves hybrid working (from home and the University Campus in Portsmouth).\\nFull details of this role can be found in the job description and person specifications. Applications should be written with the requirements of the job description and person specification in mind.\\nThe University of Portsmouth believes this role is eligible for sponsorship with UKVI under the Skilled Worker Route visa, and meets the minimum salary requirements to obtain the minimum points requirement.\\nAnonymous shortlisting will be carried out for this role as part of our commitment to equality and diversity, ensuring a fair and consistent approach to recruitment. Personal details will not be disclosed to the shortlisting panel. If you‚Äôve been asked to upload further documents, they should not contain identifying information.\\nWe are strongly dedicated to embedding equality, diversity and inclusion (EDI) within our community. As an Athena SWANand Race Equality Charteraward holder, a member of Stonewalland a Disability Confident Employerwe are passionate about creating a welcoming and inclusive environment, regardless of your background. We welcome applications from all talented people. In addition, we want our workforce to be representative of our diverse student population. Please see our EDI Framework and objectives.\\nJob Types: Full-time, Permanent\\nSalary: ¬£43,155.00-¬£52,841.00 per year\\nSchedule:\\n\\nMonday to Friday\\n\\nWork Location: In person\\nReference ID: ZZ008273'},\n",
       " {'Position': 'Data and Systems Administrator (HR)',\n",
       "  'Company': 'Bluetownonline Ltd',\n",
       "  'Link': 'https://uk.indeed.com/pagead/clk?mo=r&ad=-6NYlbfkN0BKcJBPoosWOytt8X5WAaOJpAKtbCm733lE0sW1F1PCjS-XkVllk5lzYMNw0Mt4Kkab34o-qxT-O6yAj7Wfdu6ZylI_LQEXJP2she1bVnIKwShPjHdidesdMTkbY1wtSe6rnLX7a817C4qMz96Kw31AEylGi9IrtkpMk3NsX5v8YkMfLNqWAgAXgdddufjsJR4nEpDxRJ1PQnj_kS_sWWKlUO2JCre7uCatQ-2SsW9rUa3MRf3Um2weLi5WTbxPuUEcDHGRHwsD5SdNGbr-3uB25HAaW9_Gv5T7mrzJfPCmiCPOZTPtQykodnPE-FVVKj4FOJ3smLorLO3z1PoVHI444vEBHffv8Zbaxue5xOJNhMS5-Bol9ZGSdm8mKxwwlSkp8b2zomEKW0yG1-flYiwAYWiaHfIObgJXwaQnzpZEwFQnwT8nDXwpDTmDIrvR08vxoacOD9fHHqcq7g6v52WutpRtawwjsPe37478x9vRku5_0wa4FhHOCrV54VO9c_YTosg_pt6zKMct3eM9kbRzvNzEt24TdStGQ7G-EVf8-iQt1kNxElATYWKnOGoS9xn3Ytfo8jp29WgMZtmPw94F9NFyWNxd2JqzZAJWVVfD1NlTRuly66ep-Avhkg_aSgKl1zZzoSBVv7VYBqIKvoO_BiBc82r7E7duVIVpRswwuVhNPGuI-nQnevj4cG-WDjdan-7Y_Ja3kPmKu4u_hfcfJjyrXDiM0y-e3GGQo54jaZ9mluTR5pc8&xkcb=SoDV-_M3QQ69kpQI7h0ObzkdCdPP&p=5&fvj=0&vjs=3',\n",
       "  'Description': \"Job Title: Data and Systems Administrator (HR) \\nLocation: Hartpury, Gloucester GL19 3BE (Hybrid working)\\n Salary: ¬£24,900\\n Job type: Full-time. Permanent. 37.5 hours per week.\\n About us:\\n Hartpury University and Hartpury College are among the UK's leading specialist education providers in agriculture, animal, equine, sport and veterinary nursing. Located in Gloucestershire, Hartpury University and Hartpury College sit side-by-side on a beautiful 360-hectare campus. We provide world-class facilities to more than 4,500 university and college-level students studying undergraduate and postgraduate degrees, A-levels and diplomas, as well as undertaking industry research.\\n The University is rated top 10 in the UK for Teaching Quality (The Times and Sunday Times Good University Guide 2023) and has 97% graduate employability, whilst the College is rated Ofsted Outstanding in all areas. A passionate and innovative business culture and exceptional support networks make Hartpury an ideal career choice.\\n About the Role:\\n\\n Provide HR data and systems services covering the full range of employee life cycle activities.\\n Responsible for maintaining the quality of HR System data and for the preparation of timely, accurate and meaningful management information reports for key stakeholders.\\n Provide administrative support for the maintenance and development of the HR system and online recruitment system.\\n Data entry, data cleansing, data import and export using a system tool, and data reconciliation to the HR system to ensure all data held is accurate and up to date as required.\\n\\n About you:\\n\\n Advanced Excel skills and statistical analysis.\\n Good attention to detail, analytical acumen, and business process knowledge.\\n Strong administration background.\\n Ideally educated to degree level, however proven experience of working at this level within a similar role will be considered.\\n Ability to analyse and present a wide range of data management\\n\\n What we offer:\\n\\n Hybrid working arrangements with blended approach of office and home working\\n 25 days annual leave entitlement plus bank holidays rising to 30 days with length of service\\n Wellbeing support including our Employee Assistance Programme\\n Generous pension scheme (LGPS)\\n Employee Discounts Scheme\\n Onsite fitness facilities\\n Support for continuous professional development\\n Flexible working opportunities available\\n Enhanced maternity, adoption and paternity leave\\n\\n If you are interested, please click on the APPLY button to complete the application form via our website.\\n Hartpury is committed to promoting a diverse and inclusive community - a place where we can all be ourselves. We particularly welcome applicants that we are underrepresented in, including those from ethnically diverse backgrounds, LGBTQI+ communities, and those living with disabilities. As part of our commitment to equality, diversity and inclusion we offer a range of inclusive policies, flexible working arrangements and a multi-faith space to support staff from different backgrounds.\\n Candidates with the relevant experience or job titles of: DBA, Database Administrator, Data Analyst, Commercial Analyst, Analyst, Information Analyst, Client Data Analyst, Database Management, System Administrator, Administrator, HR Administrator, IT Administration, IT Maintenance, IT Systems Support, IT Service Desk Technician and IT Systems Support may all be considered for this role\"},\n",
       " {'Position': 'Senior Specialist Programmer',\n",
       "  'Company': 'Thornshaw Scientific Recruitment',\n",
       "  'Link': 'https://uk.indeed.com/applystart?jk=825ff215e9855cfe&from=vj&pos=bottom&mvj=0&spon=0&sjdu=mcLJI0lO9xR5mAT-NkUfzYDDplm6SwWjHcxyoDIphKmbNc0f_81bajGT8ewTfR8RkN0wkll9wDHc3mnStM4Hmg&vjfrom=serp&astse=b009ad8f45225263&assa=6572',\n",
       "  'Description': \"Posted date 19 April 2023 \\nLocationCambridgeshire\\nJob type Contract \\n\\n\\nSalaryNegotiable\\nDiscipline Life Sciences \\nReferenceJO-2304-514375\\n\\n\\n\\n\\n\\nSenior Specialist Programmer\\n 100% Remote\\n 12 Months\\n Outside IR35\\n ¬£520 Ltd\\n Key Skills: Experience in ADaM and CDISC\\n\\n Join a team of statisticians and statistical programmers to provide programming expertise to the design, conduct, reporting, interpretation, documentation, and regulatory submissions of our clinical development programs. Depending on your experience, you may contribute to more strategic planning, quantitative decision making, act as expert in our contact with external providers and collaborators and be a part of the function's adaptation and development of programming tools, standards, and processes. \\n\\nRequired Background\\n\\n Minimum educational level is a BSc degree in a relevant subject such as statistics, biostatistics, mathematics, computer science, life science or engineering.\\n Expertise in drug development and clinical data standards (CDISC)\\n Expertise in ADaM (specification writing, programming, define generation and ADRG)\\n Expertise in analysis output programming (Tables, Figures etc.)\\n Good collaboration, communication and influencing skills\\n Good written and spoken English\\n\\n\\n\\n University degree (BSc minimum) in a relevant subject such as statistics, biostatistics, mathematics, computer science, life science or engineering.\\n Expertise in ADaM (specification writing, programming, define generation and ADRG)\\n Expertise in analysis output programming\\n Expertise in drug development and clinical data standards (CDISC)\\n\\n\\n Other relevant qualifications\\n\\n Higher academic degree\\n Expertise in multiple programming software such as R or Python\\n Project management experience\\n\\n\\n Personal Qualities\\n \\n\\n\\nCandidates should possess good social skills, be a strong team player and be able to work effectively in a global organization where teams often are geographically dispersed. \\nYou should be able to work independently, take own initiatives and have a positive, goal oriented and problem-solving attitude. \\nIt is essential to have good organizational and communication skills and you should be able to analyze and summarize your results and be comfortable in presenting them. \\nSuccessful candidates will have the ability to communicate subject matter expertise to other experts, as well as an interest in the application of programming in pharmaceutical development.\\n\\n\\n If you are interested please apply or send your CV to [email protected]\"},\n",
       " {'Position': 'Graduate Data Science Researcher',\n",
       "  'Company': 'BAE Systems Digital Intelligence',\n",
       "  'Link': 'https://uk.indeed.com/applystart?jk=abe944e6439c9620&from=vj&pos=bottom&mvj=0&spon=1&adid=111932963&ad=-6NYlbfkN0D6Outzevkklm9u1wEqPpqtLI6IM60NTtoSPOUa_Du_DomORgL6XSWXSpHJVOFhkO-iXKPFECLi_VojbilK5AYj03VYtiq8yNGAo-IOLMZCS5if-U_OQhtstsj_vK2r0GJxJMFfDrwZexyRjNI-g5X9ulmCjQaVpaajxHoSu3fC7NQYyGGkFdIUoz3Zhp1TsGX4o4Xe6GGv8HQ5RqB67dfrafJEIH2h8O2-mARTkl_fZROnnlJcLtoPy-iWv3jo3Hpgo63Ae-9-LQ0glEAnaYKgQ6ro-vlzMpWuECa9Yariu5w1A2AvGJhjb1aaumb3iz23D1xE7enD1b7pWw3Cmto3RCxseuFWEre9ouaX9rm7fHbeyP-b1m9qJSjznLKp7_HcP6eRu8lay8ShPVOsNnS1WZYxU3JFGkq090rTANMTNA%3D%3D&xkcb=SoAd-_M3QQ7tSLQNFZ0IbzkdCdPP&sjdu=ridBiDPVfE_UV6sXpnbPXiqDGPySt1dlxnViRh7BtlY9kw3xrFXO6L_Vfm-ljYug9fzLRs3oOvpPqEg0goa-AMPMh956UHZRtNaea23mPjWRxuAIE9bsnNx8zzKL7mi00sVicylJ2C8qemdcAgOjTLj2XYw3NV4SAdqHf6xiZDVvwmndEikQYbNAM8Y6kXITkUh9LEu4koMBkLRBQxVEhw&vjfrom=serp&astse=5f65948800b14100&assa=7561',\n",
       "  'Description': \"Job Details\\n\\n\\n    Here at BAE Systems Digital Intelligence, we are committed to helping governments, organisations and society navigate digital threats and opportunities. Whether it's leveraging data to digitally transform operations or securing organisations and nations from cyber threats, we combine our unrivalled security and engineering heritage to help our clients navigate the data-reliant digital landscape.\\n    \\n As the cyber and intelligence arm of BAE Systems, we employ over 3,500 people across 15 countries in North America, APAC, Europe and the Middle East. With our distinguished heritage, we relish the opportunity to transform digital and data practices, defence, intelligence, security and society for government agencies, law enforcement, financial services, and critical infrastructure.\\n    \\n The graduate programme is designed to give you ownership of your career aspirations, supported by training and practical experience to help you succeed. You will be part of our Future Talent Community and be assigned a Career Manager, who will support and guide you throughout your career with us. All of this is designed to complement your career development, fuel your ambition, and give depth to your training and career.\\n    \\n\\nBAE Systems Digital Intelligence\\n\\nGraduate Data Science Researcher\\n\\nStart Date: June or September 2023\\n\\nLocation: Great Baddow\\n\\n BAE Systems Digital Intelligence Laboratories is seeking to recruit researchers to join our rapidly expanding Data Research group. We are looking for candidates who are adaptable, enthusiastic and highly motivated. You should be keen to develop skills in Artificial Intelligence and Machine Learning and will need to be a proficient programmer, preferably in Python. You will have the opportunity to work on a wide range of Data science research topics for customers across the defence, security and commercial sectors. The Data Research group has a diverse range of teams working in: reinforcement learning, NLP, knowledge graphs and graph based neural nets, AI for RF and EW, sonar and acoustics and you will have the opportunity to work with these colleagues in multi-disciplinary teams.\\n    \\n Candidates will have the opportunity to mix technical challenges with customer-facing and project support tasks. In addition to a solid academic background and excellent written and verbal communication skills, we are interested in candidates with experience in disciplines such as Mathematics, Computer Science, Data Science, Statistics, Economics, Theoretical Physics and Biosciences with statistics. \\n    \\n\\nThis role will involve the following general responsibilities:\\n Conduct novel research in given topic areas, often in partnership with leading UK Universities.\\n     Develop prototypes and proof of concept demonstrator..\\n     Work effectively both on self-directed projects and in larger project teams.\\n     Preparation of technical reports and technical proposals\\n    \\n Ideally you will have an MSc or an equivalent level of expertise, with some existing experience in the application of deep learning. An appetite for working in a secure environment is desirable but not essential. Experience in software development in Python is essential and some experience with machine and deep learning frameworks (TensorFlow, Pytorch, scikit-learn, etc.) is desirable.\\n    \\n\\nWhat to Expect on the Programme\\n\\n BAE Systems Digital Intelligence is a fast paced and agile business. The more you put into your role the more you will get out, building lasting professional relationships. You may get the opportunity to work with clients early on in your time with us which will require you to think on your feet and quickly get up to speed with our products and services.\\n     Projects will vary depending on; business needs, your skills and your future aspirational field of expertise. You will not always be working on a project of your choice; however every piece of work will provide you with a valuable breadth of experience within our business and that of our clients.\\n     You will be part of our Graduate Accelerate community and be provided with a career mentor who will support and guide you throughout your career with us. It is not all work and no play, the Graduate Accelerate community regularly runs social events and activities for all to get involved with.\\n     We encourage you, as a Graduate Engineer, to immerse yourself within your project team, who will be on hand to support you, providing on the job training, advice and networking opportunities. You will be encouraged to build your internal and external networks in order to better expose yourself to the variety of opportunities within our business. \\n    \\n\\nEntry Requirements\\n\\n On track to achieve/ already achieved a 2:2 or above in a Science, Technology, Engineering or Maths subject\\n     Eligible to achieve a Government Security Clearance: https://www.gov.uk/guidance/security-vetting-and-clearance\\n    \\n\\nDesired Competencies\\n\\n Excellent analytical and numerical skills\\n     The aptitude for solving complex/technical problems\\n     Clear and effective communication skills\\n     Articulate, both verbally and in writing\\n     Objective and logical with an enquiring and creative mind\\n     Ability to work as part of a team\\n     Resilience under pressure\\n     Desire to learn\\n     Competence in Microsoft Office packages/ IT literate\\n    \\n\\nWhat's in it for you?\\n\\n\\n\\nWork-life balance is important; you'll get 25 days holiday a year and, via our flexible benefits package the option to buy/sell and carry over from the year before\\nOur flexible benefits package includes; private medical and dental insurance, a competitive pension scheme, cycle to work scheme, taste cards and more\\nYou'll have a dedicated Career Manager to help you develop your career and guide you on your journey through BAE\\nYou are welcome to join any/all of our Diversity and Support groups. These groups cover everything from gender diversity to mental health and wellbeing.\\n¬£34,000 starting salary, with regular increments through the programme. \\n¬£2,000 welcome payment\\n\\n\\nSecurity Clearance\\n\\n Only those with the permanent and unrestricted right to live and work in the UK will be considered for a position within BAE Systems Digital Intelligence. Due to the nature of our work, successful candidates for this role will be required to go through Government SC clearance prior to starting with us. https://www.gov.uk/guidance/security-vetting-and-clearance\\n    \\n\\nWhat's next?\\n\\n\\n\\nCV submission & review\\nDigital assessment\\nLive Interview\\n\\n Please reach out to your recruitment contact, if you need to discuss any requirements for reasonable accommodations throughout the recruitment process. \\n    \\n\\nLife at BAE Systems Digital Intelligence \\n\\n We are embracing Hybrid Working. This means you and your colleagues may be working in different locations, such as from home, another BAE Systems office or client site, some or all of the time, and work might be going on at different times of the day. By embracing technology, we can interact, collaborate and create together, even when we're working remotely from one another. Hybrid Working allows for increased flexibility in when and where we work, helping us to balance our work and personal life more effectively, and enhance wellbeing.\\n    \\n Diversity and inclusion are integral to the success of BAE Systems Applied Intelligence. We are proud to have an organisational culture where employees with varying perspectives, skills, life experiences and backgrounds - the best and brightest minds - can work together to achieve excellence and realise individual and organisational potential.\\n    \\n\\nAbout BAE Systems Digital Intelligence\\n\\n We use our intelligence-led insights to help defend Governments, Nations and Societies from cyber-attacks and financial crime. Our customers depend on our evolving capabilities to help them safely grow their organisations. Our unprecedented access to threat intelligence, world-leading analysts and market-leading technology means we can help them to adapt, evolve and stay ahead of the criminals.\\n   \\n\\n\\n\\nCompany\\n\\n\\n\\nBAE Systems Digital Intelligence is home to 4,800 digital, cyber and intelligence experts. We work collaboratively across 16 countries to collect, connect and understand complex data, so that governments, nation states, armed forces and commercial businesses can unlock digital advantage in the most demanding environments.\\nLaunched in 2022, Digital Intelligence is part of BAE Systems, and has a rich heritage in helping to defend nations and businesses around the world from advanced threats.\\n\\n\\n\\nFind Us\\n\\n\\n\\n     Location\\n    \\n\\n     Guildford, Surrey\\n      GB\"},\n",
       " {'Position': 'Junior Data Analyst',\n",
       "  'Company': 'Qmee Ltd',\n",
       "  'Link': 'https://uk.indeed.com/company/Qmee-Ltd/jobs/Junior-Data-Analyst-f5bde850e4fa8da4?fccid=a170e01d4f62d093&vjs=3',\n",
       "  'Description': \"Job Overview\\nThis is an exciting opportunity to join Qmee, an online rewards and market research company with millions of users worldwide. We are ranked 11th in the Sunday Times Tech Track 100 2020, 24th in the Deloitte Fast 50 2020 and for the last 2 years in the top 100 of the FT 1000 list of fastest growing technology companies. Qmee uses the latest machine learning, event driven design and statistical methods to offer our users the best experience possible.\\nWe are looking for an entry-level/junior Data Analyst who will work with a team of expert Data Analysts/Scientists and a team of very experienced and talented developers. Prior experience of working with data analytics and data science technology is preferred. You will be developing your skill levels and working with the latest technologies as you progress with the company. Programming experience is preferred, and successful candidates should have a Bachelor‚Äôs degree in Engineering or Computing Science. Applicant are expected to hold a 2:1 or above to be considered.\\nResponsibilities for Data Analyst\\n\\nWorking with various existing Qmee models to help maintain their day-to-day operation and performance.\\nAnalyse data from existing Qmee models to identify and potentially rectify weaknesses and bugs.\\nRunning analytics on data to extract statistics, patterns and translate them into actionable decisions. Eventually designing machine learning models and algorithms to contribute to the existing advanced technologies.\\nWork together with the developer team and assist on data/statistics related tasks.\\nCollaborate with various stakeholders in-order to find the right questions to ask from the data with actionable insights and analysis to support decision making efforts.\\nCommunicate and present technical information with non-technical team members and stakeholders.\\nTransform data using DBT to help make it more accessible to the wider business.\\nYou will work with time series graphing services such as Grafana in order to create visualisations, monitor and identify trends.\\nAs you progress, you will get to work with various database technologies (PostgreSQL, Redis, Influxdb, AWS Redshift).\\n\\nQualifications for Data Analyst\\n\\nInterest in data, statistics, machine learning and data science is essential.\\nA Bachelor‚Äôs degree (2:1 or above) in Engineering or Computer Science.\\nStrong problem-solving skills with an emphasis on product development along with\\n\\nlogical and critical thinking.\\n\\nDiligent and attentive to detail, have a strong work ethic and ability to collaborate with different teams in the company.\\nSome experience using statistical computer languages (Python, Scala, R, MATLAB) is a plus.\\nKnowledge of statistical techniques and concepts (regression, properties of distributions, statistical tests and proper usage, etc.) and experience with applications.\\nComfortable working with datasets, applying basic to intermediate statistics (from mean, median, quartile to histograms, KNN, K-means, Bayesian logic).\\nBeing able to read, write and query SQL.\\nAny coding knowledge and experience is a plus.\\nExperience using web services/languages: AWS, EC2, S3, Redshift, DigitalOcean, etc is a plus.\\n\\nOur current technology stack\\n\\nPostgres\\nRedshift\\nDBT\\nGrafana\\n\\nCandidates will require the right to work in the UKJob Types: Full-time, Permanent\\nPotential hybrid-working plans (a few days in office and working from home each week)\\nJob Types: Full-time, Permanent\\nSalary: ¬£24,000.00-¬£30,000.00 per year\\nBenefits:\\n\\nCompany pension\\nCycle to work scheme\\nDiscounted or free food\\nEmployee mentoring programme\\nLife insurance\\nPaid volunteer time\\nPrivate dental insurance\\nPrivate medical insurance\\nWork from home\\n\\nSchedule:\\n\\nMonday to Friday\\n\\nCOVID-19 considerations:Currently we are all working remote due to COVID-19, successful candidate may be required to meet with training staff in office in Reading\\nApplication question(s):\\n\\nWould you require a visa to work in the UK for the next 3 years ?\\nWhat about you is unique that you could apply to this role ?\\n\\nEducation:\\n\\nBachelor's (preferred)\\n\\nExperience:\\n\\nData Analysis: 1 year (preferred)\\n\\nWork authorisation:\\n\\nUnited Kingdom (required)\\n\\nWork Location: Hybrid remote in Reading RG1 3AR\"},\n",
       " {'Position': 'Data Collection Assistant',\n",
       "  'Company': 'Morgan Hunt',\n",
       "  'Link': 'https://uk.indeed.com/applystart?jk=196ede20ef0373d7&from=vj&pos=bottom&mvj=0&spon=0&sjdu=mcLJI0lO9xR5mAT-NkUfzYDDplm6SwWjHcxyoDIphKkm0FsVLcqpnPElXMBknYRckN0wkll9wDHc3mnStM4Hmg&vjfrom=serp&astse=79bf7a3de3c5ddf5&assa=9800',\n",
       "  'Description': \"BMet?¬£?(Birmingham Metropolitan College) is on an exciting journey! Be a part of our students' experience and make a difference.?¬£?\\n BMet is a great organisation, home to thousands of bright and enthusiastic students and many talented and experienced staff. We are passionate about providing the qualifications and training that local employers and communities need.?¬£?Our goal is to prepare all of our students for the world of work, both now and in years to come.\\n We are keen to hear from any individuals who would be interested in being involved in our student recruitment and enrolment activities across our colleges;\\n Matthew Boulton College (Jennens Road, Birmingham. B4 7PS) Sutton Coldfield College (Lichfield Road, Sutton Coldfield. B74 2NW) James Watt College (Aldridge Road, Great Barr. B44 8NE)/ Erdington Skill Centre (Edwards Road Erdington, B24 9EW) \\nWe have identified a Data Collection Assistant role that we need temporary hourly paid support with, this would involve a high standard of Customers Service and high attention to detail with ability to enter information accurately and timely (Further information available via the role profile on our Careers site, see link to details below). \\nIf you feel that you have the necessary skills and are available during the period from July to September 2023, please apply using the link below indicating which location you would be interested in. \\nWe look forward to hearing from you, however in the meantime if you have any queries or are unable to apply online, please make contact HR@bmet.ac.uk\\n\\n As an employer we offer a wide range of career paths. Working at BMet provides a real opportunity for you to make a difference to the communities we serve, as well as giving you the ment to develop your career in an exciting and dynamic organisation.\\n We know that our diversity is a source of strength and we warmly welcome people from all backgrounds, particularly encouraging applications from people who are currently under-represented at college.\\n BMet?¬£?is committed to safeguarding and promoting the welfare of children, young people and vulnerable adults and expects all staff and volunteers to share this commitment. ?¬£??¬£?\\n\\n Closing date for applications: 14th May 2023\\n Link to apply; Data Collection Assistant -BMet\"},\n",
       " {'Position': 'Data Scientist - eCommerce',\n",
       "  'Company': 'HP',\n",
       "  'Link': 'https://uk.indeed.com/applystart?jk=03d94d8c9078c7e7&from=vj&pos=bottom&mvj=0&spon=0&sjdu=mcLJI0lO9xR5mAT-NkUfzYDDplm6SwWjHcxyoDIphKm-OmZxoRaqBoPN7g-1tUZakN0wkll9wDHc3mnStM4Hmg&vjfrom=serp&astse=76104a1bcacfee4b&assa=2004',\n",
       "  'Description': \"As a Data Scientist in the Go-To-Market Advanced Analytics team, you will shape HP‚Äôs future of how to solve concrete business problems with the use of data science. We are a very dynamic, highly skilled and diverse global team consisting of data scientists, economists, statisticians, computer scientists and engineers, who are pushing the innovation frontier in the way we bring insights to our business. Working with us you will combine your modelling skills, business thinking, experimentation and optimization methods to build complex algorithms for most popular Printers and PCs in the market.\\n\\n About you:\\n\\n You are passionate about unveiling answers to most difficult questions using data and models\\n You have deep interests in customers and market behaviors and methods to measure and anticipate them\\n You feel accomplished seeing your recommendations being implemented\\n You can‚Äôt stop thinking about learning something new every day and enjoy being surrounded by highly talented people\\n\\n\\n Key responsibilities:\\n\\n Work with other data science professionals in complex projects using tools like python and pyspark\\n Define and implement predictive models and natural language processing models\\n Communicate business value and innovation potential through effective insights/visualizations\\n Assure insights are communicated regularly and effectively, reviewing designs, models and accuracy and data compliance\\n Define, communicate and drive data insights/innovation into the business\\n\\n Requirements:\\n\\n Bachelor's or Master's degree in Mathematics, Economics, Physics, Computer Science, or equivalent\\n Proficient in Python\\n At least 1 year of professional experience as a data scientist working on predictive modeling (classification, regression or time series)\\n Confident with data exploration techniques and toolsExperience with ecommerce analytics, attribution, A/B testing is a plus\\n Experience with Databricks or Dataiku is a plus\\n\\n\\n What we offer:\\n\\n Opportunity to work in an diverse and inclusive organization, with colleagues coming from all over the world.\\n Diverse, continued internal growth and career opportunities.\\n Including HP‚Äôs own learning platform and LinkedIn Learning.\\n An attractive salary and benefit package\\n\\n\\n About HP\\n\\n\\n\\n\\n\\n  You‚Äôre out to reimagine and reinvent what‚Äôs possible‚Äîin your career as well as the world around you.\\n \\n\\n   So are we. We love taking on tough challenges, disrupting the status quo, and creating what‚Äôs next. We‚Äôre in search of talented people who are inspired by big challenges, driven to learn and grow, and dedicated to making a meaningful difference.\\n \\n\\n\\n\\n   HP is a technology company that operates in more than 170 countries around the world united in creating technology that makes life better for everyone, everywhere.\\n \\n\\n\\n\\n   Our history: HP‚Äôs commitment to diversity, equity and inclusion ‚Äì it's just who we are.\\n \\n\\n   From the boardroom to factory floor, we create a culture where everyone is respected and where people can be themselves, while being a part of something bigger than themselves. We celebrate the notion that you can belong at HP and bring your authentic self to work each and every day. When you do that, you‚Äôre more innovative and that helps grow our bottom line. Come to HP and thrive!\"},\n",
       " {'Position': 'Software Engineer - 12 Month Placement',\n",
       "  'Company': 'Lockheed Martin Corporation',\n",
       "  'Link': 'https://uk.indeed.com/applystart?jk=0302b1b9a80545ce&from=vj&pos=bottom&mvj=0&spon=1&adid=378656169&ad=-6NYlbfkN0C-OIvS9w5z8HuclDdRDxUm7DtysWkNoN7SQ44YzVGFDPD8ri7_cAQaKblQzJT8_s0eZU-uiaTtNMPYzwyb4UOJ6g7Elmy5g3yL1H4hpGHi4Dq4QuD0TEEqKXaOVbK2_p_um6Ge-T8c67rHiANItD9PfDt9FS799S_eU3MT3TAgiowwqrwrBXIDpmFw02tyOmMR4bgI-8iubkejeB6PQn3ZdCYPkKiaPUlaZrGrDVTOC1pasnzZMtQBa4rnQYR-PcWQb9sTAfSiWPR9rBS6TemTOvzW3Y2ziAA-CUsCgcmPngP0z9yk84o62JoUYAnxjZ7H__aFzRIblI2LtiLODpUq9m8kSZUwLCNOqp9G68uxPw6tiNNlzrGGdn3xyvnZ37V0OAcjnkhG_iY8sflT86Ey2lNFhSJZ4X9GEKC6L_F0eA%3D%3D&xkcb=SoDy-_M3QQpa9PwFhh0PbzkdCdPP&sjdu=HJWaU_D24Fcbrf6ldG6CCkh9-oJznoKxQdt1cUZAGrOlkwMXW4r2G4IZhKG072vQEpU3rk5AQmKmj9FpGVH5VMCe2lzsoUK-spYUhAmlbNGYiXgP9u-NfHNL0awYWsTrGIBEzOycagjAQcIYxwHZi848EEayOOvZcrmhvcsKGdMc5vRBBUy0PxnM-Sg3PbGBXiuumkITllMfO8k8vM9ppw&vjfrom=serp&astse=b5180b7e24d4e789&assa=6553',\n",
       "  'Description': 'Software Engineering \\n   \\n\\n\\n\\n    Westbury \\n   \\n\\n\\nAbout the Role\\n\\n    We have a very exciting opportunity for you to join us on a 12 month placement. This is ideal if you are a student who is studying a degree which includes a year in employment. Positions are available at our C6ISR business, in Gloucester, our Training and Logistics Solutions business, in Westbury, and our Integrated Systems business, in Havant - some positions may be available for remote working.\\n    \\n You will be responsible for tasks as assigned by the Software Lead.\\n    \\n Duties include:\\n    \\n Working with senior engineers during requirements analysis ‚Äì converting operational needs into technical requirements specifications.\\n Contributing to design of high level software architectures.\\n Develop software according to requirements and department processes.\\n Supporting implementation teams throughout development, testing, and system acceptance phases.\\n Supporting Integration & Test team during formal test phases.\\n Supporting technical investigations of problems raised against the operational systems.\\n Producing, collecting and reporting appropriate metrics showing progress.\\n Using Metrics to guide decisions and for management reporting.\\n If successful in this position, you will be exposed to several disciplines (Systems, Software Engineering, Integration & Test, and Infrastructure) during the placement, and will work on all stages of the Software Development Lifecycle.\\n   \\n\\n\\nRequired skills, qualifications and experience\\n\\n\\nWorking towards a degree in Computer Science, Software Engineering, Systems Engineering or other Engineering, Mathematics or Science degree.\\n Good communication skills.\\n Ability to work well in a team environment.\\n Good IT skills in a range of SW packages.\\n Ability to prioritise own tasking to meet program needs.\\n\\n\\n\\n\\nJob Reference Number\\n\\n    12986BR\\n   \\n\\n\\nEmployee Type\\n\\n    Full Time \\n   \\n\\n\\nHours Per Week\\n\\n    37.5\\n   \\n\\n\\nWorking Schedule\\n\\n    4xFlex\\n   \\n\\n\\nCountry\\n\\n    United Kingdom (UK) \\n   \\n\\n\\nClearance Required for Role\\n\\n    BPSS, SC\\n   \\n\\n\\nGraduate, Intern or Apprentice Vacancy?\\n\\n    Yes\\n   \\n\\n\\nWhat we offer you\\n\\n    At Lockheed Martin our employees come first and therefore your physical, mental and financial wellbeing matters to us. On top of working in a highly supportive, friendly, respectful environment you can expect so much more.\\n     We are an employer in support of and offering \\n    Flexible working with the option to also work a \\n    4 day week depending on business requirements, where you have the option of Fridays off. We offer Competitive salaries alongside a flexible holiday entitlement.\\n     We have a Wealth of benefits available to you that can be selected through our wellbeing tool upon commencement of employment. Just a few of our amazing benefits are shown below:\\n    \\n\\n Private Medical Insurance\\n Competitive Pension\\n Dental\\n Critical Illness\\n Life Assurance\\n Travel Insurance\\n Employee discounts for top high street shops\\n Employee Assistance Program which includes free face to face counseling sessions, Legal advice, Financial advice, etc\\n Internal training and development alongside out Education assistance programmes\\n Reimbursement for a professional membership\\n Competitive policies that support flexibility and family leave inclusive of enhanced maternity leave\\n\\n\\n\\n\\nBusiness Environment\\n\\n    Lockheed Martin Rotary and Mission Systems (RMS) provides systems engineering, software development, training solutions and complex program management for global security, civil and commercial markets. Simply stated, our mission is to be the world‚Äôs leading global security and aerospace company. To achieve this mission, RMS draws on its core capabilities in advanced platforms and weapons, C4ISR, global sustainment, training and sensors.\\n   \\n\\n\\nEqual Opportunity Statement\\n\\n    Lockheed Martin recognises and actively promotes the benefits of a diverse workforce and is committed to treating all employees with dignity and respect regardless of race, gender, disability, age, sexual orientation, religion or belief. Discrimination on\\n   \\n\\n\\nJob Expires\\n\\n    11/04/2024'}]"
      ]
     },
     "execution_count": 53,
     "metadata": {},
     "output_type": "execute_result"
    }
   ],
   "source": [
    "ret"
   ]
  },
  {
   "cell_type": "code",
   "execution_count": 54,
   "id": "d2539d3c",
   "metadata": {},
   "outputs": [
    {
     "data": {
      "text/html": [
       "<div>\n",
       "<style scoped>\n",
       "    .dataframe tbody tr th:only-of-type {\n",
       "        vertical-align: middle;\n",
       "    }\n",
       "\n",
       "    .dataframe tbody tr th {\n",
       "        vertical-align: top;\n",
       "    }\n",
       "\n",
       "    .dataframe thead th {\n",
       "        text-align: right;\n",
       "    }\n",
       "</style>\n",
       "<table border=\"1\" class=\"dataframe\">\n",
       "  <thead>\n",
       "    <tr style=\"text-align: right;\">\n",
       "      <th></th>\n",
       "      <th>Position</th>\n",
       "      <th>Company</th>\n",
       "      <th>Link</th>\n",
       "      <th>Description</th>\n",
       "    </tr>\n",
       "  </thead>\n",
       "  <tbody>\n",
       "    <tr>\n",
       "      <th>0</th>\n",
       "      <td>Technical Content Developer / writer</td>\n",
       "      <td>Korber Supply Chain</td>\n",
       "      <td>https://uk.indeed.com/pagead/clk?mo=r&amp;ad=-6NYl...</td>\n",
       "      <td>K√∂rber is the home for passionate people who ...</td>\n",
       "    </tr>\n",
       "    <tr>\n",
       "      <th>1</th>\n",
       "      <td>Software Engineer</td>\n",
       "      <td>Vodafone</td>\n",
       "      <td>https://uk.indeed.com/applystart?jk=df516aec25...</td>\n",
       "      <td>Software Engineer \\n\\n\\nLocation: Blended / ho...</td>\n",
       "    </tr>\n",
       "    <tr>\n",
       "      <th>2</th>\n",
       "      <td>Software Support Lead</td>\n",
       "      <td>Acacium Group</td>\n",
       "      <td>https://uk.indeed.com/pagead/clk?mo=r&amp;ad=-6NYl...</td>\n",
       "      <td>CHS Healthcare (part of Acacium Group)\\n Softw...</td>\n",
       "    </tr>\n",
       "    <tr>\n",
       "      <th>3</th>\n",
       "      <td>Backend Software Engineer</td>\n",
       "      <td>Enfuce</td>\n",
       "      <td>https://uk.indeed.com/applystart?jk=cef2e4b90b...</td>\n",
       "      <td>ABOUT US\\n Founded in 2016, Enfuce has become ...</td>\n",
       "    </tr>\n",
       "    <tr>\n",
       "      <th>4</th>\n",
       "      <td>Graduate Software Developer</td>\n",
       "      <td>Townhouse</td>\n",
       "      <td>https://uk.indeed.com/rc/clk?jk=511e448b6c4c01...</td>\n",
       "      <td>About Townhouse\\n Townhouse was created with a...</td>\n",
       "    </tr>\n",
       "    <tr>\n",
       "      <th>...</th>\n",
       "      <td>...</td>\n",
       "      <td>...</td>\n",
       "      <td>...</td>\n",
       "      <td>...</td>\n",
       "    </tr>\n",
       "    <tr>\n",
       "      <th>2408</th>\n",
       "      <td>Finance Analyst</td>\n",
       "      <td>PureGym Limited</td>\n",
       "      <td>https://uk.indeed.com/pagead/clk?mo=r&amp;ad=-6NYl...</td>\n",
       "      <td>The PureGym Group is the UKs largest gym opera...</td>\n",
       "    </tr>\n",
       "    <tr>\n",
       "      <th>2409</th>\n",
       "      <td>Data Protection Officer</td>\n",
       "      <td>BCT Resourcing</td>\n",
       "      <td>https://uk.indeed.com/applystart?jk=a6b9dec315...</td>\n",
       "      <td>We are looking for a Data Protection Officer t...</td>\n",
       "    </tr>\n",
       "    <tr>\n",
       "      <th>2410</th>\n",
       "      <td>P2P and Master Data Manager</td>\n",
       "      <td>Robert Half</td>\n",
       "      <td>https://uk.indeed.com/pagead/clk?mo=r&amp;ad=-6NYl...</td>\n",
       "      <td>Robert Half is partnering exclusively with one...</td>\n",
       "    </tr>\n",
       "    <tr>\n",
       "      <th>2411</th>\n",
       "      <td>Ecommerce Product Data Administrator Apprentice</td>\n",
       "      <td>QA Apprenticeships</td>\n",
       "      <td>https://uk.indeed.com/applystart?jk=975e1e47c6...</td>\n",
       "      <td>Employer description: ZLT Electrical are a fas...</td>\n",
       "    </tr>\n",
       "    <tr>\n",
       "      <th>2412</th>\n",
       "      <td>Data Admin</td>\n",
       "      <td>Lawrence Dean Recruitment</td>\n",
       "      <td>https://uk.indeed.com/pagead/clk?mo=r&amp;ad=-6NYl...</td>\n",
       "      <td>Our client a busy service orientated company b...</td>\n",
       "    </tr>\n",
       "  </tbody>\n",
       "</table>\n",
       "<p>2413 rows × 4 columns</p>\n",
       "</div>"
      ],
      "text/plain": [
       "                                             Position   \n",
       "0                Technical Content Developer / writer  \\\n",
       "1                                   Software Engineer   \n",
       "2                               Software Support Lead   \n",
       "3                           Backend Software Engineer   \n",
       "4                         Graduate Software Developer   \n",
       "...                                               ...   \n",
       "2408                                  Finance Analyst   \n",
       "2409                          Data Protection Officer   \n",
       "2410                      P2P and Master Data Manager   \n",
       "2411  Ecommerce Product Data Administrator Apprentice   \n",
       "2412                                       Data Admin   \n",
       "\n",
       "                        Company   \n",
       "0           Korber Supply Chain  \\\n",
       "1                      Vodafone   \n",
       "2                 Acacium Group   \n",
       "3                        Enfuce   \n",
       "4                     Townhouse   \n",
       "...                         ...   \n",
       "2408            PureGym Limited   \n",
       "2409             BCT Resourcing   \n",
       "2410                Robert Half   \n",
       "2411         QA Apprenticeships   \n",
       "2412  Lawrence Dean Recruitment   \n",
       "\n",
       "                                                   Link   \n",
       "0     https://uk.indeed.com/pagead/clk?mo=r&ad=-6NYl...  \\\n",
       "1     https://uk.indeed.com/applystart?jk=df516aec25...   \n",
       "2     https://uk.indeed.com/pagead/clk?mo=r&ad=-6NYl...   \n",
       "3     https://uk.indeed.com/applystart?jk=cef2e4b90b...   \n",
       "4     https://uk.indeed.com/rc/clk?jk=511e448b6c4c01...   \n",
       "...                                                 ...   \n",
       "2408  https://uk.indeed.com/pagead/clk?mo=r&ad=-6NYl...   \n",
       "2409  https://uk.indeed.com/applystart?jk=a6b9dec315...   \n",
       "2410  https://uk.indeed.com/pagead/clk?mo=r&ad=-6NYl...   \n",
       "2411  https://uk.indeed.com/applystart?jk=975e1e47c6...   \n",
       "2412  https://uk.indeed.com/pagead/clk?mo=r&ad=-6NYl...   \n",
       "\n",
       "                                            Description  \n",
       "0     K√∂rber is the home for passionate people who ...  \n",
       "1     Software Engineer \\n\\n\\nLocation: Blended / ho...  \n",
       "2     CHS Healthcare (part of Acacium Group)\\n Softw...  \n",
       "3     ABOUT US\\n Founded in 2016, Enfuce has become ...  \n",
       "4     About Townhouse\\n Townhouse was created with a...  \n",
       "...                                                 ...  \n",
       "2408  The PureGym Group is the UKs largest gym opera...  \n",
       "2409  We are looking for a Data Protection Officer t...  \n",
       "2410  Robert Half is partnering exclusively with one...  \n",
       "2411  Employer description: ZLT Electrical are a fas...  \n",
       "2412  Our client a busy service orientated company b...  \n",
       "\n",
       "[2413 rows x 4 columns]"
      ]
     },
     "execution_count": 54,
     "metadata": {},
     "output_type": "execute_result"
    }
   ],
   "source": [
    "data"
   ]
  },
  {
   "cell_type": "code",
   "execution_count": 55,
   "id": "3746d7ae",
   "metadata": {},
   "outputs": [],
   "source": [
    "data.to_csv('jobindeed.csv', index=False)"
   ]
  },
  {
   "cell_type": "code",
   "execution_count": null,
   "id": "5af39806",
   "metadata": {},
   "outputs": [],
   "source": []
  }
 ],
 "metadata": {
  "kernelspec": {
   "display_name": "Python 3.11.3 64-bit",
   "language": "python",
   "name": "python3"
  },
  "language_info": {
   "codemirror_mode": {
    "name": "ipython",
    "version": 3
   },
   "file_extension": ".py",
   "mimetype": "text/x-python",
   "name": "python",
   "nbconvert_exporter": "python",
   "pygments_lexer": "ipython3",
   "version": "3.11.3"
  },
  "vscode": {
   "interpreter": {
    "hash": "aee8b7b246df8f9039afb4144a1f6fd8d2ca17a180786b69acc140d282b71a49"
   }
  }
 },
 "nbformat": 4,
 "nbformat_minor": 5
}
